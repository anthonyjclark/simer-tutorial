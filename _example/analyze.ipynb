{
 "cells": [
  {
   "cell_type": "code",
   "execution_count": 1,
   "metadata": {},
   "outputs": [],
   "source": [
    "from pathlib import Path\n",
    "\n",
    "import matplotlib.patches as patches\n",
    "import matplotlib.pyplot as plt\n",
    "import numpy as np\n",
    "import pandas as pd\n",
    "import seaborn as sns\n",
    "from matplotlib.path import Path as mplPath\n",
    "\n",
    "sns.set_theme(style=\"ticks\", palette=\"pastel\")\n",
    "# sns.set_style(\"white\")\n",
    "sns.set_style(\"whitegrid\")\n",
    "# sns.set_context(\"poster\")\n",
    "sns.set_context(\"talk\")"
   ]
  },
  {
   "cell_type": "code",
   "execution_count": 2,
   "metadata": {},
   "outputs": [],
   "source": [
    "data_dir = Path(\"data\")\n",
    "replicate_name = \"trial\"\n",
    "\n",
    "limits = {\n",
    "    \"Wheel Radius\": (0.5, 1.5),\n",
    "    \"Chassis Length\": (1, 4),\n",
    "    \"Suspension Frequency\": (1, 8),\n",
    "    \"Suspension Damping\": (0.3, 0.9),\n",
    "    \"Sensor Limit\": (1, 15),\n",
    "    \"Speed Max\": (0, 10),\n",
    "    \"Speed Slope\": (0, 10),\n",
    "    \"Speed Intercept\": (-20, 20),\n",
    "}\n",
    "\n",
    "objectives = {\n",
    "    \"Final Distance\": (0, 17),\n",
    "    \"Final Speed\": (0, 10),\n",
    "    \"Hit Wall\": (0, 1),\n",
    "    \"Wheel Radius\": (0.5, 1.5),\n",
    "    \"Index At Rest\": (0, 2008),\n",
    "}"
   ]
  },
  {
   "cell_type": "code",
   "execution_count": 3,
   "metadata": {},
   "outputs": [
    {
     "data": {
      "text/html": [
       "<div>\n",
       "<style scoped>\n",
       "    .dataframe tbody tr th:only-of-type {\n",
       "        vertical-align: middle;\n",
       "    }\n",
       "\n",
       "    .dataframe tbody tr th {\n",
       "        vertical-align: top;\n",
       "    }\n",
       "\n",
       "    .dataframe thead th {\n",
       "        text-align: right;\n",
       "    }\n",
       "</style>\n",
       "<table border=\"1\" class=\"dataframe\">\n",
       "  <thead>\n",
       "    <tr style=\"text-align: right;\">\n",
       "      <th></th>\n",
       "      <th>Generation</th>\n",
       "      <th>Worst Feasibility</th>\n",
       "      <th>Average Feasibility</th>\n",
       "      <th>Best Feasibility</th>\n",
       "      <th>Worst Objective</th>\n",
       "      <th>Average Objective</th>\n",
       "      <th>Best Objective</th>\n",
       "      <th>Trial</th>\n",
       "    </tr>\n",
       "  </thead>\n",
       "  <tbody>\n",
       "    <tr>\n",
       "      <th>0</th>\n",
       "      <td>0</td>\n",
       "      <td>-0.709194</td>\n",
       "      <td>-0.121974</td>\n",
       "      <td>0.0</td>\n",
       "      <td>0.000000</td>\n",
       "      <td>0.927463</td>\n",
       "      <td>3.340974</td>\n",
       "      <td>5</td>\n",
       "    </tr>\n",
       "    <tr>\n",
       "      <th>1</th>\n",
       "      <td>1</td>\n",
       "      <td>-0.140561</td>\n",
       "      <td>-0.003981</td>\n",
       "      <td>0.0</td>\n",
       "      <td>0.000000</td>\n",
       "      <td>2.110310</td>\n",
       "      <td>3.504202</td>\n",
       "      <td>5</td>\n",
       "    </tr>\n",
       "    <tr>\n",
       "      <th>2</th>\n",
       "      <td>2</td>\n",
       "      <td>0.000000</td>\n",
       "      <td>0.000000</td>\n",
       "      <td>0.0</td>\n",
       "      <td>1.842565</td>\n",
       "      <td>2.651699</td>\n",
       "      <td>3.703555</td>\n",
       "      <td>5</td>\n",
       "    </tr>\n",
       "    <tr>\n",
       "      <th>3</th>\n",
       "      <td>3</td>\n",
       "      <td>0.000000</td>\n",
       "      <td>0.000000</td>\n",
       "      <td>0.0</td>\n",
       "      <td>-11.205451</td>\n",
       "      <td>2.862869</td>\n",
       "      <td>3.727198</td>\n",
       "      <td>5</td>\n",
       "    </tr>\n",
       "    <tr>\n",
       "      <th>4</th>\n",
       "      <td>4</td>\n",
       "      <td>-0.056347</td>\n",
       "      <td>-0.001045</td>\n",
       "      <td>0.0</td>\n",
       "      <td>0.000000</td>\n",
       "      <td>3.009100</td>\n",
       "      <td>3.776842</td>\n",
       "      <td>5</td>\n",
       "    </tr>\n",
       "    <tr>\n",
       "      <th>...</th>\n",
       "      <td>...</td>\n",
       "      <td>...</td>\n",
       "      <td>...</td>\n",
       "      <td>...</td>\n",
       "      <td>...</td>\n",
       "      <td>...</td>\n",
       "      <td>...</td>\n",
       "      <td>...</td>\n",
       "    </tr>\n",
       "    <tr>\n",
       "      <th>995</th>\n",
       "      <td>95</td>\n",
       "      <td>0.000000</td>\n",
       "      <td>0.000000</td>\n",
       "      <td>0.0</td>\n",
       "      <td>1.536893</td>\n",
       "      <td>3.716345</td>\n",
       "      <td>3.873043</td>\n",
       "      <td>7</td>\n",
       "    </tr>\n",
       "    <tr>\n",
       "      <th>996</th>\n",
       "      <td>96</td>\n",
       "      <td>-0.032744</td>\n",
       "      <td>-0.000327</td>\n",
       "      <td>0.0</td>\n",
       "      <td>0.000000</td>\n",
       "      <td>3.591752</td>\n",
       "      <td>3.873043</td>\n",
       "      <td>7</td>\n",
       "    </tr>\n",
       "    <tr>\n",
       "      <th>997</th>\n",
       "      <td>97</td>\n",
       "      <td>0.000000</td>\n",
       "      <td>0.000000</td>\n",
       "      <td>0.0</td>\n",
       "      <td>-1.296322</td>\n",
       "      <td>3.613267</td>\n",
       "      <td>3.873043</td>\n",
       "      <td>7</td>\n",
       "    </tr>\n",
       "    <tr>\n",
       "      <th>998</th>\n",
       "      <td>98</td>\n",
       "      <td>0.000000</td>\n",
       "      <td>0.000000</td>\n",
       "      <td>0.0</td>\n",
       "      <td>-15.680716</td>\n",
       "      <td>3.410942</td>\n",
       "      <td>3.873043</td>\n",
       "      <td>7</td>\n",
       "    </tr>\n",
       "    <tr>\n",
       "      <th>999</th>\n",
       "      <td>99</td>\n",
       "      <td>0.000000</td>\n",
       "      <td>0.000000</td>\n",
       "      <td>0.0</td>\n",
       "      <td>1.401970</td>\n",
       "      <td>3.678129</td>\n",
       "      <td>3.873043</td>\n",
       "      <td>7</td>\n",
       "    </tr>\n",
       "  </tbody>\n",
       "</table>\n",
       "<p>1000 rows × 8 columns</p>\n",
       "</div>"
      ],
      "text/plain": [
       "     Generation  Worst Feasibility  Average Feasibility  Best Feasibility  \\\n",
       "0             0          -0.709194            -0.121974               0.0   \n",
       "1             1          -0.140561            -0.003981               0.0   \n",
       "2             2           0.000000             0.000000               0.0   \n",
       "3             3           0.000000             0.000000               0.0   \n",
       "4             4          -0.056347            -0.001045               0.0   \n",
       "..          ...                ...                  ...               ...   \n",
       "995          95           0.000000             0.000000               0.0   \n",
       "996          96          -0.032744            -0.000327               0.0   \n",
       "997          97           0.000000             0.000000               0.0   \n",
       "998          98           0.000000             0.000000               0.0   \n",
       "999          99           0.000000             0.000000               0.0   \n",
       "\n",
       "     Worst Objective  Average Objective  Best Objective Trial  \n",
       "0           0.000000           0.927463        3.340974     5  \n",
       "1           0.000000           2.110310        3.504202     5  \n",
       "2           1.842565           2.651699        3.703555     5  \n",
       "3         -11.205451           2.862869        3.727198     5  \n",
       "4           0.000000           3.009100        3.776842     5  \n",
       "..               ...                ...             ...   ...  \n",
       "995         1.536893           3.716345        3.873043     7  \n",
       "996         0.000000           3.591752        3.873043     7  \n",
       "997        -1.296322           3.613267        3.873043     7  \n",
       "998       -15.680716           3.410942        3.873043     7  \n",
       "999         1.401970           3.678129        3.873043     7  \n",
       "\n",
       "[1000 rows x 8 columns]"
      ]
     },
     "execution_count": 3,
     "metadata": {},
     "output_type": "execute_result"
    }
   ],
   "source": [
    "files = data_dir.glob(\"*-generations.csv\")\n",
    "\n",
    "partial_dfs = []\n",
    "\n",
    "for f in files:\n",
    "    trial = f.stem.split(replicate_name)[1].split(\"-\")[0]\n",
    "    df_partial = pd.read_csv(f)\n",
    "    df_partial[\"Trial\"] = trial\n",
    "\n",
    "    partial_dfs.append(df_partial)\n",
    "\n",
    "df = pd.concat(partial_dfs, ignore_index=True)\n",
    "df"
   ]
  },
  {
   "cell_type": "code",
   "execution_count": 4,
   "metadata": {},
   "outputs": [
    {
     "data": {
      "image/png": "[encoded data removed]",
      "text/plain": [
       "<Figure size 432x288 with 1 Axes>"
      ]
     },
     "metadata": {
      "needs_background": "light"
     },
     "output_type": "display_data"
    }
   ],
   "source": [
    "sns.lineplot(x=\"Generation\", y=\"Best Objective\", data=df)\n",
    "sns.lineplot(x=\"Generation\", y=\"Average Objective\", data=df)\n",
    "# plt.legend([\"Best\", \"Best-Conf\", \"Average\", \"Average-Conf\"])\n",
    "# sns_plot.figure.savefig(\"generations.png\")  # type: ignore\n",
    "sns.despine()"
   ]
  },
  {
   "cell_type": "code",
   "execution_count": 5,
   "metadata": {},
   "outputs": [],
   "source": [
    "import plotly.express as px\n",
    "import plotly.graph_objs as go\n",
    "import plotly.io as pio\n",
    "from plotly.subplots import make_subplots\n",
    "\n",
    "pio.templates.default = \"plotly_white\""
   ]
  },
  {
   "cell_type": "code",
   "execution_count": 6,
   "metadata": {},
   "outputs": [
    {
     "data": {
      "application/vnd.plotly.v1+json": {
       "config": {
        "plotlyServerURL": "https://plot.ly"
       },
       "data": [
        {
         "line": {
          "color": "rgb(27,158,119)"
         },
         "mode": "lines",
         "name": "Best Objective",
         "type": "scatter",
         "x": [
          0,
          1,
          2,
          3,
          4,
          5,
          6,
          7,
          8,
          9,
          10,
          11,
          12,
          13,
          14,
          15,
          16,
          17,
          18,
          19,
          20,
          21,
          22,
          23,
          24,
          25,
          26,
          27,
          28,
          29,
          30,
          31,
          32,
          33,
          34,
          35,
          36,
          37,
          38,
          39,
          40,
          41,
          42,
          43,
          44,
          45,
          46,
          47,
          48,
          49,
          50,
          51,
          52,
          53,
          54,
          55,
          56,
          57,
          58,
          59,
          60,
          61,
          62,
          63,
          64,
          65,
          66,
          67,
          68,
          69,
          70,
          71,
          72,
          73,
          74,
          75,
          76,
          77,
          78,
          79,
          80,
          81,
          82,
          83,
          84,
          85,
          86,
          87,
          88,
          89,
          90,
          91,
          92,
          93,
          94,
          95,
          96,
          97,
          98,
          99
         ],
         "y": [
          3.5913909175489698,
          3.641754403609803,
          3.718423898855073,
          3.7435948150792933,
          3.7683382023262295,
          3.783261901475059,
          3.8005756388149363,
          3.8112988061795137,
          3.818059789935867,
          3.8283695765784955,
          3.8314000560742394,
          3.8371896392403726,
          3.8408585977986602,
          3.8446742762083135,
          3.8470233625726804,
          3.847624550346301,
          3.850749267323148,
          3.8523239390283734,
          3.8531962781929088,
          3.854379872857283,
          3.8551403683039234,
          3.8556707319931016,
          3.8557108881173305,
          3.8569128312813996,
          3.85924275574641,
          3.8597218443531127,
          3.8613651311198005,
          3.861490873171891,
          3.861620912011259,
          3.8624221507950955,
          3.8632765033717504,
          3.8642335641550787,
          3.8646581668974287,
          3.865118439014475,
          3.8651319532617814,
          3.8652575465105357,
          3.8654654853670998,
          3.866191024034074,
          3.8664688607745843,
          3.8666087561519076,
          3.8666481250578153,
          3.8667643554419704,
          3.8667643554419704,
          3.866970083945701,
          3.8673636477099436,
          3.8675376114063424,
          3.868105126128551,
          3.8682767105907727,
          3.8684546697096645,
          3.8685982879105105,
          3.8687137022461657,
          3.8687190428510654,
          3.8690812370675856,
          3.8692947094657795,
          3.8692947094657795,
          3.869411550494731,
          3.870198203245333,
          3.870198203245333,
          3.8703174584907103,
          3.8703312176895786,
          3.870340596515951,
          3.8703515143043843,
          3.870681214109581,
          3.8709033714182217,
          3.8709033842090412,
          3.87128624864418,
          3.8716686444708097,
          3.8717079327050152,
          3.8717204155178857,
          3.8719111019607113,
          3.872079196000135,
          3.8721336640878774,
          3.8721374714746233,
          3.8721389461267917,
          3.872449390730501,
          3.8724532063089883,
          3.8725604756687275,
          3.8726358115845967,
          3.8726522594081247,
          3.8726522594081247,
          3.8726522594081247,
          3.872661773000965,
          3.872862250264144,
          3.8729375458047848,
          3.8729964985443095,
          3.872996586560563,
          3.8729967017011617,
          3.8729967017011617,
          3.8731397824425384,
          3.8732247496424996,
          3.8732247496424996,
          3.8732247496424996,
          3.8733753340037724,
          3.8740363359477477,
          3.8740393868408303,
          3.8741605724088566,
          3.8741644601982843,
          3.8741660500323802,
          3.874293255789523,
          3.874293255789523
         ]
        },
        {
         "line": {
          "width": 0
         },
         "marker": {
          "color": "#444"
         },
         "mode": "lines",
         "name": "95% CI Upper",
         "showlegend": false,
         "type": "scatter",
         "x": [
          0,
          1,
          2,
          3,
          4,
          5,
          6,
          7,
          8,
          9,
          10,
          11,
          12,
          13,
          14,
          15,
          16,
          17,
          18,
          19,
          20,
          21,
          22,
          23,
          24,
          25,
          26,
          27,
          28,
          29,
          30,
          31,
          32,
          33,
          34,
          35,
          36,
          37,
          38,
          39,
          40,
          41,
          42,
          43,
          44,
          45,
          46,
          47,
          48,
          49,
          50,
          51,
          52,
          53,
          54,
          55,
          56,
          57,
          58,
          59,
          60,
          61,
          62,
          63,
          64,
          65,
          66,
          67,
          68,
          69,
          70,
          71,
          72,
          73,
          74,
          75,
          76,
          77,
          78,
          79,
          80,
          81,
          82,
          83,
          84,
          85,
          86,
          87,
          88,
          89,
          90,
          91,
          92,
          93,
          94,
          95,
          96,
          97,
          98,
          99
         ],
         "y": [
          3.7111419731237416,
          3.726546883422357,
          3.7844639930460824,
          3.7976949380623863,
          3.8117443207288653,
          3.8212947519626907,
          3.8337303268677405,
          3.8377755388937906,
          3.838605077760081,
          3.8375483792418286,
          3.8402535904913826,
          3.8450999745905667,
          3.8494200414792163,
          3.8535590335322523,
          3.8549008017717745,
          3.8554622331907327,
          3.8586259475624893,
          3.8603808665471813,
          3.861866562073361,
          3.8632480130828055,
          3.864241754375536,
          3.8647415211639267,
          3.8647851566742912,
          3.865001575302364,
          3.866678327080929,
          3.867203579345003,
          3.8684657798010575,
          3.868618846235031,
          3.8685796956170257,
          3.8696936124630277,
          3.8706982389404203,
          3.870809155996081,
          3.8711190584563893,
          3.8716962937685993,
          3.8717173605250097,
          3.871680620891538,
          3.871950436457621,
          3.8728572699643347,
          3.8731480118711796,
          3.873304366265137,
          3.873324983484615,
          3.8734911830031207,
          3.8734911830031207,
          3.873816434723247,
          3.8744513286340845,
          3.874703411968373,
          3.874928860714367,
          3.8752023580213475,
          3.8752237076911196,
          3.8754081676454994,
          3.8754762977534485,
          3.8754770735654787,
          3.876001082374838,
          3.876190522231981,
          3.876190522231981,
          3.876365453120709,
          3.877004989910555,
          3.877004989910555,
          3.8771498192757474,
          3.877174146477988,
          3.8771842239248273,
          3.8771936818422446,
          3.877570606126751,
          3.877687443401001,
          3.8776874567603343,
          3.878063177315874,
          3.8785132473022195,
          3.8785676307652412,
          3.8785783267958642,
          3.878729028734234,
          3.878903342993257,
          3.8789861358478057,
          3.878985772529428,
          3.878985504304576,
          3.879447361478141,
          3.879451175386406,
          3.8795714990568304,
          3.8797023778066366,
          3.8797236450652104,
          3.8797236450652104,
          3.8797236450652104,
          3.87973742361845,
          3.8799575526756636,
          3.8799448677824944,
          3.8799867949684073,
          3.879986926663378,
          3.8799869143581778,
          3.8799869143581778,
          3.8801532126109173,
          3.8802819220758615,
          3.8802819220758615,
          3.8802819220758615,
          3.8804640928343175,
          3.880549199477783,
          3.8805528501366657,
          3.8807419760229673,
          3.8807486342080115,
          3.880749585880309,
          3.8809065923028285,
          3.8809065923028285
         ]
        },
        {
         "fill": "tonexty",
         "fillcolor": "rgba(179,226,205, 0.3)",
         "line": {
          "width": 0
         },
         "marker": {
          "color": "#444"
         },
         "mode": "lines",
         "name": "95 CI Lower",
         "showlegend": false,
         "type": "scatter",
         "x": [
          0,
          1,
          2,
          3,
          4,
          5,
          6,
          7,
          8,
          9,
          10,
          11,
          12,
          13,
          14,
          15,
          16,
          17,
          18,
          19,
          20,
          21,
          22,
          23,
          24,
          25,
          26,
          27,
          28,
          29,
          30,
          31,
          32,
          33,
          34,
          35,
          36,
          37,
          38,
          39,
          40,
          41,
          42,
          43,
          44,
          45,
          46,
          47,
          48,
          49,
          50,
          51,
          52,
          53,
          54,
          55,
          56,
          57,
          58,
          59,
          60,
          61,
          62,
          63,
          64,
          65,
          66,
          67,
          68,
          69,
          70,
          71,
          72,
          73,
          74,
          75,
          76,
          77,
          78,
          79,
          80,
          81,
          82,
          83,
          84,
          85,
          86,
          87,
          88,
          89,
          90,
          91,
          92,
          93,
          94,
          95,
          96,
          97,
          98,
          99
         ],
         "y": [
          3.471639861974198,
          3.556961923797249,
          3.6523838046640638,
          3.6894946920962,
          3.7249320839235938,
          3.7452290509874273,
          3.767420950762132,
          3.7848220734652367,
          3.7975145021116528,
          3.8191907739151625,
          3.822546521657096,
          3.8292793038901785,
          3.832297154118104,
          3.8357895188843747,
          3.8391459233735863,
          3.8397868675018696,
          3.8428725870838067,
          3.8442670115095656,
          3.8445259943124563,
          3.8455117326317607,
          3.8460389822323107,
          3.8465999428222766,
          3.84663661956037,
          3.8488240872604353,
          3.851807184411891,
          3.8522401093612224,
          3.8542644824385435,
          3.854362900108751,
          3.854662128405492,
          3.8551506891271634,
          3.8558547678030806,
          3.8576579723140765,
          3.858197275338468,
          3.8585405842603504,
          3.858546545998553,
          3.858834472129533,
          3.8589805342765784,
          3.8595247781038133,
          3.859789709677989,
          3.859913146038678,
          3.8599712666310158,
          3.86003752788082,
          3.86003752788082,
          3.860123733168155,
          3.8602759667858026,
          3.860371810844312,
          3.861281391542735,
          3.861351063160198,
          3.8616856317282093,
          3.8617884081755216,
          3.861951106738883,
          3.861961012136652,
          3.862161391760333,
          3.862398896699578,
          3.862398896699578,
          3.8624576478687533,
          3.8633914165801104,
          3.8633914165801104,
          3.863485097705673,
          3.863488288901169,
          3.8634969691070746,
          3.863509346766524,
          3.863791822092411,
          3.8641192994354423,
          3.864119311657748,
          3.864509319972486,
          3.8648240416394,
          3.864848234644789,
          3.864862504239907,
          3.8650931751871886,
          3.865255049007013,
          3.865281192327949,
          3.8652891704198185,
          3.8652923879490073,
          3.8654514199828607,
          3.8654552372315707,
          3.8655494522806246,
          3.8655692453625567,
          3.865580873751039,
          3.865580873751039,
          3.865580873751039,
          3.8655861223834798,
          3.8657669478526246,
          3.865930223827075,
          3.8660062021202117,
          3.8660062464577476,
          3.8660064890441457,
          3.8660064890441457,
          3.8661263522741596,
          3.8661675772091377,
          3.8661675772091377,
          3.8661675772091377,
          3.8662865751732274,
          3.8675234724177123,
          3.867525923544995,
          3.867579168794746,
          3.867580286188557,
          3.8675825141844515,
          3.8676799192762177,
          3.8676799192762177
         ]
        },
        {
         "line": {
          "color": "rgb(217,95,2)"
         },
         "mode": "lines",
         "name": "Average Objective",
         "type": "scatter",
         "x": [
          0,
          1,
          2,
          3,
          4,
          5,
          6,
          7,
          8,
          9,
          10,
          11,
          12,
          13,
          14,
          15,
          16,
          17,
          18,
          19,
          20,
          21,
          22,
          23,
          24,
          25,
          26,
          27,
          28,
          29,
          30,
          31,
          32,
          33,
          34,
          35,
          36,
          37,
          38,
          39,
          40,
          41,
          42,
          43,
          44,
          45,
          46,
          47,
          48,
          49,
          50,
          51,
          52,
          53,
          54,
          55,
          56,
          57,
          58,
          59,
          60,
          61,
          62,
          63,
          64,
          65,
          66,
          67,
          68,
          69,
          70,
          71,
          72,
          73,
          74,
          75,
          76,
          77,
          78,
          79,
          80,
          81,
          82,
          83,
          84,
          85,
          86,
          87,
          88,
          89,
          90,
          91,
          92,
          93,
          94,
          95,
          96,
          97,
          98,
          99
         ],
         "y": [
          0.9560599350707661,
          2.1258756189385983,
          2.6406190507689042,
          2.890426220919747,
          3.0003481204577778,
          3.200955023096769,
          3.3189838551559676,
          3.366962546921644,
          3.3726595836315156,
          3.4012615898696397,
          3.405276751645001,
          3.4134299016193794,
          3.4308948886453505,
          3.4011196818205933,
          3.5254997319130887,
          3.556241510179446,
          3.478568516632879,
          3.5256700118207456,
          3.583661107661932,
          3.5238992533174467,
          3.541474497469806,
          3.567532196372691,
          3.4546135816964805,
          3.5206719044903094,
          3.4860507587823073,
          3.442410324749455,
          3.5174353347527885,
          3.443029969536826,
          3.50117694588821,
          3.549583415991826,
          3.4989021644610574,
          3.5236060431517346,
          3.6155265421407288,
          3.461099521078083,
          3.542492272513254,
          3.4685597831514103,
          3.5401387754740887,
          3.493656754653215,
          3.5416502462444273,
          3.529168117507475,
          3.4550364835141982,
          3.546440090280875,
          3.4854532862451704,
          3.532581329586896,
          3.5271304450458465,
          3.5275153077220467,
          3.484952670269273,
          3.5065648895199084,
          3.5803493751543387,
          3.463034137377594,
          3.529348362155833,
          3.5063427175158735,
          3.5507210597108787,
          3.5474271269360345,
          3.525919921930547,
          3.493970439223111,
          3.500882361292142,
          3.525690120349894,
          3.496249249299288,
          3.5587352220508968,
          3.5281962005328324,
          3.5091327198538202,
          3.493470232669852,
          3.5581669588435574,
          3.5185300101000316,
          3.4985205852982633,
          3.498570786647554,
          3.507019996040737,
          3.522571123504038,
          3.4505320740208285,
          3.510695497331563,
          3.4774813765967982,
          3.541955504787574,
          3.508149448935155,
          3.5026588971414085,
          3.5592627447221448,
          3.5754281131006707,
          3.457657436207666,
          3.5183616469636014,
          3.553736768347958,
          3.4841345643098287,
          3.5331499853670048,
          3.5379294317413192,
          3.500502461059387,
          3.50988186695711,
          3.570516444157294,
          3.4628323413298054,
          3.5458523068601577,
          3.5288011823294516,
          3.4528320278914477,
          3.4953791616494505,
          3.498969017668901,
          3.5230758853712247,
          3.5456902272125617,
          3.552285342836776,
          3.52605433922149,
          3.5111586331566507,
          3.5285099948420027,
          3.493194522784575,
          3.5179684802435
         ]
        },
        {
         "line": {
          "width": 0
         },
         "marker": {
          "color": "#444"
         },
         "mode": "lines",
         "name": "95% CI Upper",
         "showlegend": false,
         "type": "scatter",
         "x": [
          0,
          1,
          2,
          3,
          4,
          5,
          6,
          7,
          8,
          9,
          10,
          11,
          12,
          13,
          14,
          15,
          16,
          17,
          18,
          19,
          20,
          21,
          22,
          23,
          24,
          25,
          26,
          27,
          28,
          29,
          30,
          31,
          32,
          33,
          34,
          35,
          36,
          37,
          38,
          39,
          40,
          41,
          42,
          43,
          44,
          45,
          46,
          47,
          48,
          49,
          50,
          51,
          52,
          53,
          54,
          55,
          56,
          57,
          58,
          59,
          60,
          61,
          62,
          63,
          64,
          65,
          66,
          67,
          68,
          69,
          70,
          71,
          72,
          73,
          74,
          75,
          76,
          77,
          78,
          79,
          80,
          81,
          82,
          83,
          84,
          85,
          86,
          87,
          88,
          89,
          90,
          91,
          92,
          93,
          94,
          95,
          96,
          97,
          98,
          99
         ],
         "y": [
          1.067180444123075,
          2.2129593871559443,
          2.679457656235681,
          2.9741759868442132,
          3.133476569706769,
          3.300389844952427,
          3.441273508999604,
          3.460042673302923,
          3.5209581160121814,
          3.530132207014989,
          3.556508737383903,
          3.5406025660579408,
          3.5604989768532147,
          3.6128620554225575,
          3.599291353589753,
          3.655830570400858,
          3.600893938349722,
          3.5908219662960104,
          3.677580560136972,
          3.615709376373895,
          3.5906095331052668,
          3.6156400585650843,
          3.567849049315456,
          3.60338497793731,
          3.568341758259526,
          3.551866427861033,
          3.6164029300238627,
          3.575231700261626,
          3.6008403431696454,
          3.6299952144284657,
          3.5818708658322618,
          3.6180744778617244,
          3.674191459822895,
          3.5223150436826907,
          3.6016042885988564,
          3.6064121910421583,
          3.5898462659288475,
          3.6005747181371417,
          3.621332882484302,
          3.6067821398256257,
          3.611775667843392,
          3.6254157079151272,
          3.5761207543853675,
          3.6411332060491985,
          3.598815656334953,
          3.5951542497065874,
          3.553869178449053,
          3.5990463966055137,
          3.646810513800743,
          3.5827322837318794,
          3.592209504237654,
          3.5899199647200133,
          3.6313283606316964,
          3.614319281441957,
          3.611294997062893,
          3.5647180317531078,
          3.601094437041495,
          3.5875851346051446,
          3.5574334883096976,
          3.596653238381631,
          3.583331725327653,
          3.6057717072768343,
          3.58830802714242,
          3.623765260016546,
          3.579073688563723,
          3.6178026062520137,
          3.5843142316571495,
          3.564042508003862,
          3.5852045279778753,
          3.5542204302598965,
          3.5750981445773586,
          3.5926226817722187,
          3.6082546414914534,
          3.556236452840691,
          3.568847772825373,
          3.6298550400278735,
          3.631304117057719,
          3.5275592941176424,
          3.6283933844325347,
          3.6103292739833774,
          3.5630751520986905,
          3.6007394203043854,
          3.6242454767600036,
          3.582523665614492,
          3.6013165038221517,
          3.636391329853342,
          3.5209305134646462,
          3.5774706372763077,
          3.6136938560549305,
          3.5627178553253356,
          3.565891237349865,
          3.5594982967056854,
          3.5736902599225044,
          3.5925784825089613,
          3.599665348854428,
          3.6037768918553947,
          3.576143607424879,
          3.6030472850431843,
          3.5712379713750284,
          3.5763535935560737
         ]
        },
        {
         "fill": "tonexty",
         "fillcolor": "rgba(253,205,172, 0.3)",
         "line": {
          "width": 0
         },
         "marker": {
          "color": "#444"
         },
         "mode": "lines",
         "name": "95 CI Lower",
         "showlegend": false,
         "type": "scatter",
         "x": [
          0,
          1,
          2,
          3,
          4,
          5,
          6,
          7,
          8,
          9,
          10,
          11,
          12,
          13,
          14,
          15,
          16,
          17,
          18,
          19,
          20,
          21,
          22,
          23,
          24,
          25,
          26,
          27,
          28,
          29,
          30,
          31,
          32,
          33,
          34,
          35,
          36,
          37,
          38,
          39,
          40,
          41,
          42,
          43,
          44,
          45,
          46,
          47,
          48,
          49,
          50,
          51,
          52,
          53,
          54,
          55,
          56,
          57,
          58,
          59,
          60,
          61,
          62,
          63,
          64,
          65,
          66,
          67,
          68,
          69,
          70,
          71,
          72,
          73,
          74,
          75,
          76,
          77,
          78,
          79,
          80,
          81,
          82,
          83,
          84,
          85,
          86,
          87,
          88,
          89,
          90,
          91,
          92,
          93,
          94,
          95,
          96,
          97,
          98,
          99
         ],
         "y": [
          0.8449394260184572,
          2.0387918507212524,
          2.6017804453021274,
          2.806676454995281,
          2.8672196712087867,
          3.1015202012411107,
          3.196694201312331,
          3.273882420540365,
          3.22436105125085,
          3.27239097272429,
          3.2540447659060994,
          3.286257237180818,
          3.3012908004374864,
          3.189377308218629,
          3.4517081102364244,
          3.4566524499580336,
          3.3562430949160356,
          3.460518057345481,
          3.489741655186892,
          3.4320891302609984,
          3.492339461834345,
          3.5194243341802975,
          3.341378114077505,
          3.437958831043309,
          3.4037597593050886,
          3.3329542216378774,
          3.4184677394817142,
          3.310828238812026,
          3.4015135486067747,
          3.4691716175551863,
          3.415933463089853,
          3.429137608441745,
          3.5568616244585627,
          3.399883998473475,
          3.4833802564276515,
          3.3307073752606624,
          3.49043128501933,
          3.3867387911692886,
          3.4619676100045527,
          3.4515540951893247,
          3.2982972991850046,
          3.4674644726466224,
          3.3947858181049733,
          3.4240294531245934,
          3.45544523375674,
          3.459876365737506,
          3.4160361620894926,
          3.414083382434303,
          3.5138882365079342,
          3.343335991023309,
          3.466487220074012,
          3.4227654703117336,
          3.470113758790061,
          3.480534972430112,
          3.440544846798201,
          3.423222846693114,
          3.400670285542789,
          3.4637951060946435,
          3.4350650102888785,
          3.5208172057201623,
          3.473060675738012,
          3.4124937324308062,
          3.3986324381972843,
          3.4925686576705686,
          3.45798633163634,
          3.379238564344513,
          3.412827341637959,
          3.4499974840776124,
          3.4599377190302003,
          3.3468437177817605,
          3.4462928500857677,
          3.362340071421378,
          3.475656368083695,
          3.4600624450296187,
          3.436470021457444,
          3.488670449416416,
          3.519552109143622,
          3.38775557829769,
          3.408329909494668,
          3.4971442627125384,
          3.405193976520967,
          3.465560550429624,
          3.451613386722635,
          3.418481256504282,
          3.4184472300920685,
          3.504641558461246,
          3.4047341691949646,
          3.514233976444008,
          3.4439085086039727,
          3.34294620045756,
          3.424867085949036,
          3.438439738632116,
          3.472461510819945,
          3.498801971916162,
          3.5049053368191245,
          3.448331786587585,
          3.4461736588884224,
          3.453972704640821,
          3.415151074194122,
          3.459583366930926
         ]
        }
       ],
       "layout": {
        "hovermode": "x",
        "template": {
         "data": {
          "bar": [
           {
            "error_x": {
             "color": "#2a3f5f"
            },
            "error_y": {
             "color": "#2a3f5f"
            },
            "marker": {
             "line": {
              "color": "white",
              "width": 0.5
             },
             "pattern": {
              "fillmode": "overlay",
              "size": 10,
              "solidity": 0.2
             }
            },
            "type": "bar"
           }
          ],
          "barpolar": [
           {
            "marker": {
             "line": {
              "color": "white",
              "width": 0.5
             },
             "pattern": {
              "fillmode": "overlay",
              "size": 10,
              "solidity": 0.2
             }
            },
            "type": "barpolar"
           }
          ],
          "carpet": [
           {
            "aaxis": {
             "endlinecolor": "#2a3f5f",
             "gridcolor": "#C8D4E3",
             "linecolor": "#C8D4E3",
             "minorgridcolor": "#C8D4E3",
             "startlinecolor": "#2a3f5f"
            },
            "baxis": {
             "endlinecolor": "#2a3f5f",
             "gridcolor": "#C8D4E3",
             "linecolor": "#C8D4E3",
             "minorgridcolor": "#C8D4E3",
             "startlinecolor": "#2a3f5f"
            },
            "type": "carpet"
           }
          ],
          "choropleth": [
           {
            "colorbar": {
             "outlinewidth": 0,
             "ticks": ""
            },
            "type": "choropleth"
           }
          ],
          "contour": [
           {
            "colorbar": {
             "outlinewidth": 0,
             "ticks": ""
            },
            "colorscale": [
             [
              0,
              "#0d0887"
             ],
             [
              0.1111111111111111,
              "#46039f"
             ],
             [
              0.2222222222222222,
              "#7201a8"
             ],
             [
              0.3333333333333333,
              "#9c179e"
             ],
             [
              0.4444444444444444,
              "#bd3786"
             ],
             [
              0.5555555555555556,
              "#d8576b"
             ],
             [
              0.6666666666666666,
              "#ed7953"
             ],
             [
              0.7777777777777778,
              "#fb9f3a"
             ],
             [
              0.8888888888888888,
              "#fdca26"
             ],
             [
              1,
              "#f0f921"
             ]
            ],
            "type": "contour"
           }
          ],
          "contourcarpet": [
           {
            "colorbar": {
             "outlinewidth": 0,
             "ticks": ""
            },
            "type": "contourcarpet"
           }
          ],
          "heatmap": [
           {
            "colorbar": {
             "outlinewidth": 0,
             "ticks": ""
            },
            "colorscale": [
             [
              0,
              "#0d0887"
             ],
             [
              0.1111111111111111,
              "#46039f"
             ],
             [
              0.2222222222222222,
              "#7201a8"
             ],
             [
              0.3333333333333333,
              "#9c179e"
             ],
             [
              0.4444444444444444,
              "#bd3786"
             ],
             [
              0.5555555555555556,
              "#d8576b"
             ],
             [
              0.6666666666666666,
              "#ed7953"
             ],
             [
              0.7777777777777778,
              "#fb9f3a"
             ],
             [
              0.8888888888888888,
              "#fdca26"
             ],
             [
              1,
              "#f0f921"
             ]
            ],
            "type": "heatmap"
           }
          ],
          "heatmapgl": [
           {
            "colorbar": {
             "outlinewidth": 0,
             "ticks": ""
            },
            "colorscale": [
             [
              0,
              "#0d0887"
             ],
             [
              0.1111111111111111,
              "#46039f"
             ],
             [
              0.2222222222222222,
              "#7201a8"
             ],
             [
              0.3333333333333333,
              "#9c179e"
             ],
             [
              0.4444444444444444,
              "#bd3786"
             ],
             [
              0.5555555555555556,
              "#d8576b"
             ],
             [
              0.6666666666666666,
              "#ed7953"
             ],
             [
              0.7777777777777778,
              "#fb9f3a"
             ],
             [
              0.8888888888888888,
              "#fdca26"
             ],
             [
              1,
              "#f0f921"
             ]
            ],
            "type": "heatmapgl"
           }
          ],
          "histogram": [
           {
            "marker": {
             "pattern": {
              "fillmode": "overlay",
              "size": 10,
              "solidity": 0.2
             }
            },
            "type": "histogram"
           }
          ],
          "histogram2d": [
           {
            "colorbar": {
             "outlinewidth": 0,
             "ticks": ""
            },
            "colorscale": [
             [
              0,
              "#0d0887"
             ],
             [
              0.1111111111111111,
              "#46039f"
             ],
             [
              0.2222222222222222,
              "#7201a8"
             ],
             [
              0.3333333333333333,
              "#9c179e"
             ],
             [
              0.4444444444444444,
              "#bd3786"
             ],
             [
              0.5555555555555556,
              "#d8576b"
             ],
             [
              0.6666666666666666,
              "#ed7953"
             ],
             [
              0.7777777777777778,
              "#fb9f3a"
             ],
             [
              0.8888888888888888,
              "#fdca26"
             ],
             [
              1,
              "#f0f921"
             ]
            ],
            "type": "histogram2d"
           }
          ],
          "histogram2dcontour": [
           {
            "colorbar": {
             "outlinewidth": 0,
             "ticks": ""
            },
            "colorscale": [
             [
              0,
              "#0d0887"
             ],
             [
              0.1111111111111111,
              "#46039f"
             ],
             [
              0.2222222222222222,
              "#7201a8"
             ],
             [
              0.3333333333333333,
              "#9c179e"
             ],
             [
              0.4444444444444444,
              "#bd3786"
             ],
             [
              0.5555555555555556,
              "#d8576b"
             ],
             [
              0.6666666666666666,
              "#ed7953"
             ],
             [
              0.7777777777777778,
              "#fb9f3a"
             ],
             [
              0.8888888888888888,
              "#fdca26"
             ],
             [
              1,
              "#f0f921"
             ]
            ],
            "type": "histogram2dcontour"
           }
          ],
          "mesh3d": [
           {
            "colorbar": {
             "outlinewidth": 0,
             "ticks": ""
            },
            "type": "mesh3d"
           }
          ],
          "parcoords": [
           {
            "line": {
             "colorbar": {
              "outlinewidth": 0,
              "ticks": ""
             }
            },
            "type": "parcoords"
           }
          ],
          "pie": [
           {
            "automargin": true,
            "type": "pie"
           }
          ],
          "scatter": [
           {
            "fillpattern": {
             "fillmode": "overlay",
             "size": 10,
             "solidity": 0.2
            },
            "type": "scatter"
           }
          ],
          "scatter3d": [
           {
            "line": {
             "colorbar": {
              "outlinewidth": 0,
              "ticks": ""
             }
            },
            "marker": {
             "colorbar": {
              "outlinewidth": 0,
              "ticks": ""
             }
            },
            "type": "scatter3d"
           }
          ],
          "scattercarpet": [
           {
            "marker": {
             "colorbar": {
              "outlinewidth": 0,
              "ticks": ""
             }
            },
            "type": "scattercarpet"
           }
          ],
          "scattergeo": [
           {
            "marker": {
             "colorbar": {
              "outlinewidth": 0,
              "ticks": ""
             }
            },
            "type": "scattergeo"
           }
          ],
          "scattergl": [
           {
            "marker": {
             "colorbar": {
              "outlinewidth": 0,
              "ticks": ""
             }
            },
            "type": "scattergl"
           }
          ],
          "scattermapbox": [
           {
            "marker": {
             "colorbar": {
              "outlinewidth": 0,
              "ticks": ""
             }
            },
            "type": "scattermapbox"
           }
          ],
          "scatterpolar": [
           {
            "marker": {
             "colorbar": {
              "outlinewidth": 0,
              "ticks": ""
             }
            },
            "type": "scatterpolar"
           }
          ],
          "scatterpolargl": [
           {
            "marker": {
             "colorbar": {
              "outlinewidth": 0,
              "ticks": ""
             }
            },
            "type": "scatterpolargl"
           }
          ],
          "scatterternary": [
           {
            "marker": {
             "colorbar": {
              "outlinewidth": 0,
              "ticks": ""
             }
            },
            "type": "scatterternary"
           }
          ],
          "surface": [
           {
            "colorbar": {
             "outlinewidth": 0,
             "ticks": ""
            },
            "colorscale": [
             [
              0,
              "#0d0887"
             ],
             [
              0.1111111111111111,
              "#46039f"
             ],
             [
              0.2222222222222222,
              "#7201a8"
             ],
             [
              0.3333333333333333,
              "#9c179e"
             ],
             [
              0.4444444444444444,
              "#bd3786"
             ],
             [
              0.5555555555555556,
              "#d8576b"
             ],
             [
              0.6666666666666666,
              "#ed7953"
             ],
             [
              0.7777777777777778,
              "#fb9f3a"
             ],
             [
              0.8888888888888888,
              "#fdca26"
             ],
             [
              1,
              "#f0f921"
             ]
            ],
            "type": "surface"
           }
          ],
          "table": [
           {
            "cells": {
             "fill": {
              "color": "#EBF0F8"
             },
             "line": {
              "color": "white"
             }
            },
            "header": {
             "fill": {
              "color": "#C8D4E3"
             },
             "line": {
              "color": "white"
             }
            },
            "type": "table"
           }
          ]
         },
         "layout": {
          "annotationdefaults": {
           "arrowcolor": "#2a3f5f",
           "arrowhead": 0,
           "arrowwidth": 1
          },
          "autotypenumbers": "strict",
          "coloraxis": {
           "colorbar": {
            "outlinewidth": 0,
            "ticks": ""
           }
          },
          "colorscale": {
           "diverging": [
            [
             0,
             "#8e0152"
            ],
            [
             0.1,
             "#c51b7d"
            ],
            [
             0.2,
             "#de77ae"
            ],
            [
             0.3,
             "#f1b6da"
            ],
            [
             0.4,
             "#fde0ef"
            ],
            [
             0.5,
             "#f7f7f7"
            ],
            [
             0.6,
             "#e6f5d0"
            ],
            [
             0.7,
             "#b8e186"
            ],
            [
             0.8,
             "#7fbc41"
            ],
            [
             0.9,
             "#4d9221"
            ],
            [
             1,
             "#276419"
            ]
           ],
           "sequential": [
            [
             0,
             "#0d0887"
            ],
            [
             0.1111111111111111,
             "#46039f"
            ],
            [
             0.2222222222222222,
             "#7201a8"
            ],
            [
             0.3333333333333333,
             "#9c179e"
            ],
            [
             0.4444444444444444,
             "#bd3786"
            ],
            [
             0.5555555555555556,
             "#d8576b"
            ],
            [
             0.6666666666666666,
             "#ed7953"
            ],
            [
             0.7777777777777778,
             "#fb9f3a"
            ],
            [
             0.8888888888888888,
             "#fdca26"
            ],
            [
             1,
             "#f0f921"
            ]
           ],
           "sequentialminus": [
            [
             0,
             "#0d0887"
            ],
            [
             0.1111111111111111,
             "#46039f"
            ],
            [
             0.2222222222222222,
             "#7201a8"
            ],
            [
             0.3333333333333333,
             "#9c179e"
            ],
            [
             0.4444444444444444,
             "#bd3786"
            ],
            [
             0.5555555555555556,
             "#d8576b"
            ],
            [
             0.6666666666666666,
             "#ed7953"
            ],
            [
             0.7777777777777778,
             "#fb9f3a"
            ],
            [
             0.8888888888888888,
             "#fdca26"
            ],
            [
             1,
             "#f0f921"
            ]
           ]
          },
          "colorway": [
           "#636efa",
           "#EF553B",
           "#00cc96",
           "#ab63fa",
           "#FFA15A",
           "#19d3f3",
           "#FF6692",
           "#B6E880",
           "#FF97FF",
           "#FECB52"
          ],
          "font": {
           "color": "#2a3f5f"
          },
          "geo": {
           "bgcolor": "white",
           "lakecolor": "white",
           "landcolor": "white",
           "showlakes": true,
           "showland": true,
           "subunitcolor": "#C8D4E3"
          },
          "hoverlabel": {
           "align": "left"
          },
          "hovermode": "closest",
          "mapbox": {
           "style": "light"
          },
          "paper_bgcolor": "white",
          "plot_bgcolor": "white",
          "polar": {
           "angularaxis": {
            "gridcolor": "#EBF0F8",
            "linecolor": "#EBF0F8",
            "ticks": ""
           },
           "bgcolor": "white",
           "radialaxis": {
            "gridcolor": "#EBF0F8",
            "linecolor": "#EBF0F8",
            "ticks": ""
           }
          },
          "scene": {
           "xaxis": {
            "backgroundcolor": "white",
            "gridcolor": "#DFE8F3",
            "gridwidth": 2,
            "linecolor": "#EBF0F8",
            "showbackground": true,
            "ticks": "",
            "zerolinecolor": "#EBF0F8"
           },
           "yaxis": {
            "backgroundcolor": "white",
            "gridcolor": "#DFE8F3",
            "gridwidth": 2,
            "linecolor": "#EBF0F8",
            "showbackground": true,
            "ticks": "",
            "zerolinecolor": "#EBF0F8"
           },
           "zaxis": {
            "backgroundcolor": "white",
            "gridcolor": "#DFE8F3",
            "gridwidth": 2,
            "linecolor": "#EBF0F8",
            "showbackground": true,
            "ticks": "",
            "zerolinecolor": "#EBF0F8"
           }
          },
          "shapedefaults": {
           "line": {
            "color": "#2a3f5f"
           }
          },
          "ternary": {
           "aaxis": {
            "gridcolor": "#DFE8F3",
            "linecolor": "#A2B1C6",
            "ticks": ""
           },
           "baxis": {
            "gridcolor": "#DFE8F3",
            "linecolor": "#A2B1C6",
            "ticks": ""
           },
           "bgcolor": "white",
           "caxis": {
            "gridcolor": "#DFE8F3",
            "linecolor": "#A2B1C6",
            "ticks": ""
           }
          },
          "title": {
           "x": 0.05
          },
          "xaxis": {
           "automargin": true,
           "gridcolor": "#EBF0F8",
           "linecolor": "#EBF0F8",
           "ticks": "",
           "title": {
            "standoff": 15
           },
           "zerolinecolor": "#EBF0F8",
           "zerolinewidth": 2
          },
          "yaxis": {
           "automargin": true,
           "gridcolor": "#EBF0F8",
           "linecolor": "#EBF0F8",
           "ticks": "",
           "title": {
            "standoff": 15
           },
           "zerolinecolor": "#EBF0F8",
           "zerolinewidth": 2
          }
         }
        },
        "title": {
         "text": "Fitness over Generations"
        },
        "xaxis": {
         "title": {
          "text": "Generation"
         }
        },
        "yaxis": {
         "title": {
          "text": "Fitness"
         }
        }
       }
      }
     },
     "metadata": {},
     "output_type": "display_data"
    }
   ],
   "source": [
    "def lineplot(fig, df, x, y, title, x_label, y_label):\n",
    "    i = len(fig.data) // 3\n",
    "    line_color = px.colors.qualitative.Dark2[i]\n",
    "    # line_color = \"rgb(31, 119, 180)\"\n",
    "    c = px.colors.qualitative.Pastel2[i].split(\"(\")[1].split(\")\")[0]\n",
    "    fill_color = f\"rgba({c}, 0.3)\"\n",
    "    # fill_color = \"rgba(68, 68, 68, 0.3)\"\n",
    "\n",
    "    df_plot = df[[x, y]].groupby([x]).agg([\"mean\", \"std\", \"count\"])\n",
    "    df_plot = df_plot.droplevel(axis=1, level=0).reset_index()\n",
    "    df_plot[\"ci\"] = 1.96 * df_plot[\"std\"] / np.sqrt(df_plot[\"count\"])\n",
    "    df_plot[\"ci_lower\"] = df_plot[\"mean\"] - df_plot[\"ci\"]\n",
    "    df_plot[\"ci_upper\"] = df_plot[\"mean\"] + df_plot[\"ci\"]\n",
    "\n",
    "    fig.add_traces(\n",
    "        [\n",
    "            go.Scatter(\n",
    "                name=y,\n",
    "                x=df_plot[x],\n",
    "                y=df_plot[\"mean\"],\n",
    "                mode=\"lines\",\n",
    "                line=dict(color=line_color),\n",
    "            ),\n",
    "            go.Scatter(\n",
    "                name=\"95% CI Upper\",\n",
    "                x=df_plot[x],\n",
    "                y=df_plot[\"ci_upper\"],\n",
    "                mode=\"lines\",\n",
    "                marker=dict(color=\"#444\"),\n",
    "                line=dict(width=0),\n",
    "                showlegend=False,\n",
    "            ),\n",
    "            go.Scatter(\n",
    "                name=\"95 CI Lower\",\n",
    "                x=df_plot[x],\n",
    "                y=df_plot[\"ci_lower\"],\n",
    "                marker=dict(color=\"#444\"),\n",
    "                line=dict(width=0),\n",
    "                mode=\"lines\",\n",
    "                fillcolor=fill_color,\n",
    "                fill=\"tonexty\",\n",
    "                showlegend=False,\n",
    "            ),\n",
    "        ]\n",
    "    )\n",
    "    fig.update_layout(\n",
    "        xaxis_title=x_label,\n",
    "        yaxis_title=y_label,\n",
    "        title=title,\n",
    "        hovermode=\"x\",\n",
    "    )\n",
    "    return fig\n",
    "\n",
    "\n",
    "fig = go.Figure()\n",
    "\n",
    "lineplot(\n",
    "    fig,\n",
    "    df,\n",
    "    \"Generation\",\n",
    "    \"Best Objective\",\n",
    "    \"Fitness over Generations\",\n",
    "    \"Generation\",\n",
    "    \"Fitness\",\n",
    ")\n",
    "\n",
    "lineplot(\n",
    "    fig,\n",
    "    df,\n",
    "    \"Generation\",\n",
    "    \"Average Objective\",\n",
    "    \"Fitness over Generations\",\n",
    "    \"Generation\",\n",
    "    \"Fitness\",\n",
    ")\n",
    "\n",
    "\n",
    "fig.show()"
   ]
  },
  {
   "cell_type": "code",
   "execution_count": 16,
   "metadata": {},
   "outputs": [
    {
     "data": {
      "text/html": [
       "<div>\n",
       "<style scoped>\n",
       "    .dataframe tbody tr th:only-of-type {\n",
       "        vertical-align: middle;\n",
       "    }\n",
       "\n",
       "    .dataframe tbody tr th {\n",
       "        vertical-align: top;\n",
       "    }\n",
       "\n",
       "    .dataframe thead th {\n",
       "        text-align: right;\n",
       "    }\n",
       "</style>\n",
       "<table border=\"1\" class=\"dataframe\">\n",
       "  <thead>\n",
       "    <tr style=\"text-align: right;\">\n",
       "      <th></th>\n",
       "      <th>Individual</th>\n",
       "      <th>Wheel Radius</th>\n",
       "      <th>Chassis Length</th>\n",
       "      <th>Suspension Frequency</th>\n",
       "      <th>Suspension Damping</th>\n",
       "      <th>Sensor Limit</th>\n",
       "      <th>Speed Max</th>\n",
       "      <th>Speed Slope</th>\n",
       "      <th>Speed Intercept</th>\n",
       "      <th>Wheel Radius Genome</th>\n",
       "      <th>...</th>\n",
       "      <th>Speed Max Genome</th>\n",
       "      <th>Speed Slope Genome</th>\n",
       "      <th>Speed Intercept Genome</th>\n",
       "      <th>Feasibility</th>\n",
       "      <th>Objective</th>\n",
       "      <th>Final Distance</th>\n",
       "      <th>Final Speed</th>\n",
       "      <th>Hit Wall</th>\n",
       "      <th>Index At Rest</th>\n",
       "      <th>Trial</th>\n",
       "    </tr>\n",
       "  </thead>\n",
       "  <tbody>\n",
       "    <tr>\n",
       "      <th>0</th>\n",
       "      <td>0</td>\n",
       "      <td>0.632079</td>\n",
       "      <td>2.354759</td>\n",
       "      <td>3.387221</td>\n",
       "      <td>0.300000</td>\n",
       "      <td>10.487863</td>\n",
       "      <td>9.033205</td>\n",
       "      <td>3.998974</td>\n",
       "      <td>-20.000000</td>\n",
       "      <td>0.132079</td>\n",
       "      <td>...</td>\n",
       "      <td>0.903320</td>\n",
       "      <td>0.399897</td>\n",
       "      <td>0.000000</td>\n",
       "      <td>0.0</td>\n",
       "      <td>3.867982</td>\n",
       "      <td>-0.002491</td>\n",
       "      <td>0.000046</td>\n",
       "      <td>False</td>\n",
       "      <td>790.0</td>\n",
       "      <td>10</td>\n",
       "    </tr>\n",
       "    <tr>\n",
       "      <th>1</th>\n",
       "      <td>1</td>\n",
       "      <td>0.661801</td>\n",
       "      <td>2.698314</td>\n",
       "      <td>3.433609</td>\n",
       "      <td>0.300000</td>\n",
       "      <td>8.742624</td>\n",
       "      <td>8.515709</td>\n",
       "      <td>3.998974</td>\n",
       "      <td>-20.000000</td>\n",
       "      <td>0.161801</td>\n",
       "      <td>...</td>\n",
       "      <td>0.851571</td>\n",
       "      <td>0.399897</td>\n",
       "      <td>0.000000</td>\n",
       "      <td>0.0</td>\n",
       "      <td>3.853140</td>\n",
       "      <td>-0.001724</td>\n",
       "      <td>0.000100</td>\n",
       "      <td>False</td>\n",
       "      <td>850.0</td>\n",
       "      <td>10</td>\n",
       "    </tr>\n",
       "    <tr>\n",
       "      <th>2</th>\n",
       "      <td>2</td>\n",
       "      <td>0.722228</td>\n",
       "      <td>2.354759</td>\n",
       "      <td>3.649593</td>\n",
       "      <td>0.354451</td>\n",
       "      <td>11.743378</td>\n",
       "      <td>6.824947</td>\n",
       "      <td>3.998974</td>\n",
       "      <td>-20.000000</td>\n",
       "      <td>0.222228</td>\n",
       "      <td>...</td>\n",
       "      <td>0.682495</td>\n",
       "      <td>0.399897</td>\n",
       "      <td>0.000000</td>\n",
       "      <td>0.0</td>\n",
       "      <td>3.845597</td>\n",
       "      <td>-0.001223</td>\n",
       "      <td>-0.000011</td>\n",
       "      <td>False</td>\n",
       "      <td>790.0</td>\n",
       "      <td>10</td>\n",
       "    </tr>\n",
       "    <tr>\n",
       "      <th>3</th>\n",
       "      <td>3</td>\n",
       "      <td>0.661801</td>\n",
       "      <td>2.442947</td>\n",
       "      <td>3.724434</td>\n",
       "      <td>0.406484</td>\n",
       "      <td>9.351762</td>\n",
       "      <td>8.855133</td>\n",
       "      <td>3.998974</td>\n",
       "      <td>-20.000000</td>\n",
       "      <td>0.161801</td>\n",
       "      <td>...</td>\n",
       "      <td>0.885513</td>\n",
       "      <td>0.399897</td>\n",
       "      <td>0.000000</td>\n",
       "      <td>0.0</td>\n",
       "      <td>3.856804</td>\n",
       "      <td>-0.002451</td>\n",
       "      <td>0.000088</td>\n",
       "      <td>False</td>\n",
       "      <td>820.0</td>\n",
       "      <td>10</td>\n",
       "    </tr>\n",
       "    <tr>\n",
       "      <th>4</th>\n",
       "      <td>4</td>\n",
       "      <td>0.620699</td>\n",
       "      <td>2.354759</td>\n",
       "      <td>3.673540</td>\n",
       "      <td>0.317905</td>\n",
       "      <td>7.341758</td>\n",
       "      <td>9.860959</td>\n",
       "      <td>3.998974</td>\n",
       "      <td>-20.000000</td>\n",
       "      <td>0.120699</td>\n",
       "      <td>...</td>\n",
       "      <td>0.986096</td>\n",
       "      <td>0.399897</td>\n",
       "      <td>0.000000</td>\n",
       "      <td>0.0</td>\n",
       "      <td>3.859645</td>\n",
       "      <td>-0.001955</td>\n",
       "      <td>-0.000057</td>\n",
       "      <td>False</td>\n",
       "      <td>880.0</td>\n",
       "      <td>10</td>\n",
       "    </tr>\n",
       "    <tr>\n",
       "      <th>...</th>\n",
       "      <td>...</td>\n",
       "      <td>...</td>\n",
       "      <td>...</td>\n",
       "      <td>...</td>\n",
       "      <td>...</td>\n",
       "      <td>...</td>\n",
       "      <td>...</td>\n",
       "      <td>...</td>\n",
       "      <td>...</td>\n",
       "      <td>...</td>\n",
       "      <td>...</td>\n",
       "      <td>...</td>\n",
       "      <td>...</td>\n",
       "      <td>...</td>\n",
       "      <td>...</td>\n",
       "      <td>...</td>\n",
       "      <td>...</td>\n",
       "      <td>...</td>\n",
       "      <td>...</td>\n",
       "      <td>...</td>\n",
       "      <td>...</td>\n",
       "    </tr>\n",
       "    <tr>\n",
       "      <th>995</th>\n",
       "      <td>95</td>\n",
       "      <td>0.720076</td>\n",
       "      <td>3.959996</td>\n",
       "      <td>5.168789</td>\n",
       "      <td>0.328781</td>\n",
       "      <td>10.977750</td>\n",
       "      <td>7.387673</td>\n",
       "      <td>3.452247</td>\n",
       "      <td>-17.256753</td>\n",
       "      <td>0.220076</td>\n",
       "      <td>...</td>\n",
       "      <td>0.738767</td>\n",
       "      <td>0.345225</td>\n",
       "      <td>0.068581</td>\n",
       "      <td>0.0</td>\n",
       "      <td>3.846127</td>\n",
       "      <td>0.001240</td>\n",
       "      <td>-0.000071</td>\n",
       "      <td>False</td>\n",
       "      <td>790.0</td>\n",
       "      <td>4</td>\n",
       "    </tr>\n",
       "    <tr>\n",
       "      <th>996</th>\n",
       "      <td>96</td>\n",
       "      <td>0.720076</td>\n",
       "      <td>3.578705</td>\n",
       "      <td>6.030728</td>\n",
       "      <td>0.409234</td>\n",
       "      <td>10.824834</td>\n",
       "      <td>7.861987</td>\n",
       "      <td>3.452247</td>\n",
       "      <td>-19.160453</td>\n",
       "      <td>0.220076</td>\n",
       "      <td>...</td>\n",
       "      <td>0.786199</td>\n",
       "      <td>0.345225</td>\n",
       "      <td>0.020989</td>\n",
       "      <td>0.0</td>\n",
       "      <td>3.782758</td>\n",
       "      <td>-0.550482</td>\n",
       "      <td>-0.000089</td>\n",
       "      <td>False</td>\n",
       "      <td>780.0</td>\n",
       "      <td>4</td>\n",
       "    </tr>\n",
       "    <tr>\n",
       "      <th>997</th>\n",
       "      <td>97</td>\n",
       "      <td>0.725050</td>\n",
       "      <td>3.845033</td>\n",
       "      <td>6.046995</td>\n",
       "      <td>0.548228</td>\n",
       "      <td>7.054866</td>\n",
       "      <td>8.176579</td>\n",
       "      <td>3.452247</td>\n",
       "      <td>-17.246813</td>\n",
       "      <td>0.225050</td>\n",
       "      <td>...</td>\n",
       "      <td>0.817658</td>\n",
       "      <td>0.345225</td>\n",
       "      <td>0.068830</td>\n",
       "      <td>0.0</td>\n",
       "      <td>3.844534</td>\n",
       "      <td>0.004194</td>\n",
       "      <td>-0.000093</td>\n",
       "      <td>False</td>\n",
       "      <td>790.0</td>\n",
       "      <td>4</td>\n",
       "    </tr>\n",
       "    <tr>\n",
       "      <th>998</th>\n",
       "      <td>98</td>\n",
       "      <td>0.816886</td>\n",
       "      <td>4.000000</td>\n",
       "      <td>4.797085</td>\n",
       "      <td>0.328781</td>\n",
       "      <td>10.977750</td>\n",
       "      <td>8.143718</td>\n",
       "      <td>3.452247</td>\n",
       "      <td>-17.256753</td>\n",
       "      <td>0.316886</td>\n",
       "      <td>...</td>\n",
       "      <td>0.814372</td>\n",
       "      <td>0.345225</td>\n",
       "      <td>0.068581</td>\n",
       "      <td>0.0</td>\n",
       "      <td>3.319479</td>\n",
       "      <td>0.000795</td>\n",
       "      <td>0.000064</td>\n",
       "      <td>True</td>\n",
       "      <td>810.0</td>\n",
       "      <td>4</td>\n",
       "    </tr>\n",
       "    <tr>\n",
       "      <th>999</th>\n",
       "      <td>99</td>\n",
       "      <td>0.720076</td>\n",
       "      <td>3.959996</td>\n",
       "      <td>5.168789</td>\n",
       "      <td>0.300000</td>\n",
       "      <td>9.754086</td>\n",
       "      <td>8.217503</td>\n",
       "      <td>3.452247</td>\n",
       "      <td>-17.256753</td>\n",
       "      <td>0.220076</td>\n",
       "      <td>...</td>\n",
       "      <td>0.821750</td>\n",
       "      <td>0.345225</td>\n",
       "      <td>0.068581</td>\n",
       "      <td>0.0</td>\n",
       "      <td>3.851124</td>\n",
       "      <td>0.001240</td>\n",
       "      <td>-0.000077</td>\n",
       "      <td>False</td>\n",
       "      <td>750.0</td>\n",
       "      <td>4</td>\n",
       "    </tr>\n",
       "  </tbody>\n",
       "</table>\n",
       "<p>1000 rows × 24 columns</p>\n",
       "</div>"
      ],
      "text/plain": [
       "     Individual  Wheel Radius  Chassis Length  Suspension Frequency  \\\n",
       "0             0      0.632079        2.354759              3.387221   \n",
       "1             1      0.661801        2.698314              3.433609   \n",
       "2             2      0.722228        2.354759              3.649593   \n",
       "3             3      0.661801        2.442947              3.724434   \n",
       "4             4      0.620699        2.354759              3.673540   \n",
       "..          ...           ...             ...                   ...   \n",
       "995          95      0.720076        3.959996              5.168789   \n",
       "996          96      0.720076        3.578705              6.030728   \n",
       "997          97      0.725050        3.845033              6.046995   \n",
       "998          98      0.816886        4.000000              4.797085   \n",
       "999          99      0.720076        3.959996              5.168789   \n",
       "\n",
       "     Suspension Damping  Sensor Limit  Speed Max  Speed Slope  \\\n",
       "0              0.300000     10.487863   9.033205     3.998974   \n",
       "1              0.300000      8.742624   8.515709     3.998974   \n",
       "2              0.354451     11.743378   6.824947     3.998974   \n",
       "3              0.406484      9.351762   8.855133     3.998974   \n",
       "4              0.317905      7.341758   9.860959     3.998974   \n",
       "..                  ...           ...        ...          ...   \n",
       "995            0.328781     10.977750   7.387673     3.452247   \n",
       "996            0.409234     10.824834   7.861987     3.452247   \n",
       "997            0.548228      7.054866   8.176579     3.452247   \n",
       "998            0.328781     10.977750   8.143718     3.452247   \n",
       "999            0.300000      9.754086   8.217503     3.452247   \n",
       "\n",
       "     Speed Intercept  Wheel Radius Genome  ...  Speed Max Genome  \\\n",
       "0         -20.000000             0.132079  ...          0.903320   \n",
       "1         -20.000000             0.161801  ...          0.851571   \n",
       "2         -20.000000             0.222228  ...          0.682495   \n",
       "3         -20.000000             0.161801  ...          0.885513   \n",
       "4         -20.000000             0.120699  ...          0.986096   \n",
       "..               ...                  ...  ...               ...   \n",
       "995       -17.256753             0.220076  ...          0.738767   \n",
       "996       -19.160453             0.220076  ...          0.786199   \n",
       "997       -17.246813             0.225050  ...          0.817658   \n",
       "998       -17.256753             0.316886  ...          0.814372   \n",
       "999       -17.256753             0.220076  ...          0.821750   \n",
       "\n",
       "     Speed Slope Genome  Speed Intercept Genome  Feasibility  Objective  \\\n",
       "0              0.399897                0.000000          0.0   3.867982   \n",
       "1              0.399897                0.000000          0.0   3.853140   \n",
       "2              0.399897                0.000000          0.0   3.845597   \n",
       "3              0.399897                0.000000          0.0   3.856804   \n",
       "4              0.399897                0.000000          0.0   3.859645   \n",
       "..                  ...                     ...          ...        ...   \n",
       "995            0.345225                0.068581          0.0   3.846127   \n",
       "996            0.345225                0.020989          0.0   3.782758   \n",
       "997            0.345225                0.068830          0.0   3.844534   \n",
       "998            0.345225                0.068581          0.0   3.319479   \n",
       "999            0.345225                0.068581          0.0   3.851124   \n",
       "\n",
       "     Final Distance  Final Speed  Hit Wall  Index At Rest  Trial  \n",
       "0         -0.002491     0.000046     False          790.0     10  \n",
       "1         -0.001724     0.000100     False          850.0     10  \n",
       "2         -0.001223    -0.000011     False          790.0     10  \n",
       "3         -0.002451     0.000088     False          820.0     10  \n",
       "4         -0.001955    -0.000057     False          880.0     10  \n",
       "..              ...          ...       ...            ...    ...  \n",
       "995        0.001240    -0.000071     False          790.0      4  \n",
       "996       -0.550482    -0.000089     False          780.0      4  \n",
       "997        0.004194    -0.000093     False          790.0      4  \n",
       "998        0.000795     0.000064      True          810.0      4  \n",
       "999        0.001240    -0.000077     False          750.0      4  \n",
       "\n",
       "[1000 rows x 24 columns]"
      ]
     },
     "execution_count": 16,
     "metadata": {},
     "output_type": "execute_result"
    }
   ],
   "source": [
    "files = data_dir.glob(\"*-population.csv\")\n",
    "\n",
    "partial_dfs = []\n",
    "\n",
    "for f in files:\n",
    "    trial = f.stem.split(replicate_name)[1].split(\"-\")[0]\n",
    "    df_partial = pd.read_csv(f)\n",
    "    df_partial[\"Trial\"] = trial\n",
    "\n",
    "    partial_dfs.append(df_partial)\n",
    "\n",
    "df = pd.concat(partial_dfs, ignore_index=True)\n",
    "df.columns = [n.replace(\"_\", \" \").replace(\"-\", \" \").title() for n in df.columns]\n",
    "df"
   ]
  },
  {
   "cell_type": "code",
   "execution_count": 17,
   "metadata": {},
   "outputs": [],
   "source": [
    "df = df.nlargest(int(df.shape[0] * 0.05), \"Objective\")"
   ]
  },
  {
   "cell_type": "code",
   "execution_count": 18,
   "metadata": {},
   "outputs": [
    {
     "data": {
      "image/png": "[encoded data removed]",
      "text/plain": [
       "<Figure size 1440x360 with 8 Axes>"
      ]
     },
     "metadata": {
      "needs_background": "light"
     },
     "output_type": "display_data"
    }
   ],
   "source": [
    "n = len(limits)\n",
    "\n",
    "fig, axes = plt.subplots(1, n, figsize=(20, 5))\n",
    "\n",
    "for ax, name in zip(axes, limits.keys()):\n",
    "    lo, hi = limits[name]\n",
    "    sns.stripplot(y=name, data=df, ax=ax)\n",
    "    ax.set_ylabel(\"\")\n",
    "    ax.set_xlabel(\"\".join(word[:2] for word in name.split(\" \")))\n",
    "    ax.set_ylim(lo, hi)\n",
    "    ax.set_yticks([lo, (lo + hi) / 2, hi])\n",
    "\n",
    "sns.despine()"
   ]
  },
  {
   "cell_type": "code",
   "execution_count": 19,
   "metadata": {},
   "outputs": [
    {
     "data": {
      "application/vnd.plotly.v1+json": {
       "config": {
        "plotlyServerURL": "https://plot.ly"
       },
       "data": [
        {
         "alignmentgroup": "True",
         "boxpoints": "all",
         "fillcolor": "rgba(255,255,255,0)",
         "hoveron": "points",
         "hovertemplate": "Wheel Radius=%{y}<extra></extra>",
         "legendgroup": "",
         "line": {
          "color": "rgba(255,255,255,0)"
         },
         "marker": {
          "color": "#636efa"
         },
         "name": "",
         "offsetgroup": "",
         "orientation": "v",
         "pointpos": 0,
         "showlegend": false,
         "type": "box",
         "x0": " ",
         "xaxis": "x",
         "y": [
          0.6535198712424581,
          0.6535198712424581,
          0.6535198712424581,
          0.6535198712424581,
          0.6446939711276711,
          0.6446939711276711,
          0.648435499445001,
          0.648435499445001,
          0.6535198712424581,
          0.6548262064292623,
          0.6308445620228481,
          0.6535198712424581,
          0.646086331953562,
          0.648435499445001,
          0.6311038935985847,
          0.6535198712424581,
          0.6535198712424581,
          0.6645897138916695,
          0.6444902687915903,
          0.648435499445001,
          0.6415371334857229,
          0.6853398828568681,
          0.64060018152722,
          0.64060018152722,
          0.64060018152722,
          0.64060018152722,
          0.64060018152722,
          0.64060018152722,
          0.6499901880220037,
          0.6444902687915903,
          0.6280664741942092,
          0.6475174418909231,
          0.6535198712424581,
          0.648435499445001,
          0.648435499445001,
          0.6254363491979542,
          0.6420425988448674,
          0.6311038935985847,
          0.6308445620228481,
          0.6420425988448674,
          0.686443782516391,
          0.6311038935985847,
          0.6308445620228481,
          0.6308445620228481,
          0.6311038935985847,
          0.6535198712424581,
          0.64060018152722,
          0.6446939711276711,
          0.64060018152722,
          0.6328063193892819
         ],
         "y0": " ",
         "yaxis": "y"
        },
        {
         "alignmentgroup": "True",
         "boxpoints": "all",
         "fillcolor": "rgba(255,255,255,0)",
         "hoveron": "points",
         "hovertemplate": "Chassis Length=%{y}<extra></extra>",
         "legendgroup": "",
         "line": {
          "color": "rgba(255,255,255,0)"
         },
         "marker": {
          "color": "#636efa"
         },
         "name": "",
         "offsetgroup": "",
         "orientation": "v",
         "pointpos": 0,
         "showlegend": false,
         "type": "box",
         "x0": " ",
         "xaxis": "x2",
         "y": [
          1.8477602289333035,
          1.8477602289333035,
          1.8477602289333035,
          1.8477602289333035,
          1.809114925361206,
          1.809114925361206,
          1.778576747676681,
          1.778576747676681,
          1.8477602289333035,
          1.809114925361206,
          1.7215148037410484,
          1.931460807884906,
          2.373815958249549,
          1.9176366629123904,
          1.8166135933230183,
          1.8477602289333035,
          1.8477602289333035,
          2.703572285078089,
          1.8040629146226084,
          1.778576747676681,
          1.7430123844456946,
          1.649840119604435,
          1.7968731906253717,
          1.7968731906253717,
          1.7968731906253717,
          1.7968731906253717,
          1.7968731906253717,
          1.7968731906253717,
          1.7215148037410484,
          1.7332679034958731,
          1.9677473601634596,
          2.0944217523704527,
          1.9677473601634596,
          2.018809529519727,
          1.6411408754356924,
          1.814932210275165,
          1.8158410555111864,
          1.814932210275165,
          1.7469769266007946,
          1.8158410555111864,
          2.703572285078089,
          1.6709116866928366,
          1.7215148037410484,
          1.878702234192254,
          1.814932210275165,
          1.8477602289333035,
          1.6192986749674474,
          1.9126274218576955,
          1.822912651692036,
          2.007678184531964
         ],
         "y0": " ",
         "yaxis": "y2"
        },
        {
         "alignmentgroup": "True",
         "boxpoints": "all",
         "fillcolor": "rgba(255,255,255,0)",
         "hoveron": "points",
         "hovertemplate": "Suspension Frequency=%{y}<extra></extra>",
         "legendgroup": "",
         "line": {
          "color": "rgba(255,255,255,0)"
         },
         "marker": {
          "color": "#636efa"
         },
         "name": "",
         "offsetgroup": "",
         "orientation": "v",
         "pointpos": 0,
         "showlegend": false,
         "type": "box",
         "x0": " ",
         "xaxis": "x3",
         "y": [
          5.845867249914781,
          5.845867249914781,
          6.979208549479438,
          6.9959691166544005,
          6.661414095754417,
          6.661414095754417,
          6.265658772518157,
          6.265658772518157,
          6.9959691166544005,
          6.599510682206029,
          7.127913156367407,
          6.5537051055205735,
          7.365479410531694,
          5.858957952107397,
          6.510293460596714,
          6.9959691166544005,
          6.9959691166544005,
          2.9244710539584378,
          7.29759168233199,
          6.464154258598049,
          7.592736606856147,
          7.840487228514971,
          8,
          8,
          8,
          8,
          8,
          7.05709420230959,
          7.213153404886739,
          7.29759168233199,
          6.503598540234008,
          8,
          6.526232613071507,
          6.265658772518157,
          6.498464224900148,
          6.27556686832182,
          6.512939946403883,
          5.585764619966419,
          6.117037769453188,
          6.371217373313632,
          3.16688520427845,
          7.149661937117568,
          6.289011715186103,
          6.545804394669408,
          5.01403663419895,
          6.9959691166544005,
          7.825893072073872,
          6.240428771008069,
          7.825893072073872,
          6.277524438060074
         ],
         "y0": " ",
         "yaxis": "y3"
        },
        {
         "alignmentgroup": "True",
         "boxpoints": "all",
         "fillcolor": "rgba(255,255,255,0)",
         "hoveron": "points",
         "hovertemplate": "Suspension Damping=%{y}<extra></extra>",
         "legendgroup": "",
         "line": {
          "color": "rgba(255,255,255,0)"
         },
         "marker": {
          "color": "#636efa"
         },
         "name": "",
         "offsetgroup": "",
         "orientation": "v",
         "pointpos": 0,
         "showlegend": false,
         "type": "box",
         "x0": " ",
         "xaxis": "x4",
         "y": [
          0.4543258787874554,
          0.4543258787874554,
          0.5635583717500583,
          0.4153353792025476,
          0.3363835102699298,
          0.3363835102699298,
          0.6430547433149734,
          0.6430547433149734,
          0.3962115371864342,
          0.3899053073309402,
          0.7941811645538341,
          0.4543258787874554,
          0.4597273093573346,
          0.7414501835125022,
          0.4648787042093333,
          0.3376180344107977,
          0.4543258787874554,
          0.3344220603078652,
          0.567675877757597,
          0.6261104006929961,
          0.3759099169722498,
          0.3589966953320776,
          0.4716434473307755,
          0.4716434473307755,
          0.5009548590864378,
          0.5047118225229315,
          0.5065994847075096,
          0.3650627460745268,
          0.8343751774972907,
          0.5894214325107834,
          0.502209380193818,
          0.575902862844571,
          0.502209380193818,
          0.6093716274621889,
          0.7936832776833155,
          0.4541210729393254,
          0.5622062350597606,
          0.4959339606523072,
          0.7941811645538341,
          0.5809445823070236,
          0.3676013301293952,
          0.5866514324327169,
          0.649578119097866,
          0.7933785697812257,
          0.3269443975655282,
          0.4956067532637743,
          0.4269348262977818,
          0.3363835102699298,
          0.408073502943022,
          0.5470184783134202
         ],
         "y0": " ",
         "yaxis": "y4"
        },
        {
         "alignmentgroup": "True",
         "boxpoints": "all",
         "fillcolor": "rgba(255,255,255,0)",
         "hoveron": "points",
         "hovertemplate": "Sensor Limit=%{y}<extra></extra>",
         "legendgroup": "",
         "line": {
          "color": "rgba(255,255,255,0)"
         },
         "marker": {
          "color": "#636efa"
         },
         "name": "",
         "offsetgroup": "",
         "orientation": "v",
         "pointpos": 0,
         "showlegend": false,
         "type": "box",
         "x0": " ",
         "xaxis": "x5",
         "y": [
          15,
          15,
          14.06591867373555,
          15,
          14.319432957666956,
          14.101063945560847,
          11.014044978965286,
          11.080702086175195,
          14.470575975076668,
          14.319432957666956,
          9.385400548090026,
          15,
          12.964314542559542,
          8.206501642550947,
          9.944231410530422,
          15,
          14.470575975076668,
          12.590047160305662,
          11.090358738268275,
          10.833045868861609,
          14.50109893572222,
          15,
          15,
          14.301338119909971,
          15,
          15,
          13.832367353052954,
          15,
          11.044026641311463,
          11.10290772624396,
          14.449378750715086,
          8.189949667193599,
          14.449378750715086,
          9.812996217598435,
          9.31059320431618,
          9.183808710657296,
          13.598647709385748,
          10.634920348962876,
          7.418089854721536,
          15,
          13.255211316620686,
          7.9908090523872515,
          9.986654458202306,
          11.257838739218563,
          8.373227925321897,
          14.470575975076668,
          15,
          15,
          15,
          12.725706124954316
         ],
         "y0": " ",
         "yaxis": "y5"
        },
        {
         "alignmentgroup": "True",
         "boxpoints": "all",
         "fillcolor": "rgba(255,255,255,0)",
         "hoveron": "points",
         "hovertemplate": "Speed Max=%{y}<extra></extra>",
         "legendgroup": "",
         "line": {
          "color": "rgba(255,255,255,0)"
         },
         "marker": {
          "color": "#636efa"
         },
         "name": "",
         "offsetgroup": "",
         "orientation": "v",
         "pointpos": 0,
         "showlegend": false,
         "type": "box",
         "x0": " ",
         "xaxis": "x6",
         "y": [
          10,
          10,
          9.919963232502644,
          9.765670032661202,
          8.377111681698782,
          8.377111681698782,
          7.869833059019263,
          7.869833059019263,
          9.765670032661202,
          8.196755665933845,
          7.320412755692992,
          9.405623357639229,
          10,
          10,
          6.059184158411181,
          9.765670032661202,
          9.954900330830316,
          8.291579819733382,
          6.788008893556614,
          7.869833059019263,
          8.380528642673324,
          8.490446130226266,
          6.42952907895943,
          6.42952907895943,
          6.42952907895943,
          6.42952907895943,
          6.42952907895943,
          6.42952907895943,
          6.3178668022049065,
          6.788008893556614,
          10,
          8.653920286192918,
          10,
          7.869833059019263,
          7.869833059019263,
          6.059184158411181,
          9.783912705537013,
          5.972274187857338,
          7.320412755692992,
          9.783912705537013,
          7.2056660357988775,
          6.059184158411181,
          7.158687556663668,
          7.110294886441288,
          6.059184158411181,
          9.98189086275011,
          6.185633818134511,
          8.377111681698782,
          6.185633818134511,
          9.640495049581409
         ],
         "y0": " ",
         "yaxis": "y6"
        },
        {
         "alignmentgroup": "True",
         "boxpoints": "all",
         "fillcolor": "rgba(255,255,255,0)",
         "hoveron": "points",
         "hovertemplate": "Speed Slope=%{y}<extra></extra>",
         "legendgroup": "",
         "line": {
          "color": "rgba(255,255,255,0)"
         },
         "marker": {
          "color": "#636efa"
         },
         "name": "",
         "offsetgroup": "",
         "orientation": "v",
         "pointpos": 0,
         "showlegend": false,
         "type": "box",
         "x0": " ",
         "xaxis": "x7",
         "y": [
          2.151126134440972,
          2.151126134440972,
          2.151126134440972,
          2.1476438620320355,
          2.307293274803281,
          2.307293274803281,
          2.4885714604904967,
          2.4885714604904967,
          2.1476438620320355,
          2.307293274803281,
          2.8395077405102858,
          2.1476438620320355,
          2.151126134440972,
          2.4885714604904967,
          3.2663656664590905,
          2.1476438620320355,
          2.1476438620320355,
          2.307293274803281,
          2.875344081332388,
          2.4885714604904967,
          2.307293274803281,
          2.151126134440972,
          3.11134561406711,
          3.11134561406711,
          3.11134561406711,
          3.11134561406711,
          3.11134561406711,
          3.11134561406711,
          2.8395077405102858,
          2.875344081332388,
          2.151126134440972,
          2.4885714604904967,
          2.151126134440972,
          2.4885714604904967,
          2.4885714604904967,
          3.2663656664590905,
          2.111021505334355,
          3.2663656664590905,
          2.8395077405102858,
          2.111021505334355,
          2.307293274803281,
          3.2663656664590905,
          2.8395077405102858,
          2.8395077405102858,
          3.2663656664590905,
          2.1476438620320355,
          3.11134561406711,
          2.307293274803281,
          3.11134561406711,
          2.151126134440972
         ],
         "y0": " ",
         "yaxis": "y7"
        },
        {
         "alignmentgroup": "True",
         "boxpoints": "all",
         "fillcolor": "rgba(255,255,255,0)",
         "hoveron": "points",
         "hovertemplate": "Speed Intercept=%{y}<extra></extra>",
         "legendgroup": "",
         "line": {
          "color": "rgba(255,255,255,0)"
         },
         "marker": {
          "color": "#636efa"
         },
         "name": "",
         "offsetgroup": "",
         "orientation": "v",
         "pointpos": 0,
         "showlegend": false,
         "type": "box",
         "x0": " ",
         "xaxis": "x8",
         "y": [
          -10.750257111150509,
          -10.750257111150509,
          -10.750257111150509,
          -10.750257111150509,
          -11.525191887273149,
          -11.525191887273149,
          -12.451716087904003,
          -12.451716087904003,
          -10.750257111150509,
          -11.525191887273149,
          -14.200606675409714,
          -10.750257111150509,
          -10.750257111150509,
          -12.451716087904003,
          -16.329563245128636,
          -10.750257111150509,
          -10.750257111150509,
          -11.525191887273149,
          -14.419498345859736,
          -12.451716087904003,
          -11.62870807770139,
          -10.750257111150509,
          -15.512800453941887,
          -15.512800453941887,
          -15.512800453941887,
          -15.512800453941887,
          -15.512800453941887,
          -15.512800453941887,
          -14.200606675409714,
          -14.419498345859736,
          -10.750257111150509,
          -12.451716087904003,
          -10.750257111150509,
          -12.451716087904003,
          -12.451716087904003,
          -16.329563245128636,
          -10.710809058219596,
          -16.329563245128636,
          -14.200606675409714,
          -10.710809058219596,
          -11.525191887273149,
          -16.36170539451888,
          -14.200606675409714,
          -14.200606675409714,
          -16.329563245128636,
          -10.750257111150509,
          -15.512800453941887,
          -11.525191887273149,
          -15.512800453941887,
          -10.710809058219596
         ],
         "y0": " ",
         "yaxis": "y8"
        }
       ],
       "layout": {
        "template": {
         "data": {
          "bar": [
           {
            "error_x": {
             "color": "#2a3f5f"
            },
            "error_y": {
             "color": "#2a3f5f"
            },
            "marker": {
             "line": {
              "color": "white",
              "width": 0.5
             },
             "pattern": {
              "fillmode": "overlay",
              "size": 10,
              "solidity": 0.2
             }
            },
            "type": "bar"
           }
          ],
          "barpolar": [
           {
            "marker": {
             "line": {
              "color": "white",
              "width": 0.5
             },
             "pattern": {
              "fillmode": "overlay",
              "size": 10,
              "solidity": 0.2
             }
            },
            "type": "barpolar"
           }
          ],
          "carpet": [
           {
            "aaxis": {
             "endlinecolor": "#2a3f5f",
             "gridcolor": "#C8D4E3",
             "linecolor": "#C8D4E3",
             "minorgridcolor": "#C8D4E3",
             "startlinecolor": "#2a3f5f"
            },
            "baxis": {
             "endlinecolor": "#2a3f5f",
             "gridcolor": "#C8D4E3",
             "linecolor": "#C8D4E3",
             "minorgridcolor": "#C8D4E3",
             "startlinecolor": "#2a3f5f"
            },
            "type": "carpet"
           }
          ],
          "choropleth": [
           {
            "colorbar": {
             "outlinewidth": 0,
             "ticks": ""
            },
            "type": "choropleth"
           }
          ],
          "contour": [
           {
            "colorbar": {
             "outlinewidth": 0,
             "ticks": ""
            },
            "colorscale": [
             [
              0,
              "#0d0887"
             ],
             [
              0.1111111111111111,
              "#46039f"
             ],
             [
              0.2222222222222222,
              "#7201a8"
             ],
             [
              0.3333333333333333,
              "#9c179e"
             ],
             [
              0.4444444444444444,
              "#bd3786"
             ],
             [
              0.5555555555555556,
              "#d8576b"
             ],
             [
              0.6666666666666666,
              "#ed7953"
             ],
             [
              0.7777777777777778,
              "#fb9f3a"
             ],
             [
              0.8888888888888888,
              "#fdca26"
             ],
             [
              1,
              "#f0f921"
             ]
            ],
            "type": "contour"
           }
          ],
          "contourcarpet": [
           {
            "colorbar": {
             "outlinewidth": 0,
             "ticks": ""
            },
            "type": "contourcarpet"
           }
          ],
          "heatmap": [
           {
            "colorbar": {
             "outlinewidth": 0,
             "ticks": ""
            },
            "colorscale": [
             [
              0,
              "#0d0887"
             ],
             [
              0.1111111111111111,
              "#46039f"
             ],
             [
              0.2222222222222222,
              "#7201a8"
             ],
             [
              0.3333333333333333,
              "#9c179e"
             ],
             [
              0.4444444444444444,
              "#bd3786"
             ],
             [
              0.5555555555555556,
              "#d8576b"
             ],
             [
              0.6666666666666666,
              "#ed7953"
             ],
             [
              0.7777777777777778,
              "#fb9f3a"
             ],
             [
              0.8888888888888888,
              "#fdca26"
             ],
             [
              1,
              "#f0f921"
             ]
            ],
            "type": "heatmap"
           }
          ],
          "heatmapgl": [
           {
            "colorbar": {
             "outlinewidth": 0,
             "ticks": ""
            },
            "colorscale": [
             [
              0,
              "#0d0887"
             ],
             [
              0.1111111111111111,
              "#46039f"
             ],
             [
              0.2222222222222222,
              "#7201a8"
             ],
             [
              0.3333333333333333,
              "#9c179e"
             ],
             [
              0.4444444444444444,
              "#bd3786"
             ],
             [
              0.5555555555555556,
              "#d8576b"
             ],
             [
              0.6666666666666666,
              "#ed7953"
             ],
             [
              0.7777777777777778,
              "#fb9f3a"
             ],
             [
              0.8888888888888888,
              "#fdca26"
             ],
             [
              1,
              "#f0f921"
             ]
            ],
            "type": "heatmapgl"
           }
          ],
          "histogram": [
           {
            "marker": {
             "pattern": {
              "fillmode": "overlay",
              "size": 10,
              "solidity": 0.2
             }
            },
            "type": "histogram"
           }
          ],
          "histogram2d": [
           {
            "colorbar": {
             "outlinewidth": 0,
             "ticks": ""
            },
            "colorscale": [
             [
              0,
              "#0d0887"
             ],
             [
              0.1111111111111111,
              "#46039f"
             ],
             [
              0.2222222222222222,
              "#7201a8"
             ],
             [
              0.3333333333333333,
              "#9c179e"
             ],
             [
              0.4444444444444444,
              "#bd3786"
             ],
             [
              0.5555555555555556,
              "#d8576b"
             ],
             [
              0.6666666666666666,
              "#ed7953"
             ],
             [
              0.7777777777777778,
              "#fb9f3a"
             ],
             [
              0.8888888888888888,
              "#fdca26"
             ],
             [
              1,
              "#f0f921"
             ]
            ],
            "type": "histogram2d"
           }
          ],
          "histogram2dcontour": [
           {
            "colorbar": {
             "outlinewidth": 0,
             "ticks": ""
            },
            "colorscale": [
             [
              0,
              "#0d0887"
             ],
             [
              0.1111111111111111,
              "#46039f"
             ],
             [
              0.2222222222222222,
              "#7201a8"
             ],
             [
              0.3333333333333333,
              "#9c179e"
             ],
             [
              0.4444444444444444,
              "#bd3786"
             ],
             [
              0.5555555555555556,
              "#d8576b"
             ],
             [
              0.6666666666666666,
              "#ed7953"
             ],
             [
              0.7777777777777778,
              "#fb9f3a"
             ],
             [
              0.8888888888888888,
              "#fdca26"
             ],
             [
              1,
              "#f0f921"
             ]
            ],
            "type": "histogram2dcontour"
           }
          ],
          "mesh3d": [
           {
            "colorbar": {
             "outlinewidth": 0,
             "ticks": ""
            },
            "type": "mesh3d"
           }
          ],
          "parcoords": [
           {
            "line": {
             "colorbar": {
              "outlinewidth": 0,
              "ticks": ""
             }
            },
            "type": "parcoords"
           }
          ],
          "pie": [
           {
            "automargin": true,
            "type": "pie"
           }
          ],
          "scatter": [
           {
            "fillpattern": {
             "fillmode": "overlay",
             "size": 10,
             "solidity": 0.2
            },
            "type": "scatter"
           }
          ],
          "scatter3d": [
           {
            "line": {
             "colorbar": {
              "outlinewidth": 0,
              "ticks": ""
             }
            },
            "marker": {
             "colorbar": {
              "outlinewidth": 0,
              "ticks": ""
             }
            },
            "type": "scatter3d"
           }
          ],
          "scattercarpet": [
           {
            "marker": {
             "colorbar": {
              "outlinewidth": 0,
              "ticks": ""
             }
            },
            "type": "scattercarpet"
           }
          ],
          "scattergeo": [
           {
            "marker": {
             "colorbar": {
              "outlinewidth": 0,
              "ticks": ""
             }
            },
            "type": "scattergeo"
           }
          ],
          "scattergl": [
           {
            "marker": {
             "colorbar": {
              "outlinewidth": 0,
              "ticks": ""
             }
            },
            "type": "scattergl"
           }
          ],
          "scattermapbox": [
           {
            "marker": {
             "colorbar": {
              "outlinewidth": 0,
              "ticks": ""
             }
            },
            "type": "scattermapbox"
           }
          ],
          "scatterpolar": [
           {
            "marker": {
             "colorbar": {
              "outlinewidth": 0,
              "ticks": ""
             }
            },
            "type": "scatterpolar"
           }
          ],
          "scatterpolargl": [
           {
            "marker": {
             "colorbar": {
              "outlinewidth": 0,
              "ticks": ""
             }
            },
            "type": "scatterpolargl"
           }
          ],
          "scatterternary": [
           {
            "marker": {
             "colorbar": {
              "outlinewidth": 0,
              "ticks": ""
             }
            },
            "type": "scatterternary"
           }
          ],
          "surface": [
           {
            "colorbar": {
             "outlinewidth": 0,
             "ticks": ""
            },
            "colorscale": [
             [
              0,
              "#0d0887"
             ],
             [
              0.1111111111111111,
              "#46039f"
             ],
             [
              0.2222222222222222,
              "#7201a8"
             ],
             [
              0.3333333333333333,
              "#9c179e"
             ],
             [
              0.4444444444444444,
              "#bd3786"
             ],
             [
              0.5555555555555556,
              "#d8576b"
             ],
             [
              0.6666666666666666,
              "#ed7953"
             ],
             [
              0.7777777777777778,
              "#fb9f3a"
             ],
             [
              0.8888888888888888,
              "#fdca26"
             ],
             [
              1,
              "#f0f921"
             ]
            ],
            "type": "surface"
           }
          ],
          "table": [
           {
            "cells": {
             "fill": {
              "color": "#EBF0F8"
             },
             "line": {
              "color": "white"
             }
            },
            "header": {
             "fill": {
              "color": "#C8D4E3"
             },
             "line": {
              "color": "white"
             }
            },
            "type": "table"
           }
          ]
         },
         "layout": {
          "annotationdefaults": {
           "arrowcolor": "#2a3f5f",
           "arrowhead": 0,
           "arrowwidth": 1
          },
          "autotypenumbers": "strict",
          "coloraxis": {
           "colorbar": {
            "outlinewidth": 0,
            "ticks": ""
           }
          },
          "colorscale": {
           "diverging": [
            [
             0,
             "#8e0152"
            ],
            [
             0.1,
             "#c51b7d"
            ],
            [
             0.2,
             "#de77ae"
            ],
            [
             0.3,
             "#f1b6da"
            ],
            [
             0.4,
             "#fde0ef"
            ],
            [
             0.5,
             "#f7f7f7"
            ],
            [
             0.6,
             "#e6f5d0"
            ],
            [
             0.7,
             "#b8e186"
            ],
            [
             0.8,
             "#7fbc41"
            ],
            [
             0.9,
             "#4d9221"
            ],
            [
             1,
             "#276419"
            ]
           ],
           "sequential": [
            [
             0,
             "#0d0887"
            ],
            [
             0.1111111111111111,
             "#46039f"
            ],
            [
             0.2222222222222222,
             "#7201a8"
            ],
            [
             0.3333333333333333,
             "#9c179e"
            ],
            [
             0.4444444444444444,
             "#bd3786"
            ],
            [
             0.5555555555555556,
             "#d8576b"
            ],
            [
             0.6666666666666666,
             "#ed7953"
            ],
            [
             0.7777777777777778,
             "#fb9f3a"
            ],
            [
             0.8888888888888888,
             "#fdca26"
            ],
            [
             1,
             "#f0f921"
            ]
           ],
           "sequentialminus": [
            [
             0,
             "#0d0887"
            ],
            [
             0.1111111111111111,
             "#46039f"
            ],
            [
             0.2222222222222222,
             "#7201a8"
            ],
            [
             0.3333333333333333,
             "#9c179e"
            ],
            [
             0.4444444444444444,
             "#bd3786"
            ],
            [
             0.5555555555555556,
             "#d8576b"
            ],
            [
             0.6666666666666666,
             "#ed7953"
            ],
            [
             0.7777777777777778,
             "#fb9f3a"
            ],
            [
             0.8888888888888888,
             "#fdca26"
            ],
            [
             1,
             "#f0f921"
            ]
           ]
          },
          "colorway": [
           "#636efa",
           "#EF553B",
           "#00cc96",
           "#ab63fa",
           "#FFA15A",
           "#19d3f3",
           "#FF6692",
           "#B6E880",
           "#FF97FF",
           "#FECB52"
          ],
          "font": {
           "color": "#2a3f5f"
          },
          "geo": {
           "bgcolor": "white",
           "lakecolor": "white",
           "landcolor": "white",
           "showlakes": true,
           "showland": true,
           "subunitcolor": "#C8D4E3"
          },
          "hoverlabel": {
           "align": "left"
          },
          "hovermode": "closest",
          "mapbox": {
           "style": "light"
          },
          "paper_bgcolor": "white",
          "plot_bgcolor": "white",
          "polar": {
           "angularaxis": {
            "gridcolor": "#EBF0F8",
            "linecolor": "#EBF0F8",
            "ticks": ""
           },
           "bgcolor": "white",
           "radialaxis": {
            "gridcolor": "#EBF0F8",
            "linecolor": "#EBF0F8",
            "ticks": ""
           }
          },
          "scene": {
           "xaxis": {
            "backgroundcolor": "white",
            "gridcolor": "#DFE8F3",
            "gridwidth": 2,
            "linecolor": "#EBF0F8",
            "showbackground": true,
            "ticks": "",
            "zerolinecolor": "#EBF0F8"
           },
           "yaxis": {
            "backgroundcolor": "white",
            "gridcolor": "#DFE8F3",
            "gridwidth": 2,
            "linecolor": "#EBF0F8",
            "showbackground": true,
            "ticks": "",
            "zerolinecolor": "#EBF0F8"
           },
           "zaxis": {
            "backgroundcolor": "white",
            "gridcolor": "#DFE8F3",
            "gridwidth": 2,
            "linecolor": "#EBF0F8",
            "showbackground": true,
            "ticks": "",
            "zerolinecolor": "#EBF0F8"
           }
          },
          "shapedefaults": {
           "line": {
            "color": "#2a3f5f"
           }
          },
          "ternary": {
           "aaxis": {
            "gridcolor": "#DFE8F3",
            "linecolor": "#A2B1C6",
            "ticks": ""
           },
           "baxis": {
            "gridcolor": "#DFE8F3",
            "linecolor": "#A2B1C6",
            "ticks": ""
           },
           "bgcolor": "white",
           "caxis": {
            "gridcolor": "#DFE8F3",
            "linecolor": "#A2B1C6",
            "ticks": ""
           }
          },
          "title": {
           "x": 0.05
          },
          "xaxis": {
           "automargin": true,
           "gridcolor": "#EBF0F8",
           "linecolor": "#EBF0F8",
           "ticks": "",
           "title": {
            "standoff": 15
           },
           "zerolinecolor": "#EBF0F8",
           "zerolinewidth": 2
          },
          "yaxis": {
           "automargin": true,
           "gridcolor": "#EBF0F8",
           "linecolor": "#EBF0F8",
           "ticks": "",
           "title": {
            "standoff": 15
           },
           "zerolinecolor": "#EBF0F8",
           "zerolinewidth": 2
          }
         }
        },
        "xaxis": {
         "anchor": "y",
         "domain": [
          0,
          0.103125
         ],
         "title": {
          "text": "Wheel<br>Radius"
         }
        },
        "xaxis2": {
         "anchor": "y2",
         "domain": [
          0.128125,
          0.23124999999999998
         ],
         "title": {
          "text": "Chassis<br>Length"
         }
        },
        "xaxis3": {
         "anchor": "y3",
         "domain": [
          0.25625,
          0.359375
         ],
         "title": {
          "text": "Suspension<br>Frequency"
         }
        },
        "xaxis4": {
         "anchor": "y4",
         "domain": [
          0.38437499999999997,
          0.48749999999999993
         ],
         "title": {
          "text": "Suspension<br>Damping"
         }
        },
        "xaxis5": {
         "anchor": "y5",
         "domain": [
          0.5125,
          0.615625
         ],
         "title": {
          "text": "Sensor<br>Limit"
         }
        },
        "xaxis6": {
         "anchor": "y6",
         "domain": [
          0.640625,
          0.74375
         ],
         "title": {
          "text": "Speed<br>Max"
         }
        },
        "xaxis7": {
         "anchor": "y7",
         "domain": [
          0.76875,
          0.8718750000000001
         ],
         "title": {
          "text": "Speed<br>Slope"
         }
        },
        "xaxis8": {
         "anchor": "y8",
         "domain": [
          0.8968750000000001,
          1
         ],
         "title": {
          "text": "Speed<br>Intercept"
         }
        },
        "yaxis": {
         "anchor": "x",
         "domain": [
          0,
          1
         ],
         "range": [
          0.45,
          1.6500000000000001
         ],
         "tickmode": "array",
         "tickvals": [
          0.5,
          1,
          1.5
         ]
        },
        "yaxis2": {
         "anchor": "x2",
         "domain": [
          0,
          1
         ],
         "range": [
          0.9,
          4.4
         ],
         "tickmode": "array",
         "tickvals": [
          1,
          2.5,
          4
         ]
        },
        "yaxis3": {
         "anchor": "x3",
         "domain": [
          0,
          1
         ],
         "range": [
          0.9,
          8.8
         ],
         "tickmode": "array",
         "tickvals": [
          1,
          4.5,
          8
         ]
        },
        "yaxis4": {
         "anchor": "x4",
         "domain": [
          0,
          1
         ],
         "range": [
          0.27,
          0.9900000000000001
         ],
         "tickmode": "array",
         "tickvals": [
          0.3,
          0.6,
          0.9
         ]
        },
        "yaxis5": {
         "anchor": "x5",
         "domain": [
          0,
          1
         ],
         "range": [
          0.9,
          16.5
         ],
         "tickmode": "array",
         "tickvals": [
          1,
          8,
          15
         ]
        },
        "yaxis6": {
         "anchor": "x6",
         "domain": [
          0,
          1
         ],
         "range": [
          0,
          11
         ],
         "tickmode": "array",
         "tickvals": [
          0,
          5,
          10
         ]
        },
        "yaxis7": {
         "anchor": "x7",
         "domain": [
          0,
          1
         ],
         "range": [
          0,
          11
         ],
         "tickmode": "array",
         "tickvals": [
          0,
          5,
          10
         ]
        },
        "yaxis8": {
         "anchor": "x8",
         "domain": [
          0,
          1
         ],
         "range": [
          -18,
          22
         ],
         "tickmode": "array",
         "tickvals": [
          -20,
          0,
          20
         ]
        }
       }
      }
     },
     "metadata": {},
     "output_type": "display_data"
    }
   ],
   "source": [
    "n = len(limits)\n",
    "\n",
    "figures = [px.strip(df, y=name) for name in limits.keys()]\n",
    "\n",
    "fig = make_subplots(rows=1, cols=n)\n",
    "\n",
    "for i, (figure, name) in enumerate(zip(figures, limits.keys())):\n",
    "    for trace in range(len(figure[\"data\"])):\n",
    "        fig.add_trace(figure[\"data\"][trace], row=1, col=1 + i)\n",
    "\n",
    "        lo, hi = limits[name]\n",
    "        fig.update_yaxes(range=[lo * 0.9, hi * 1.1], row=1, col=1 + i)\n",
    "        fig.update_yaxes(\n",
    "            tickmode=\"array\", tickvals=[lo, (lo + hi) / 2, hi], row=1, col=1 + i\n",
    "        )\n",
    "        fig.update_xaxes(title_text=name.replace(\" \", \"<br>\"), row=1, col=1 + i)\n",
    "\n",
    "fig.show()"
   ]
  },
  {
   "cell_type": "code",
   "execution_count": 77,
   "metadata": {},
   "outputs": [
    {
     "data": {
      "application/vnd.plotly.v1+json": {
       "config": {
        "plotlyServerURL": "https://plot.ly"
       },
       "data": [
        {
         "alignmentgroup": "True",
         "boxpoints": "all",
         "fillcolor": "rgba(255,255,255,0)",
         "hoveron": "points",
         "hovertemplate": "variable=%{x}<br>value=%{y}<extra></extra>",
         "legendgroup": "",
         "line": {
          "color": "rgba(255,255,255,0)"
         },
         "marker": {
          "color": "#636efa"
         },
         "name": "",
         "offsetgroup": "",
         "orientation": "v",
         "pointpos": 0,
         "showlegend": false,
         "type": "box",
         "x": [
          "Wheel<br>Radius",
          "Wheel<br>Radius",
          "Wheel<br>Radius",
          "Wheel<br>Radius",
          "Wheel<br>Radius",
          "Wheel<br>Radius",
          "Wheel<br>Radius",
          "Wheel<br>Radius",
          "Wheel<br>Radius",
          "Wheel<br>Radius",
          "Wheel<br>Radius",
          "Wheel<br>Radius",
          "Wheel<br>Radius",
          "Wheel<br>Radius",
          "Wheel<br>Radius",
          "Wheel<br>Radius",
          "Wheel<br>Radius",
          "Wheel<br>Radius",
          "Wheel<br>Radius",
          "Wheel<br>Radius",
          "Wheel<br>Radius",
          "Wheel<br>Radius",
          "Wheel<br>Radius",
          "Wheel<br>Radius",
          "Wheel<br>Radius",
          "Wheel<br>Radius",
          "Wheel<br>Radius",
          "Wheel<br>Radius",
          "Wheel<br>Radius",
          "Wheel<br>Radius",
          "Wheel<br>Radius",
          "Wheel<br>Radius",
          "Wheel<br>Radius",
          "Wheel<br>Radius",
          "Wheel<br>Radius",
          "Wheel<br>Radius",
          "Wheel<br>Radius",
          "Wheel<br>Radius",
          "Wheel<br>Radius",
          "Wheel<br>Radius",
          "Wheel<br>Radius",
          "Wheel<br>Radius",
          "Wheel<br>Radius",
          "Wheel<br>Radius",
          "Wheel<br>Radius",
          "Wheel<br>Radius",
          "Wheel<br>Radius",
          "Wheel<br>Radius",
          "Wheel<br>Radius",
          "Wheel<br>Radius",
          "Chassis<br>Length",
          "Chassis<br>Length",
          "Chassis<br>Length",
          "Chassis<br>Length",
          "Chassis<br>Length",
          "Chassis<br>Length",
          "Chassis<br>Length",
          "Chassis<br>Length",
          "Chassis<br>Length",
          "Chassis<br>Length",
          "Chassis<br>Length",
          "Chassis<br>Length",
          "Chassis<br>Length",
          "Chassis<br>Length",
          "Chassis<br>Length",
          "Chassis<br>Length",
          "Chassis<br>Length",
          "Chassis<br>Length",
          "Chassis<br>Length",
          "Chassis<br>Length",
          "Chassis<br>Length",
          "Chassis<br>Length",
          "Chassis<br>Length",
          "Chassis<br>Length",
          "Chassis<br>Length",
          "Chassis<br>Length",
          "Chassis<br>Length",
          "Chassis<br>Length",
          "Chassis<br>Length",
          "Chassis<br>Length",
          "Chassis<br>Length",
          "Chassis<br>Length",
          "Chassis<br>Length",
          "Chassis<br>Length",
          "Chassis<br>Length",
          "Chassis<br>Length",
          "Chassis<br>Length",
          "Chassis<br>Length",
          "Chassis<br>Length",
          "Chassis<br>Length",
          "Chassis<br>Length",
          "Chassis<br>Length",
          "Chassis<br>Length",
          "Chassis<br>Length",
          "Chassis<br>Length",
          "Chassis<br>Length",
          "Chassis<br>Length",
          "Chassis<br>Length",
          "Chassis<br>Length",
          "Chassis<br>Length",
          "Suspension<br>Frequency",
          "Suspension<br>Frequency",
          "Suspension<br>Frequency",
          "Suspension<br>Frequency",
          "Suspension<br>Frequency",
          "Suspension<br>Frequency",
          "Suspension<br>Frequency",
          "Suspension<br>Frequency",
          "Suspension<br>Frequency",
          "Suspension<br>Frequency",
          "Suspension<br>Frequency",
          "Suspension<br>Frequency",
          "Suspension<br>Frequency",
          "Suspension<br>Frequency",
          "Suspension<br>Frequency",
          "Suspension<br>Frequency",
          "Suspension<br>Frequency",
          "Suspension<br>Frequency",
          "Suspension<br>Frequency",
          "Suspension<br>Frequency",
          "Suspension<br>Frequency",
          "Suspension<br>Frequency",
          "Suspension<br>Frequency",
          "Suspension<br>Frequency",
          "Suspension<br>Frequency",
          "Suspension<br>Frequency",
          "Suspension<br>Frequency",
          "Suspension<br>Frequency",
          "Suspension<br>Frequency",
          "Suspension<br>Frequency",
          "Suspension<br>Frequency",
          "Suspension<br>Frequency",
          "Suspension<br>Frequency",
          "Suspension<br>Frequency",
          "Suspension<br>Frequency",
          "Suspension<br>Frequency",
          "Suspension<br>Frequency",
          "Suspension<br>Frequency",
          "Suspension<br>Frequency",
          "Suspension<br>Frequency",
          "Suspension<br>Frequency",
          "Suspension<br>Frequency",
          "Suspension<br>Frequency",
          "Suspension<br>Frequency",
          "Suspension<br>Frequency",
          "Suspension<br>Frequency",
          "Suspension<br>Frequency",
          "Suspension<br>Frequency",
          "Suspension<br>Frequency",
          "Suspension<br>Frequency",
          "Suspension<br>Damping",
          "Suspension<br>Damping",
          "Suspension<br>Damping",
          "Suspension<br>Damping",
          "Suspension<br>Damping",
          "Suspension<br>Damping",
          "Suspension<br>Damping",
          "Suspension<br>Damping",
          "Suspension<br>Damping",
          "Suspension<br>Damping",
          "Suspension<br>Damping",
          "Suspension<br>Damping",
          "Suspension<br>Damping",
          "Suspension<br>Damping",
          "Suspension<br>Damping",
          "Suspension<br>Damping",
          "Suspension<br>Damping",
          "Suspension<br>Damping",
          "Suspension<br>Damping",
          "Suspension<br>Damping",
          "Suspension<br>Damping",
          "Suspension<br>Damping",
          "Suspension<br>Damping",
          "Suspension<br>Damping",
          "Suspension<br>Damping",
          "Suspension<br>Damping",
          "Suspension<br>Damping",
          "Suspension<br>Damping",
          "Suspension<br>Damping",
          "Suspension<br>Damping",
          "Suspension<br>Damping",
          "Suspension<br>Damping",
          "Suspension<br>Damping",
          "Suspension<br>Damping",
          "Suspension<br>Damping",
          "Suspension<br>Damping",
          "Suspension<br>Damping",
          "Suspension<br>Damping",
          "Suspension<br>Damping",
          "Suspension<br>Damping",
          "Suspension<br>Damping",
          "Suspension<br>Damping",
          "Suspension<br>Damping",
          "Suspension<br>Damping",
          "Suspension<br>Damping",
          "Suspension<br>Damping",
          "Suspension<br>Damping",
          "Suspension<br>Damping",
          "Suspension<br>Damping",
          "Suspension<br>Damping",
          "Sensor<br>Limit",
          "Sensor<br>Limit",
          "Sensor<br>Limit",
          "Sensor<br>Limit",
          "Sensor<br>Limit",
          "Sensor<br>Limit",
          "Sensor<br>Limit",
          "Sensor<br>Limit",
          "Sensor<br>Limit",
          "Sensor<br>Limit",
          "Sensor<br>Limit",
          "Sensor<br>Limit",
          "Sensor<br>Limit",
          "Sensor<br>Limit",
          "Sensor<br>Limit",
          "Sensor<br>Limit",
          "Sensor<br>Limit",
          "Sensor<br>Limit",
          "Sensor<br>Limit",
          "Sensor<br>Limit",
          "Sensor<br>Limit",
          "Sensor<br>Limit",
          "Sensor<br>Limit",
          "Sensor<br>Limit",
          "Sensor<br>Limit",
          "Sensor<br>Limit",
          "Sensor<br>Limit",
          "Sensor<br>Limit",
          "Sensor<br>Limit",
          "Sensor<br>Limit",
          "Sensor<br>Limit",
          "Sensor<br>Limit",
          "Sensor<br>Limit",
          "Sensor<br>Limit",
          "Sensor<br>Limit",
          "Sensor<br>Limit",
          "Sensor<br>Limit",
          "Sensor<br>Limit",
          "Sensor<br>Limit",
          "Sensor<br>Limit",
          "Sensor<br>Limit",
          "Sensor<br>Limit",
          "Sensor<br>Limit",
          "Sensor<br>Limit",
          "Sensor<br>Limit",
          "Sensor<br>Limit",
          "Sensor<br>Limit",
          "Sensor<br>Limit",
          "Sensor<br>Limit",
          "Sensor<br>Limit",
          "Speed<br>Max",
          "Speed<br>Max",
          "Speed<br>Max",
          "Speed<br>Max",
          "Speed<br>Max",
          "Speed<br>Max",
          "Speed<br>Max",
          "Speed<br>Max",
          "Speed<br>Max",
          "Speed<br>Max",
          "Speed<br>Max",
          "Speed<br>Max",
          "Speed<br>Max",
          "Speed<br>Max",
          "Speed<br>Max",
          "Speed<br>Max",
          "Speed<br>Max",
          "Speed<br>Max",
          "Speed<br>Max",
          "Speed<br>Max",
          "Speed<br>Max",
          "Speed<br>Max",
          "Speed<br>Max",
          "Speed<br>Max",
          "Speed<br>Max",
          "Speed<br>Max",
          "Speed<br>Max",
          "Speed<br>Max",
          "Speed<br>Max",
          "Speed<br>Max",
          "Speed<br>Max",
          "Speed<br>Max",
          "Speed<br>Max",
          "Speed<br>Max",
          "Speed<br>Max",
          "Speed<br>Max",
          "Speed<br>Max",
          "Speed<br>Max",
          "Speed<br>Max",
          "Speed<br>Max",
          "Speed<br>Max",
          "Speed<br>Max",
          "Speed<br>Max",
          "Speed<br>Max",
          "Speed<br>Max",
          "Speed<br>Max",
          "Speed<br>Max",
          "Speed<br>Max",
          "Speed<br>Max",
          "Speed<br>Max",
          "Speed<br>Slope",
          "Speed<br>Slope",
          "Speed<br>Slope",
          "Speed<br>Slope",
          "Speed<br>Slope",
          "Speed<br>Slope",
          "Speed<br>Slope",
          "Speed<br>Slope",
          "Speed<br>Slope",
          "Speed<br>Slope",
          "Speed<br>Slope",
          "Speed<br>Slope",
          "Speed<br>Slope",
          "Speed<br>Slope",
          "Speed<br>Slope",
          "Speed<br>Slope",
          "Speed<br>Slope",
          "Speed<br>Slope",
          "Speed<br>Slope",
          "Speed<br>Slope",
          "Speed<br>Slope",
          "Speed<br>Slope",
          "Speed<br>Slope",
          "Speed<br>Slope",
          "Speed<br>Slope",
          "Speed<br>Slope",
          "Speed<br>Slope",
          "Speed<br>Slope",
          "Speed<br>Slope",
          "Speed<br>Slope",
          "Speed<br>Slope",
          "Speed<br>Slope",
          "Speed<br>Slope",
          "Speed<br>Slope",
          "Speed<br>Slope",
          "Speed<br>Slope",
          "Speed<br>Slope",
          "Speed<br>Slope",
          "Speed<br>Slope",
          "Speed<br>Slope",
          "Speed<br>Slope",
          "Speed<br>Slope",
          "Speed<br>Slope",
          "Speed<br>Slope",
          "Speed<br>Slope",
          "Speed<br>Slope",
          "Speed<br>Slope",
          "Speed<br>Slope",
          "Speed<br>Slope",
          "Speed<br>Slope",
          "Speed<br>Intercept",
          "Speed<br>Intercept",
          "Speed<br>Intercept",
          "Speed<br>Intercept",
          "Speed<br>Intercept",
          "Speed<br>Intercept",
          "Speed<br>Intercept",
          "Speed<br>Intercept",
          "Speed<br>Intercept",
          "Speed<br>Intercept",
          "Speed<br>Intercept",
          "Speed<br>Intercept",
          "Speed<br>Intercept",
          "Speed<br>Intercept",
          "Speed<br>Intercept",
          "Speed<br>Intercept",
          "Speed<br>Intercept",
          "Speed<br>Intercept",
          "Speed<br>Intercept",
          "Speed<br>Intercept",
          "Speed<br>Intercept",
          "Speed<br>Intercept",
          "Speed<br>Intercept",
          "Speed<br>Intercept",
          "Speed<br>Intercept",
          "Speed<br>Intercept",
          "Speed<br>Intercept",
          "Speed<br>Intercept",
          "Speed<br>Intercept",
          "Speed<br>Intercept",
          "Speed<br>Intercept",
          "Speed<br>Intercept",
          "Speed<br>Intercept",
          "Speed<br>Intercept",
          "Speed<br>Intercept",
          "Speed<br>Intercept",
          "Speed<br>Intercept",
          "Speed<br>Intercept",
          "Speed<br>Intercept",
          "Speed<br>Intercept",
          "Speed<br>Intercept",
          "Speed<br>Intercept",
          "Speed<br>Intercept",
          "Speed<br>Intercept",
          "Speed<br>Intercept",
          "Speed<br>Intercept",
          "Speed<br>Intercept",
          "Speed<br>Intercept",
          "Speed<br>Intercept",
          "Speed<br>Intercept"
         ],
         "x0": " ",
         "xaxis": "x",
         "y": [
          0.1535198712424581,
          0.1535198712424581,
          0.1535198712424581,
          0.1535198712424581,
          0.144693971127671,
          0.144693971127671,
          0.1484354994450009,
          0.1484354994450009,
          0.1535198712424581,
          0.1548262064292623,
          0.1308445620228481,
          0.1535198712424581,
          0.146086331953562,
          0.1484354994450009,
          0.1311038935985846,
          0.1535198712424581,
          0.1535198712424581,
          0.1645897138916695,
          0.1444902687915903,
          0.1484354994450009,
          0.1415371334857229,
          0.1853398828568681,
          0.1406001815272199,
          0.1406001815272199,
          0.1406001815272199,
          0.1406001815272199,
          0.1406001815272199,
          0.1406001815272199,
          0.1499901880220036,
          0.1444902687915903,
          0.1280664741942092,
          0.147517441890923,
          0.1535198712424581,
          0.1484354994450009,
          0.1484354994450009,
          0.1254363491979542,
          0.1420425988448673,
          0.1311038935985846,
          0.1308445620228481,
          0.1420425988448673,
          0.186443782516391,
          0.1311038935985846,
          0.1308445620228481,
          0.1308445620228481,
          0.1311038935985846,
          0.1535198712424581,
          0.1406001815272199,
          0.144693971127671,
          0.1406001815272199,
          0.1328063193892819,
          0.2825867429777678,
          0.2825867429777678,
          0.2825867429777678,
          0.2825867429777678,
          0.269704975120402,
          0.269704975120402,
          0.2595255825588936,
          0.2595255825588936,
          0.2825867429777678,
          0.269704975120402,
          0.2405049345803495,
          0.3104869359616353,
          0.4579386527498499,
          0.3058788876374634,
          0.2722045311076728,
          0.2825867429777678,
          0.2825867429777678,
          0.5678574283593629,
          0.2680209715408694,
          0.2595255825588936,
          0.2476707948152315,
          0.2166133732014783,
          0.2656243968751238,
          0.2656243968751238,
          0.2656243968751238,
          0.2656243968751238,
          0.2656243968751238,
          0.2656243968751238,
          0.2405049345803495,
          0.2444226344986243,
          0.3225824533878198,
          0.3648072507901508,
          0.3225824533878198,
          0.3396031765065757,
          0.2137136251452308,
          0.2716440700917216,
          0.2719470185037289,
          0.2716440700917216,
          0.2489923088669315,
          0.2719470185037289,
          0.5678574283593629,
          0.2236372288976122,
          0.2405049345803495,
          0.2929007447307513,
          0.2716440700917216,
          0.2825867429777678,
          0.2064328916558158,
          0.3042091406192317,
          0.2743042172306786,
          0.3358927281773212,
          0.6922667499878258,
          0.6922667499878258,
          0.854172649925634,
          0.8565670166649144,
          0.808773442250631,
          0.808773442250631,
          0.7522369675025938,
          0.7522369675025938,
          0.8565670166649144,
          0.7999300974580041,
          0.8754161651953438,
          0.7933864436457962,
          0.9093542015045276,
          0.6941368503010567,
          0.787184780085245,
          0.8565670166649144,
          0.8565670166649144,
          0.2749244362797768,
          0.8996559546188557,
          0.7805934655140071,
          0.9418195152651638,
          0.9772124612164244,
          1,
          1,
          1,
          1,
          1,
          0.8652991717585128,
          0.8875933435552485,
          0.8996559546188557,
          0.7862283628905725,
          1,
          0.789461801867358,
          0.7522369675025938,
          0.7854948892714496,
          0.75365240976026,
          0.787562849486269,
          0.6551092314237741,
          0.7310053956361697,
          0.7673167676162331,
          0.3095550291826356,
          0.8785231338739382,
          0.7555731021694433,
          0.7922577706670583,
          0.5734338048855643,
          0.8565670166649144,
          0.9751275817248388,
          0.7486326815725812,
          0.9751275817248388,
          0.7539320625800106,
          0.2572097979790924,
          0.2572097979790924,
          0.4392639529167637,
          0.192225632004246,
          0.0606391837832164,
          0.0606391837832164,
          0.5717579055249556,
          0.5717579055249556,
          0.1603525619773904,
          0.1498421788849004,
          0.8236352742563902,
          0.2572097979790924,
          0.2662121822622243,
          0.7357503058541702,
          0.2747978403488889,
          0.0626967240179962,
          0.2572097979790924,
          0.0573701005131087,
          0.4461264629293282,
          0.5435173344883268,
          0.1265165282870831,
          0.0983278255534627,
          0.2860724122179592,
          0.2860724122179592,
          0.3349247651440629,
          0.3411863708715524,
          0.3443324745125159,
          0.1084379101242113,
          0.8906252958288178,
          0.4823690541846388,
          0.3370156336563633,
          0.4598381047409515,
          0.3370156336563633,
          0.5156193791036481,
          0.8228054628055257,
          0.2568684548988756,
          0.4370103917662676,
          0.3265566010871787,
          0.8236352742563902,
          0.4682409705117061,
          0.112668883548992,
          0.4777523873878614,
          0.5826301984964432,
          0.8222976163020427,
          0.0449073292758803,
          0.3260112554396238,
          0.2115580438296362,
          0.0606391837832164,
          0.1801225049050367,
          0.4116974638557003,
          1,
          1,
          0.933279905266825,
          1,
          0.9513880684047826,
          0.935790281825775,
          0.715288927068949,
          0.720050149012514,
          0.962183998219762,
          0.9513880684047826,
          0.5989571820064304,
          1,
          0.8545938958971101,
          0.5147501173250677,
          0.6388736721807444,
          1,
          0.962183998219762,
          0.8278605114504044,
          0.7207399098763053,
          0.7023604192044005,
          0.9643642096944444,
          1,
          1,
          0.9500955799935696,
          1,
          1,
          0.9165976680752108,
          1,
          0.7174304743793903,
          0.721636266160283,
          0.9606699107653632,
          0.5135678333709713,
          0.9606699107653632,
          0.6294997298284597,
          0.5936138003082985,
          0.5845577650469498,
          0.8999034078132677,
          0.688208596354491,
          0.4584349896229669,
          1,
          0.8753722369014776,
          0.4993435037419465,
          0.6419038898715933,
          0.7327027670870402,
          0.5266591375229926,
          0.962183998219762,
          1,
          1,
          1,
          0.8375504374967369,
          1,
          1,
          0.9919963232502644,
          0.97656700326612,
          0.8377111681698782,
          0.8377111681698782,
          0.7869833059019263,
          0.7869833059019263,
          0.97656700326612,
          0.8196755665933845,
          0.7320412755692992,
          0.9405623357639228,
          1,
          1,
          0.6059184158411182,
          0.97656700326612,
          0.9954900330830316,
          0.8291579819733382,
          0.6788008893556614,
          0.7869833059019263,
          0.8380528642673325,
          0.8490446130226266,
          0.642952907895943,
          0.642952907895943,
          0.642952907895943,
          0.642952907895943,
          0.642952907895943,
          0.642952907895943,
          0.6317866802204907,
          0.6788008893556614,
          1,
          0.8653920286192918,
          1,
          0.7869833059019263,
          0.7869833059019263,
          0.6059184158411182,
          0.9783912705537012,
          0.5972274187857338,
          0.7320412755692992,
          0.9783912705537012,
          0.7205666035798878,
          0.6059184158411182,
          0.7158687556663668,
          0.7110294886441288,
          0.6059184158411182,
          0.9981890862750108,
          0.618563381813451,
          0.8377111681698782,
          0.618563381813451,
          0.9640495049581408,
          0.2151126134440971,
          0.2151126134440971,
          0.2151126134440971,
          0.2147643862032035,
          0.2307293274803281,
          0.2307293274803281,
          0.2488571460490496,
          0.2488571460490496,
          0.2147643862032035,
          0.2307293274803281,
          0.2839507740510286,
          0.2147643862032035,
          0.2151126134440971,
          0.2488571460490496,
          0.326636566645909,
          0.2147643862032035,
          0.2147643862032035,
          0.2307293274803281,
          0.2875344081332388,
          0.2488571460490496,
          0.2307293274803281,
          0.2151126134440971,
          0.311134561406711,
          0.311134561406711,
          0.311134561406711,
          0.311134561406711,
          0.311134561406711,
          0.311134561406711,
          0.2839507740510286,
          0.2875344081332388,
          0.2151126134440971,
          0.2488571460490496,
          0.2151126134440971,
          0.2488571460490496,
          0.2488571460490496,
          0.326636566645909,
          0.2111021505334354,
          0.326636566645909,
          0.2839507740510286,
          0.2111021505334354,
          0.2307293274803281,
          0.326636566645909,
          0.2839507740510286,
          0.2839507740510286,
          0.326636566645909,
          0.2147643862032035,
          0.311134561406711,
          0.2307293274803281,
          0.311134561406711,
          0.2151126134440971,
          0.2312435722212373,
          0.2312435722212373,
          0.2312435722212373,
          0.2312435722212373,
          0.2118702028181713,
          0.2118702028181713,
          0.1887070978023999,
          0.1887070978023999,
          0.2312435722212373,
          0.2118702028181713,
          0.1449848331147571,
          0.2312435722212373,
          0.2312435722212373,
          0.1887070978023999,
          0.091760918871784,
          0.2312435722212373,
          0.2312435722212373,
          0.2118702028181713,
          0.1395125413535066,
          0.1887070978023999,
          0.2092822980574652,
          0.2312435722212373,
          0.1121799886514527,
          0.1121799886514527,
          0.1121799886514527,
          0.1121799886514527,
          0.1121799886514527,
          0.1121799886514527,
          0.1449848331147571,
          0.1395125413535066,
          0.2312435722212373,
          0.1887070978023999,
          0.2312435722212373,
          0.1887070978023999,
          0.1887070978023999,
          0.091760918871784,
          0.2322297735445101,
          0.091760918871784,
          0.1449848331147571,
          0.2322297735445101,
          0.2118702028181713,
          0.090957365137028,
          0.1449848331147571,
          0.1449848331147571,
          0.091760918871784,
          0.2312435722212373,
          0.1121799886514527,
          0.2118702028181713,
          0.1121799886514527,
          0.2322297735445101
         ],
         "y0": " ",
         "yaxis": "y"
        }
       ],
       "layout": {
        "boxmode": "group",
        "legend": {
         "tracegroupgap": 0
        },
        "margin": {
         "t": 60
        },
        "template": {
         "data": {
          "bar": [
           {
            "error_x": {
             "color": "#2a3f5f"
            },
            "error_y": {
             "color": "#2a3f5f"
            },
            "marker": {
             "line": {
              "color": "white",
              "width": 0.5
             },
             "pattern": {
              "fillmode": "overlay",
              "size": 10,
              "solidity": 0.2
             }
            },
            "type": "bar"
           }
          ],
          "barpolar": [
           {
            "marker": {
             "line": {
              "color": "white",
              "width": 0.5
             },
             "pattern": {
              "fillmode": "overlay",
              "size": 10,
              "solidity": 0.2
             }
            },
            "type": "barpolar"
           }
          ],
          "carpet": [
           {
            "aaxis": {
             "endlinecolor": "#2a3f5f",
             "gridcolor": "#C8D4E3",
             "linecolor": "#C8D4E3",
             "minorgridcolor": "#C8D4E3",
             "startlinecolor": "#2a3f5f"
            },
            "baxis": {
             "endlinecolor": "#2a3f5f",
             "gridcolor": "#C8D4E3",
             "linecolor": "#C8D4E3",
             "minorgridcolor": "#C8D4E3",
             "startlinecolor": "#2a3f5f"
            },
            "type": "carpet"
           }
          ],
          "choropleth": [
           {
            "colorbar": {
             "outlinewidth": 0,
             "ticks": ""
            },
            "type": "choropleth"
           }
          ],
          "contour": [
           {
            "colorbar": {
             "outlinewidth": 0,
             "ticks": ""
            },
            "colorscale": [
             [
              0,
              "#0d0887"
             ],
             [
              0.1111111111111111,
              "#46039f"
             ],
             [
              0.2222222222222222,
              "#7201a8"
             ],
             [
              0.3333333333333333,
              "#9c179e"
             ],
             [
              0.4444444444444444,
              "#bd3786"
             ],
             [
              0.5555555555555556,
              "#d8576b"
             ],
             [
              0.6666666666666666,
              "#ed7953"
             ],
             [
              0.7777777777777778,
              "#fb9f3a"
             ],
             [
              0.8888888888888888,
              "#fdca26"
             ],
             [
              1,
              "#f0f921"
             ]
            ],
            "type": "contour"
           }
          ],
          "contourcarpet": [
           {
            "colorbar": {
             "outlinewidth": 0,
             "ticks": ""
            },
            "type": "contourcarpet"
           }
          ],
          "heatmap": [
           {
            "colorbar": {
             "outlinewidth": 0,
             "ticks": ""
            },
            "colorscale": [
             [
              0,
              "#0d0887"
             ],
             [
              0.1111111111111111,
              "#46039f"
             ],
             [
              0.2222222222222222,
              "#7201a8"
             ],
             [
              0.3333333333333333,
              "#9c179e"
             ],
             [
              0.4444444444444444,
              "#bd3786"
             ],
             [
              0.5555555555555556,
              "#d8576b"
             ],
             [
              0.6666666666666666,
              "#ed7953"
             ],
             [
              0.7777777777777778,
              "#fb9f3a"
             ],
             [
              0.8888888888888888,
              "#fdca26"
             ],
             [
              1,
              "#f0f921"
             ]
            ],
            "type": "heatmap"
           }
          ],
          "heatmapgl": [
           {
            "colorbar": {
             "outlinewidth": 0,
             "ticks": ""
            },
            "colorscale": [
             [
              0,
              "#0d0887"
             ],
             [
              0.1111111111111111,
              "#46039f"
             ],
             [
              0.2222222222222222,
              "#7201a8"
             ],
             [
              0.3333333333333333,
              "#9c179e"
             ],
             [
              0.4444444444444444,
              "#bd3786"
             ],
             [
              0.5555555555555556,
              "#d8576b"
             ],
             [
              0.6666666666666666,
              "#ed7953"
             ],
             [
              0.7777777777777778,
              "#fb9f3a"
             ],
             [
              0.8888888888888888,
              "#fdca26"
             ],
             [
              1,
              "#f0f921"
             ]
            ],
            "type": "heatmapgl"
           }
          ],
          "histogram": [
           {
            "marker": {
             "pattern": {
              "fillmode": "overlay",
              "size": 10,
              "solidity": 0.2
             }
            },
            "type": "histogram"
           }
          ],
          "histogram2d": [
           {
            "colorbar": {
             "outlinewidth": 0,
             "ticks": ""
            },
            "colorscale": [
             [
              0,
              "#0d0887"
             ],
             [
              0.1111111111111111,
              "#46039f"
             ],
             [
              0.2222222222222222,
              "#7201a8"
             ],
             [
              0.3333333333333333,
              "#9c179e"
             ],
             [
              0.4444444444444444,
              "#bd3786"
             ],
             [
              0.5555555555555556,
              "#d8576b"
             ],
             [
              0.6666666666666666,
              "#ed7953"
             ],
             [
              0.7777777777777778,
              "#fb9f3a"
             ],
             [
              0.8888888888888888,
              "#fdca26"
             ],
             [
              1,
              "#f0f921"
             ]
            ],
            "type": "histogram2d"
           }
          ],
          "histogram2dcontour": [
           {
            "colorbar": {
             "outlinewidth": 0,
             "ticks": ""
            },
            "colorscale": [
             [
              0,
              "#0d0887"
             ],
             [
              0.1111111111111111,
              "#46039f"
             ],
             [
              0.2222222222222222,
              "#7201a8"
             ],
             [
              0.3333333333333333,
              "#9c179e"
             ],
             [
              0.4444444444444444,
              "#bd3786"
             ],
             [
              0.5555555555555556,
              "#d8576b"
             ],
             [
              0.6666666666666666,
              "#ed7953"
             ],
             [
              0.7777777777777778,
              "#fb9f3a"
             ],
             [
              0.8888888888888888,
              "#fdca26"
             ],
             [
              1,
              "#f0f921"
             ]
            ],
            "type": "histogram2dcontour"
           }
          ],
          "mesh3d": [
           {
            "colorbar": {
             "outlinewidth": 0,
             "ticks": ""
            },
            "type": "mesh3d"
           }
          ],
          "parcoords": [
           {
            "line": {
             "colorbar": {
              "outlinewidth": 0,
              "ticks": ""
             }
            },
            "type": "parcoords"
           }
          ],
          "pie": [
           {
            "automargin": true,
            "type": "pie"
           }
          ],
          "scatter": [
           {
            "fillpattern": {
             "fillmode": "overlay",
             "size": 10,
             "solidity": 0.2
            },
            "type": "scatter"
           }
          ],
          "scatter3d": [
           {
            "line": {
             "colorbar": {
              "outlinewidth": 0,
              "ticks": ""
             }
            },
            "marker": {
             "colorbar": {
              "outlinewidth": 0,
              "ticks": ""
             }
            },
            "type": "scatter3d"
           }
          ],
          "scattercarpet": [
           {
            "marker": {
             "colorbar": {
              "outlinewidth": 0,
              "ticks": ""
             }
            },
            "type": "scattercarpet"
           }
          ],
          "scattergeo": [
           {
            "marker": {
             "colorbar": {
              "outlinewidth": 0,
              "ticks": ""
             }
            },
            "type": "scattergeo"
           }
          ],
          "scattergl": [
           {
            "marker": {
             "colorbar": {
              "outlinewidth": 0,
              "ticks": ""
             }
            },
            "type": "scattergl"
           }
          ],
          "scattermapbox": [
           {
            "marker": {
             "colorbar": {
              "outlinewidth": 0,
              "ticks": ""
             }
            },
            "type": "scattermapbox"
           }
          ],
          "scatterpolar": [
           {
            "marker": {
             "colorbar": {
              "outlinewidth": 0,
              "ticks": ""
             }
            },
            "type": "scatterpolar"
           }
          ],
          "scatterpolargl": [
           {
            "marker": {
             "colorbar": {
              "outlinewidth": 0,
              "ticks": ""
             }
            },
            "type": "scatterpolargl"
           }
          ],
          "scatterternary": [
           {
            "marker": {
             "colorbar": {
              "outlinewidth": 0,
              "ticks": ""
             }
            },
            "type": "scatterternary"
           }
          ],
          "surface": [
           {
            "colorbar": {
             "outlinewidth": 0,
             "ticks": ""
            },
            "colorscale": [
             [
              0,
              "#0d0887"
             ],
             [
              0.1111111111111111,
              "#46039f"
             ],
             [
              0.2222222222222222,
              "#7201a8"
             ],
             [
              0.3333333333333333,
              "#9c179e"
             ],
             [
              0.4444444444444444,
              "#bd3786"
             ],
             [
              0.5555555555555556,
              "#d8576b"
             ],
             [
              0.6666666666666666,
              "#ed7953"
             ],
             [
              0.7777777777777778,
              "#fb9f3a"
             ],
             [
              0.8888888888888888,
              "#fdca26"
             ],
             [
              1,
              "#f0f921"
             ]
            ],
            "type": "surface"
           }
          ],
          "table": [
           {
            "cells": {
             "fill": {
              "color": "#EBF0F8"
             },
             "line": {
              "color": "white"
             }
            },
            "header": {
             "fill": {
              "color": "#C8D4E3"
             },
             "line": {
              "color": "white"
             }
            },
            "type": "table"
           }
          ]
         },
         "layout": {
          "annotationdefaults": {
           "arrowcolor": "#2a3f5f",
           "arrowhead": 0,
           "arrowwidth": 1
          },
          "autotypenumbers": "strict",
          "coloraxis": {
           "colorbar": {
            "outlinewidth": 0,
            "ticks": ""
           }
          },
          "colorscale": {
           "diverging": [
            [
             0,
             "#8e0152"
            ],
            [
             0.1,
             "#c51b7d"
            ],
            [
             0.2,
             "#de77ae"
            ],
            [
             0.3,
             "#f1b6da"
            ],
            [
             0.4,
             "#fde0ef"
            ],
            [
             0.5,
             "#f7f7f7"
            ],
            [
             0.6,
             "#e6f5d0"
            ],
            [
             0.7,
             "#b8e186"
            ],
            [
             0.8,
             "#7fbc41"
            ],
            [
             0.9,
             "#4d9221"
            ],
            [
             1,
             "#276419"
            ]
           ],
           "sequential": [
            [
             0,
             "#0d0887"
            ],
            [
             0.1111111111111111,
             "#46039f"
            ],
            [
             0.2222222222222222,
             "#7201a8"
            ],
            [
             0.3333333333333333,
             "#9c179e"
            ],
            [
             0.4444444444444444,
             "#bd3786"
            ],
            [
             0.5555555555555556,
             "#d8576b"
            ],
            [
             0.6666666666666666,
             "#ed7953"
            ],
            [
             0.7777777777777778,
             "#fb9f3a"
            ],
            [
             0.8888888888888888,
             "#fdca26"
            ],
            [
             1,
             "#f0f921"
            ]
           ],
           "sequentialminus": [
            [
             0,
             "#0d0887"
            ],
            [
             0.1111111111111111,
             "#46039f"
            ],
            [
             0.2222222222222222,
             "#7201a8"
            ],
            [
             0.3333333333333333,
             "#9c179e"
            ],
            [
             0.4444444444444444,
             "#bd3786"
            ],
            [
             0.5555555555555556,
             "#d8576b"
            ],
            [
             0.6666666666666666,
             "#ed7953"
            ],
            [
             0.7777777777777778,
             "#fb9f3a"
            ],
            [
             0.8888888888888888,
             "#fdca26"
            ],
            [
             1,
             "#f0f921"
            ]
           ]
          },
          "colorway": [
           "#636efa",
           "#EF553B",
           "#00cc96",
           "#ab63fa",
           "#FFA15A",
           "#19d3f3",
           "#FF6692",
           "#B6E880",
           "#FF97FF",
           "#FECB52"
          ],
          "font": {
           "color": "#2a3f5f"
          },
          "geo": {
           "bgcolor": "white",
           "lakecolor": "white",
           "landcolor": "white",
           "showlakes": true,
           "showland": true,
           "subunitcolor": "#C8D4E3"
          },
          "hoverlabel": {
           "align": "left"
          },
          "hovermode": "closest",
          "mapbox": {
           "style": "light"
          },
          "paper_bgcolor": "white",
          "plot_bgcolor": "white",
          "polar": {
           "angularaxis": {
            "gridcolor": "#EBF0F8",
            "linecolor": "#EBF0F8",
            "ticks": ""
           },
           "bgcolor": "white",
           "radialaxis": {
            "gridcolor": "#EBF0F8",
            "linecolor": "#EBF0F8",
            "ticks": ""
           }
          },
          "scene": {
           "xaxis": {
            "backgroundcolor": "white",
            "gridcolor": "#DFE8F3",
            "gridwidth": 2,
            "linecolor": "#EBF0F8",
            "showbackground": true,
            "ticks": "",
            "zerolinecolor": "#EBF0F8"
           },
           "yaxis": {
            "backgroundcolor": "white",
            "gridcolor": "#DFE8F3",
            "gridwidth": 2,
            "linecolor": "#EBF0F8",
            "showbackground": true,
            "ticks": "",
            "zerolinecolor": "#EBF0F8"
           },
           "zaxis": {
            "backgroundcolor": "white",
            "gridcolor": "#DFE8F3",
            "gridwidth": 2,
            "linecolor": "#EBF0F8",
            "showbackground": true,
            "ticks": "",
            "zerolinecolor": "#EBF0F8"
           }
          },
          "shapedefaults": {
           "line": {
            "color": "#2a3f5f"
           }
          },
          "ternary": {
           "aaxis": {
            "gridcolor": "#DFE8F3",
            "linecolor": "#A2B1C6",
            "ticks": ""
           },
           "baxis": {
            "gridcolor": "#DFE8F3",
            "linecolor": "#A2B1C6",
            "ticks": ""
           },
           "bgcolor": "white",
           "caxis": {
            "gridcolor": "#DFE8F3",
            "linecolor": "#A2B1C6",
            "ticks": ""
           }
          },
          "title": {
           "x": 0.05
          },
          "xaxis": {
           "automargin": true,
           "gridcolor": "#EBF0F8",
           "linecolor": "#EBF0F8",
           "ticks": "",
           "title": {
            "standoff": 15
           },
           "zerolinecolor": "#EBF0F8",
           "zerolinewidth": 2
          },
          "yaxis": {
           "automargin": true,
           "gridcolor": "#EBF0F8",
           "linecolor": "#EBF0F8",
           "ticks": "",
           "title": {
            "standoff": 15
           },
           "zerolinecolor": "#EBF0F8",
           "zerolinewidth": 2
          }
         }
        },
        "title": {
         "text": "Evolved Parameters of Top 5% of Population"
        },
        "xaxis": {
         "anchor": "y",
         "domain": [
          0,
          1
         ],
         "title": {
          "text": ""
         }
        },
        "yaxis": {
         "anchor": "x",
         "domain": [
          0,
          1
         ],
         "showticklabels": false,
         "title": {
          "text": ""
         }
        }
       }
      }
     },
     "metadata": {},
     "output_type": "display_data"
    }
   ],
   "source": [
    "columns = [f\"{name} Genome\" for name in limits.keys()]\n",
    "labels = [\"<br>\".join(name.split(\" \")[:2]) for name in columns]\n",
    "\n",
    "df_temp = df[columns]\n",
    "df_temp.columns = labels\n",
    "\n",
    "fig = px.strip(df_temp)\n",
    "\n",
    "fig.update_layout(\n",
    "    title=\"Evolved Parameters of Top 5% of Population\",\n",
    "    yaxis_showticklabels=False,\n",
    "    yaxis_title=\"\",\n",
    "    xaxis_title=\"\",\n",
    ")\n",
    "\n",
    "fig.show()"
   ]
  },
  {
   "cell_type": "code",
   "execution_count": 97,
   "metadata": {},
   "outputs": [
    {
     "data": {
      "application/vnd.plotly.v1+json": {
       "config": {
        "plotlyServerURL": "https://plot.ly"
       },
       "data": [
        {
         "alignmentgroup": "True",
         "boxpoints": "all",
         "fillcolor": "rgba(255,255,255,0)",
         "hoveron": "points",
         "hovertemplate": "variable=%{x}<br>value=%{y}<extra></extra>",
         "legendgroup": "",
         "line": {
          "color": "rgba(255,255,255,0)"
         },
         "marker": {
          "color": "#636efa"
         },
         "name": "",
         "offsetgroup": "",
         "orientation": "v",
         "pointpos": 0,
         "showlegend": false,
         "type": "box",
         "x": [
          "Wheel<br>Radius",
          "Wheel<br>Radius",
          "Wheel<br>Radius",
          "Wheel<br>Radius",
          "Wheel<br>Radius",
          "Wheel<br>Radius",
          "Wheel<br>Radius",
          "Wheel<br>Radius",
          "Wheel<br>Radius",
          "Wheel<br>Radius",
          "Wheel<br>Radius",
          "Wheel<br>Radius",
          "Wheel<br>Radius",
          "Wheel<br>Radius",
          "Wheel<br>Radius",
          "Wheel<br>Radius",
          "Wheel<br>Radius",
          "Wheel<br>Radius",
          "Wheel<br>Radius",
          "Wheel<br>Radius",
          "Wheel<br>Radius",
          "Wheel<br>Radius",
          "Wheel<br>Radius",
          "Wheel<br>Radius",
          "Wheel<br>Radius",
          "Wheel<br>Radius",
          "Wheel<br>Radius",
          "Wheel<br>Radius",
          "Wheel<br>Radius",
          "Wheel<br>Radius",
          "Wheel<br>Radius",
          "Wheel<br>Radius",
          "Wheel<br>Radius",
          "Wheel<br>Radius",
          "Wheel<br>Radius",
          "Wheel<br>Radius",
          "Wheel<br>Radius",
          "Wheel<br>Radius",
          "Wheel<br>Radius",
          "Wheel<br>Radius",
          "Wheel<br>Radius",
          "Wheel<br>Radius",
          "Wheel<br>Radius",
          "Wheel<br>Radius",
          "Wheel<br>Radius",
          "Wheel<br>Radius",
          "Wheel<br>Radius",
          "Wheel<br>Radius",
          "Wheel<br>Radius",
          "Wheel<br>Radius",
          "Chassis<br>Length",
          "Chassis<br>Length",
          "Chassis<br>Length",
          "Chassis<br>Length",
          "Chassis<br>Length",
          "Chassis<br>Length",
          "Chassis<br>Length",
          "Chassis<br>Length",
          "Chassis<br>Length",
          "Chassis<br>Length",
          "Chassis<br>Length",
          "Chassis<br>Length",
          "Chassis<br>Length",
          "Chassis<br>Length",
          "Chassis<br>Length",
          "Chassis<br>Length",
          "Chassis<br>Length",
          "Chassis<br>Length",
          "Chassis<br>Length",
          "Chassis<br>Length",
          "Chassis<br>Length",
          "Chassis<br>Length",
          "Chassis<br>Length",
          "Chassis<br>Length",
          "Chassis<br>Length",
          "Chassis<br>Length",
          "Chassis<br>Length",
          "Chassis<br>Length",
          "Chassis<br>Length",
          "Chassis<br>Length",
          "Chassis<br>Length",
          "Chassis<br>Length",
          "Chassis<br>Length",
          "Chassis<br>Length",
          "Chassis<br>Length",
          "Chassis<br>Length",
          "Chassis<br>Length",
          "Chassis<br>Length",
          "Chassis<br>Length",
          "Chassis<br>Length",
          "Chassis<br>Length",
          "Chassis<br>Length",
          "Chassis<br>Length",
          "Chassis<br>Length",
          "Chassis<br>Length",
          "Chassis<br>Length",
          "Chassis<br>Length",
          "Chassis<br>Length",
          "Chassis<br>Length",
          "Chassis<br>Length",
          "Suspension<br>Frequency",
          "Suspension<br>Frequency",
          "Suspension<br>Frequency",
          "Suspension<br>Frequency",
          "Suspension<br>Frequency",
          "Suspension<br>Frequency",
          "Suspension<br>Frequency",
          "Suspension<br>Frequency",
          "Suspension<br>Frequency",
          "Suspension<br>Frequency",
          "Suspension<br>Frequency",
          "Suspension<br>Frequency",
          "Suspension<br>Frequency",
          "Suspension<br>Frequency",
          "Suspension<br>Frequency",
          "Suspension<br>Frequency",
          "Suspension<br>Frequency",
          "Suspension<br>Frequency",
          "Suspension<br>Frequency",
          "Suspension<br>Frequency",
          "Suspension<br>Frequency",
          "Suspension<br>Frequency",
          "Suspension<br>Frequency",
          "Suspension<br>Frequency",
          "Suspension<br>Frequency",
          "Suspension<br>Frequency",
          "Suspension<br>Frequency",
          "Suspension<br>Frequency",
          "Suspension<br>Frequency",
          "Suspension<br>Frequency",
          "Suspension<br>Frequency",
          "Suspension<br>Frequency",
          "Suspension<br>Frequency",
          "Suspension<br>Frequency",
          "Suspension<br>Frequency",
          "Suspension<br>Frequency",
          "Suspension<br>Frequency",
          "Suspension<br>Frequency",
          "Suspension<br>Frequency",
          "Suspension<br>Frequency",
          "Suspension<br>Frequency",
          "Suspension<br>Frequency",
          "Suspension<br>Frequency",
          "Suspension<br>Frequency",
          "Suspension<br>Frequency",
          "Suspension<br>Frequency",
          "Suspension<br>Frequency",
          "Suspension<br>Frequency",
          "Suspension<br>Frequency",
          "Suspension<br>Frequency",
          "Suspension<br>Damping",
          "Suspension<br>Damping",
          "Suspension<br>Damping",
          "Suspension<br>Damping",
          "Suspension<br>Damping",
          "Suspension<br>Damping",
          "Suspension<br>Damping",
          "Suspension<br>Damping",
          "Suspension<br>Damping",
          "Suspension<br>Damping",
          "Suspension<br>Damping",
          "Suspension<br>Damping",
          "Suspension<br>Damping",
          "Suspension<br>Damping",
          "Suspension<br>Damping",
          "Suspension<br>Damping",
          "Suspension<br>Damping",
          "Suspension<br>Damping",
          "Suspension<br>Damping",
          "Suspension<br>Damping",
          "Suspension<br>Damping",
          "Suspension<br>Damping",
          "Suspension<br>Damping",
          "Suspension<br>Damping",
          "Suspension<br>Damping",
          "Suspension<br>Damping",
          "Suspension<br>Damping",
          "Suspension<br>Damping",
          "Suspension<br>Damping",
          "Suspension<br>Damping",
          "Suspension<br>Damping",
          "Suspension<br>Damping",
          "Suspension<br>Damping",
          "Suspension<br>Damping",
          "Suspension<br>Damping",
          "Suspension<br>Damping",
          "Suspension<br>Damping",
          "Suspension<br>Damping",
          "Suspension<br>Damping",
          "Suspension<br>Damping",
          "Suspension<br>Damping",
          "Suspension<br>Damping",
          "Suspension<br>Damping",
          "Suspension<br>Damping",
          "Suspension<br>Damping",
          "Suspension<br>Damping",
          "Suspension<br>Damping",
          "Suspension<br>Damping",
          "Suspension<br>Damping",
          "Suspension<br>Damping",
          "Sensor<br>Limit",
          "Sensor<br>Limit",
          "Sensor<br>Limit",
          "Sensor<br>Limit",
          "Sensor<br>Limit",
          "Sensor<br>Limit",
          "Sensor<br>Limit",
          "Sensor<br>Limit",
          "Sensor<br>Limit",
          "Sensor<br>Limit",
          "Sensor<br>Limit",
          "Sensor<br>Limit",
          "Sensor<br>Limit",
          "Sensor<br>Limit",
          "Sensor<br>Limit",
          "Sensor<br>Limit",
          "Sensor<br>Limit",
          "Sensor<br>Limit",
          "Sensor<br>Limit",
          "Sensor<br>Limit",
          "Sensor<br>Limit",
          "Sensor<br>Limit",
          "Sensor<br>Limit",
          "Sensor<br>Limit",
          "Sensor<br>Limit",
          "Sensor<br>Limit",
          "Sensor<br>Limit",
          "Sensor<br>Limit",
          "Sensor<br>Limit",
          "Sensor<br>Limit",
          "Sensor<br>Limit",
          "Sensor<br>Limit",
          "Sensor<br>Limit",
          "Sensor<br>Limit",
          "Sensor<br>Limit",
          "Sensor<br>Limit",
          "Sensor<br>Limit",
          "Sensor<br>Limit",
          "Sensor<br>Limit",
          "Sensor<br>Limit",
          "Sensor<br>Limit",
          "Sensor<br>Limit",
          "Sensor<br>Limit",
          "Sensor<br>Limit",
          "Sensor<br>Limit",
          "Sensor<br>Limit",
          "Sensor<br>Limit",
          "Sensor<br>Limit",
          "Sensor<br>Limit",
          "Sensor<br>Limit",
          "Speed<br>Max",
          "Speed<br>Max",
          "Speed<br>Max",
          "Speed<br>Max",
          "Speed<br>Max",
          "Speed<br>Max",
          "Speed<br>Max",
          "Speed<br>Max",
          "Speed<br>Max",
          "Speed<br>Max",
          "Speed<br>Max",
          "Speed<br>Max",
          "Speed<br>Max",
          "Speed<br>Max",
          "Speed<br>Max",
          "Speed<br>Max",
          "Speed<br>Max",
          "Speed<br>Max",
          "Speed<br>Max",
          "Speed<br>Max",
          "Speed<br>Max",
          "Speed<br>Max",
          "Speed<br>Max",
          "Speed<br>Max",
          "Speed<br>Max",
          "Speed<br>Max",
          "Speed<br>Max",
          "Speed<br>Max",
          "Speed<br>Max",
          "Speed<br>Max",
          "Speed<br>Max",
          "Speed<br>Max",
          "Speed<br>Max",
          "Speed<br>Max",
          "Speed<br>Max",
          "Speed<br>Max",
          "Speed<br>Max",
          "Speed<br>Max",
          "Speed<br>Max",
          "Speed<br>Max",
          "Speed<br>Max",
          "Speed<br>Max",
          "Speed<br>Max",
          "Speed<br>Max",
          "Speed<br>Max",
          "Speed<br>Max",
          "Speed<br>Max",
          "Speed<br>Max",
          "Speed<br>Max",
          "Speed<br>Max",
          "Speed<br>Slope",
          "Speed<br>Slope",
          "Speed<br>Slope",
          "Speed<br>Slope",
          "Speed<br>Slope",
          "Speed<br>Slope",
          "Speed<br>Slope",
          "Speed<br>Slope",
          "Speed<br>Slope",
          "Speed<br>Slope",
          "Speed<br>Slope",
          "Speed<br>Slope",
          "Speed<br>Slope",
          "Speed<br>Slope",
          "Speed<br>Slope",
          "Speed<br>Slope",
          "Speed<br>Slope",
          "Speed<br>Slope",
          "Speed<br>Slope",
          "Speed<br>Slope",
          "Speed<br>Slope",
          "Speed<br>Slope",
          "Speed<br>Slope",
          "Speed<br>Slope",
          "Speed<br>Slope",
          "Speed<br>Slope",
          "Speed<br>Slope",
          "Speed<br>Slope",
          "Speed<br>Slope",
          "Speed<br>Slope",
          "Speed<br>Slope",
          "Speed<br>Slope",
          "Speed<br>Slope",
          "Speed<br>Slope",
          "Speed<br>Slope",
          "Speed<br>Slope",
          "Speed<br>Slope",
          "Speed<br>Slope",
          "Speed<br>Slope",
          "Speed<br>Slope",
          "Speed<br>Slope",
          "Speed<br>Slope",
          "Speed<br>Slope",
          "Speed<br>Slope",
          "Speed<br>Slope",
          "Speed<br>Slope",
          "Speed<br>Slope",
          "Speed<br>Slope",
          "Speed<br>Slope",
          "Speed<br>Slope",
          "Speed<br>Intercept",
          "Speed<br>Intercept",
          "Speed<br>Intercept",
          "Speed<br>Intercept",
          "Speed<br>Intercept",
          "Speed<br>Intercept",
          "Speed<br>Intercept",
          "Speed<br>Intercept",
          "Speed<br>Intercept",
          "Speed<br>Intercept",
          "Speed<br>Intercept",
          "Speed<br>Intercept",
          "Speed<br>Intercept",
          "Speed<br>Intercept",
          "Speed<br>Intercept",
          "Speed<br>Intercept",
          "Speed<br>Intercept",
          "Speed<br>Intercept",
          "Speed<br>Intercept",
          "Speed<br>Intercept",
          "Speed<br>Intercept",
          "Speed<br>Intercept",
          "Speed<br>Intercept",
          "Speed<br>Intercept",
          "Speed<br>Intercept",
          "Speed<br>Intercept",
          "Speed<br>Intercept",
          "Speed<br>Intercept",
          "Speed<br>Intercept",
          "Speed<br>Intercept",
          "Speed<br>Intercept",
          "Speed<br>Intercept",
          "Speed<br>Intercept",
          "Speed<br>Intercept",
          "Speed<br>Intercept",
          "Speed<br>Intercept",
          "Speed<br>Intercept",
          "Speed<br>Intercept",
          "Speed<br>Intercept",
          "Speed<br>Intercept",
          "Speed<br>Intercept",
          "Speed<br>Intercept",
          "Speed<br>Intercept",
          "Speed<br>Intercept",
          "Speed<br>Intercept",
          "Speed<br>Intercept",
          "Speed<br>Intercept",
          "Speed<br>Intercept",
          "Speed<br>Intercept",
          "Speed<br>Intercept"
         ],
         "x0": " ",
         "xaxis": "x",
         "y": [
          0.1535198712424581,
          0.1535198712424581,
          0.1535198712424581,
          0.1535198712424581,
          0.144693971127671,
          0.144693971127671,
          0.1484354994450009,
          0.1484354994450009,
          0.1535198712424581,
          0.1548262064292623,
          0.1308445620228481,
          0.1535198712424581,
          0.146086331953562,
          0.1484354994450009,
          0.1311038935985846,
          0.1535198712424581,
          0.1535198712424581,
          0.1645897138916695,
          0.1444902687915903,
          0.1484354994450009,
          0.1415371334857229,
          0.1853398828568681,
          0.1406001815272199,
          0.1406001815272199,
          0.1406001815272199,
          0.1406001815272199,
          0.1406001815272199,
          0.1406001815272199,
          0.1499901880220036,
          0.1444902687915903,
          0.1280664741942092,
          0.147517441890923,
          0.1535198712424581,
          0.1484354994450009,
          0.1484354994450009,
          0.1254363491979542,
          0.1420425988448673,
          0.1311038935985846,
          0.1308445620228481,
          0.1420425988448673,
          0.186443782516391,
          0.1311038935985846,
          0.1308445620228481,
          0.1308445620228481,
          0.1311038935985846,
          0.1535198712424581,
          0.1406001815272199,
          0.144693971127671,
          0.1406001815272199,
          0.1328063193892819,
          0.2825867429777678,
          0.2825867429777678,
          0.2825867429777678,
          0.2825867429777678,
          0.269704975120402,
          0.269704975120402,
          0.2595255825588936,
          0.2595255825588936,
          0.2825867429777678,
          0.269704975120402,
          0.2405049345803495,
          0.3104869359616353,
          0.4579386527498499,
          0.3058788876374634,
          0.2722045311076728,
          0.2825867429777678,
          0.2825867429777678,
          0.5678574283593629,
          0.2680209715408694,
          0.2595255825588936,
          0.2476707948152315,
          0.2166133732014783,
          0.2656243968751238,
          0.2656243968751238,
          0.2656243968751238,
          0.2656243968751238,
          0.2656243968751238,
          0.2656243968751238,
          0.2405049345803495,
          0.2444226344986243,
          0.3225824533878198,
          0.3648072507901508,
          0.3225824533878198,
          0.3396031765065757,
          0.2137136251452308,
          0.2716440700917216,
          0.2719470185037289,
          0.2716440700917216,
          0.2489923088669315,
          0.2719470185037289,
          0.5678574283593629,
          0.2236372288976122,
          0.2405049345803495,
          0.2929007447307513,
          0.2716440700917216,
          0.2825867429777678,
          0.2064328916558158,
          0.3042091406192317,
          0.2743042172306786,
          0.3358927281773212,
          0.6922667499878258,
          0.6922667499878258,
          0.854172649925634,
          0.8565670166649144,
          0.808773442250631,
          0.808773442250631,
          0.7522369675025938,
          0.7522369675025938,
          0.8565670166649144,
          0.7999300974580041,
          0.8754161651953438,
          0.7933864436457962,
          0.9093542015045276,
          0.6941368503010567,
          0.787184780085245,
          0.8565670166649144,
          0.8565670166649144,
          0.2749244362797768,
          0.8996559546188557,
          0.7805934655140071,
          0.9418195152651638,
          0.9772124612164244,
          1,
          1,
          1,
          1,
          1,
          0.8652991717585128,
          0.8875933435552485,
          0.8996559546188557,
          0.7862283628905725,
          1,
          0.789461801867358,
          0.7522369675025938,
          0.7854948892714496,
          0.75365240976026,
          0.787562849486269,
          0.6551092314237741,
          0.7310053956361697,
          0.7673167676162331,
          0.3095550291826356,
          0.8785231338739382,
          0.7555731021694433,
          0.7922577706670583,
          0.5734338048855643,
          0.8565670166649144,
          0.9751275817248388,
          0.7486326815725812,
          0.9751275817248388,
          0.7539320625800106,
          0.2572097979790924,
          0.2572097979790924,
          0.4392639529167637,
          0.192225632004246,
          0.0606391837832164,
          0.0606391837832164,
          0.5717579055249556,
          0.5717579055249556,
          0.1603525619773904,
          0.1498421788849004,
          0.8236352742563902,
          0.2572097979790924,
          0.2662121822622243,
          0.7357503058541702,
          0.2747978403488889,
          0.0626967240179962,
          0.2572097979790924,
          0.0573701005131087,
          0.4461264629293282,
          0.5435173344883268,
          0.1265165282870831,
          0.0983278255534627,
          0.2860724122179592,
          0.2860724122179592,
          0.3349247651440629,
          0.3411863708715524,
          0.3443324745125159,
          0.1084379101242113,
          0.8906252958288178,
          0.4823690541846388,
          0.3370156336563633,
          0.4598381047409515,
          0.3370156336563633,
          0.5156193791036481,
          0.8228054628055257,
          0.2568684548988756,
          0.4370103917662676,
          0.3265566010871787,
          0.8236352742563902,
          0.4682409705117061,
          0.112668883548992,
          0.4777523873878614,
          0.5826301984964432,
          0.8222976163020427,
          0.0449073292758803,
          0.3260112554396238,
          0.2115580438296362,
          0.0606391837832164,
          0.1801225049050367,
          0.4116974638557003,
          1,
          1,
          0.933279905266825,
          1,
          0.9513880684047826,
          0.935790281825775,
          0.715288927068949,
          0.720050149012514,
          0.962183998219762,
          0.9513880684047826,
          0.5989571820064304,
          1,
          0.8545938958971101,
          0.5147501173250677,
          0.6388736721807444,
          1,
          0.962183998219762,
          0.8278605114504044,
          0.7207399098763053,
          0.7023604192044005,
          0.9643642096944444,
          1,
          1,
          0.9500955799935696,
          1,
          1,
          0.9165976680752108,
          1,
          0.7174304743793903,
          0.721636266160283,
          0.9606699107653632,
          0.5135678333709713,
          0.9606699107653632,
          0.6294997298284597,
          0.5936138003082985,
          0.5845577650469498,
          0.8999034078132677,
          0.688208596354491,
          0.4584349896229669,
          1,
          0.8753722369014776,
          0.4993435037419465,
          0.6419038898715933,
          0.7327027670870402,
          0.5266591375229926,
          0.962183998219762,
          1,
          1,
          1,
          0.8375504374967369,
          1,
          1,
          0.9919963232502644,
          0.97656700326612,
          0.8377111681698782,
          0.8377111681698782,
          0.7869833059019263,
          0.7869833059019263,
          0.97656700326612,
          0.8196755665933845,
          0.7320412755692992,
          0.9405623357639228,
          1,
          1,
          0.6059184158411182,
          0.97656700326612,
          0.9954900330830316,
          0.8291579819733382,
          0.6788008893556614,
          0.7869833059019263,
          0.8380528642673325,
          0.8490446130226266,
          0.642952907895943,
          0.642952907895943,
          0.642952907895943,
          0.642952907895943,
          0.642952907895943,
          0.642952907895943,
          0.6317866802204907,
          0.6788008893556614,
          1,
          0.8653920286192918,
          1,
          0.7869833059019263,
          0.7869833059019263,
          0.6059184158411182,
          0.9783912705537012,
          0.5972274187857338,
          0.7320412755692992,
          0.9783912705537012,
          0.7205666035798878,
          0.6059184158411182,
          0.7158687556663668,
          0.7110294886441288,
          0.6059184158411182,
          0.9981890862750108,
          0.618563381813451,
          0.8377111681698782,
          0.618563381813451,
          0.9640495049581408,
          0.2151126134440971,
          0.2151126134440971,
          0.2151126134440971,
          0.2147643862032035,
          0.2307293274803281,
          0.2307293274803281,
          0.2488571460490496,
          0.2488571460490496,
          0.2147643862032035,
          0.2307293274803281,
          0.2839507740510286,
          0.2147643862032035,
          0.2151126134440971,
          0.2488571460490496,
          0.326636566645909,
          0.2147643862032035,
          0.2147643862032035,
          0.2307293274803281,
          0.2875344081332388,
          0.2488571460490496,
          0.2307293274803281,
          0.2151126134440971,
          0.311134561406711,
          0.311134561406711,
          0.311134561406711,
          0.311134561406711,
          0.311134561406711,
          0.311134561406711,
          0.2839507740510286,
          0.2875344081332388,
          0.2151126134440971,
          0.2488571460490496,
          0.2151126134440971,
          0.2488571460490496,
          0.2488571460490496,
          0.326636566645909,
          0.2111021505334354,
          0.326636566645909,
          0.2839507740510286,
          0.2111021505334354,
          0.2307293274803281,
          0.326636566645909,
          0.2839507740510286,
          0.2839507740510286,
          0.326636566645909,
          0.2147643862032035,
          0.311134561406711,
          0.2307293274803281,
          0.311134561406711,
          0.2151126134440971,
          0.2312435722212373,
          0.2312435722212373,
          0.2312435722212373,
          0.2312435722212373,
          0.2118702028181713,
          0.2118702028181713,
          0.1887070978023999,
          0.1887070978023999,
          0.2312435722212373,
          0.2118702028181713,
          0.1449848331147571,
          0.2312435722212373,
          0.2312435722212373,
          0.1887070978023999,
          0.091760918871784,
          0.2312435722212373,
          0.2312435722212373,
          0.2118702028181713,
          0.1395125413535066,
          0.1887070978023999,
          0.2092822980574652,
          0.2312435722212373,
          0.1121799886514527,
          0.1121799886514527,
          0.1121799886514527,
          0.1121799886514527,
          0.1121799886514527,
          0.1121799886514527,
          0.1449848331147571,
          0.1395125413535066,
          0.2312435722212373,
          0.1887070978023999,
          0.2312435722212373,
          0.1887070978023999,
          0.1887070978023999,
          0.091760918871784,
          0.2322297735445101,
          0.091760918871784,
          0.1449848331147571,
          0.2322297735445101,
          0.2118702028181713,
          0.090957365137028,
          0.1449848331147571,
          0.1449848331147571,
          0.091760918871784,
          0.2312435722212373,
          0.1121799886514527,
          0.2118702028181713,
          0.1121799886514527,
          0.2322297735445101
         ],
         "y0": " ",
         "yaxis": "y"
        }
       ],
       "layout": {
        "boxmode": "group",
        "legend": {
         "tracegroupgap": 0
        },
        "margin": {
         "t": 60
        },
        "template": {
         "data": {
          "bar": [
           {
            "error_x": {
             "color": "#2a3f5f"
            },
            "error_y": {
             "color": "#2a3f5f"
            },
            "marker": {
             "line": {
              "color": "white",
              "width": 0.5
             },
             "pattern": {
              "fillmode": "overlay",
              "size": 10,
              "solidity": 0.2
             }
            },
            "type": "bar"
           }
          ],
          "barpolar": [
           {
            "marker": {
             "line": {
              "color": "white",
              "width": 0.5
             },
             "pattern": {
              "fillmode": "overlay",
              "size": 10,
              "solidity": 0.2
             }
            },
            "type": "barpolar"
           }
          ],
          "carpet": [
           {
            "aaxis": {
             "endlinecolor": "#2a3f5f",
             "gridcolor": "#C8D4E3",
             "linecolor": "#C8D4E3",
             "minorgridcolor": "#C8D4E3",
             "startlinecolor": "#2a3f5f"
            },
            "baxis": {
             "endlinecolor": "#2a3f5f",
             "gridcolor": "#C8D4E3",
             "linecolor": "#C8D4E3",
             "minorgridcolor": "#C8D4E3",
             "startlinecolor": "#2a3f5f"
            },
            "type": "carpet"
           }
          ],
          "choropleth": [
           {
            "colorbar": {
             "outlinewidth": 0,
             "ticks": ""
            },
            "type": "choropleth"
           }
          ],
          "contour": [
           {
            "colorbar": {
             "outlinewidth": 0,
             "ticks": ""
            },
            "colorscale": [
             [
              0,
              "#0d0887"
             ],
             [
              0.1111111111111111,
              "#46039f"
             ],
             [
              0.2222222222222222,
              "#7201a8"
             ],
             [
              0.3333333333333333,
              "#9c179e"
             ],
             [
              0.4444444444444444,
              "#bd3786"
             ],
             [
              0.5555555555555556,
              "#d8576b"
             ],
             [
              0.6666666666666666,
              "#ed7953"
             ],
             [
              0.7777777777777778,
              "#fb9f3a"
             ],
             [
              0.8888888888888888,
              "#fdca26"
             ],
             [
              1,
              "#f0f921"
             ]
            ],
            "type": "contour"
           }
          ],
          "contourcarpet": [
           {
            "colorbar": {
             "outlinewidth": 0,
             "ticks": ""
            },
            "type": "contourcarpet"
           }
          ],
          "heatmap": [
           {
            "colorbar": {
             "outlinewidth": 0,
             "ticks": ""
            },
            "colorscale": [
             [
              0,
              "#0d0887"
             ],
             [
              0.1111111111111111,
              "#46039f"
             ],
             [
              0.2222222222222222,
              "#7201a8"
             ],
             [
              0.3333333333333333,
              "#9c179e"
             ],
             [
              0.4444444444444444,
              "#bd3786"
             ],
             [
              0.5555555555555556,
              "#d8576b"
             ],
             [
              0.6666666666666666,
              "#ed7953"
             ],
             [
              0.7777777777777778,
              "#fb9f3a"
             ],
             [
              0.8888888888888888,
              "#fdca26"
             ],
             [
              1,
              "#f0f921"
             ]
            ],
            "type": "heatmap"
           }
          ],
          "heatmapgl": [
           {
            "colorbar": {
             "outlinewidth": 0,
             "ticks": ""
            },
            "colorscale": [
             [
              0,
              "#0d0887"
             ],
             [
              0.1111111111111111,
              "#46039f"
             ],
             [
              0.2222222222222222,
              "#7201a8"
             ],
             [
              0.3333333333333333,
              "#9c179e"
             ],
             [
              0.4444444444444444,
              "#bd3786"
             ],
             [
              0.5555555555555556,
              "#d8576b"
             ],
             [
              0.6666666666666666,
              "#ed7953"
             ],
             [
              0.7777777777777778,
              "#fb9f3a"
             ],
             [
              0.8888888888888888,
              "#fdca26"
             ],
             [
              1,
              "#f0f921"
             ]
            ],
            "type": "heatmapgl"
           }
          ],
          "histogram": [
           {
            "marker": {
             "pattern": {
              "fillmode": "overlay",
              "size": 10,
              "solidity": 0.2
             }
            },
            "type": "histogram"
           }
          ],
          "histogram2d": [
           {
            "colorbar": {
             "outlinewidth": 0,
             "ticks": ""
            },
            "colorscale": [
             [
              0,
              "#0d0887"
             ],
             [
              0.1111111111111111,
              "#46039f"
             ],
             [
              0.2222222222222222,
              "#7201a8"
             ],
             [
              0.3333333333333333,
              "#9c179e"
             ],
             [
              0.4444444444444444,
              "#bd3786"
             ],
             [
              0.5555555555555556,
              "#d8576b"
             ],
             [
              0.6666666666666666,
              "#ed7953"
             ],
             [
              0.7777777777777778,
              "#fb9f3a"
             ],
             [
              0.8888888888888888,
              "#fdca26"
             ],
             [
              1,
              "#f0f921"
             ]
            ],
            "type": "histogram2d"
           }
          ],
          "histogram2dcontour": [
           {
            "colorbar": {
             "outlinewidth": 0,
             "ticks": ""
            },
            "colorscale": [
             [
              0,
              "#0d0887"
             ],
             [
              0.1111111111111111,
              "#46039f"
             ],
             [
              0.2222222222222222,
              "#7201a8"
             ],
             [
              0.3333333333333333,
              "#9c179e"
             ],
             [
              0.4444444444444444,
              "#bd3786"
             ],
             [
              0.5555555555555556,
              "#d8576b"
             ],
             [
              0.6666666666666666,
              "#ed7953"
             ],
             [
              0.7777777777777778,
              "#fb9f3a"
             ],
             [
              0.8888888888888888,
              "#fdca26"
             ],
             [
              1,
              "#f0f921"
             ]
            ],
            "type": "histogram2dcontour"
           }
          ],
          "mesh3d": [
           {
            "colorbar": {
             "outlinewidth": 0,
             "ticks": ""
            },
            "type": "mesh3d"
           }
          ],
          "parcoords": [
           {
            "line": {
             "colorbar": {
              "outlinewidth": 0,
              "ticks": ""
             }
            },
            "type": "parcoords"
           }
          ],
          "pie": [
           {
            "automargin": true,
            "type": "pie"
           }
          ],
          "scatter": [
           {
            "fillpattern": {
             "fillmode": "overlay",
             "size": 10,
             "solidity": 0.2
            },
            "type": "scatter"
           }
          ],
          "scatter3d": [
           {
            "line": {
             "colorbar": {
              "outlinewidth": 0,
              "ticks": ""
             }
            },
            "marker": {
             "colorbar": {
              "outlinewidth": 0,
              "ticks": ""
             }
            },
            "type": "scatter3d"
           }
          ],
          "scattercarpet": [
           {
            "marker": {
             "colorbar": {
              "outlinewidth": 0,
              "ticks": ""
             }
            },
            "type": "scattercarpet"
           }
          ],
          "scattergeo": [
           {
            "marker": {
             "colorbar": {
              "outlinewidth": 0,
              "ticks": ""
             }
            },
            "type": "scattergeo"
           }
          ],
          "scattergl": [
           {
            "marker": {
             "colorbar": {
              "outlinewidth": 0,
              "ticks": ""
             }
            },
            "type": "scattergl"
           }
          ],
          "scattermapbox": [
           {
            "marker": {
             "colorbar": {
              "outlinewidth": 0,
              "ticks": ""
             }
            },
            "type": "scattermapbox"
           }
          ],
          "scatterpolar": [
           {
            "marker": {
             "colorbar": {
              "outlinewidth": 0,
              "ticks": ""
             }
            },
            "type": "scatterpolar"
           }
          ],
          "scatterpolargl": [
           {
            "marker": {
             "colorbar": {
              "outlinewidth": 0,
              "ticks": ""
             }
            },
            "type": "scatterpolargl"
           }
          ],
          "scatterternary": [
           {
            "marker": {
             "colorbar": {
              "outlinewidth": 0,
              "ticks": ""
             }
            },
            "type": "scatterternary"
           }
          ],
          "surface": [
           {
            "colorbar": {
             "outlinewidth": 0,
             "ticks": ""
            },
            "colorscale": [
             [
              0,
              "#0d0887"
             ],
             [
              0.1111111111111111,
              "#46039f"
             ],
             [
              0.2222222222222222,
              "#7201a8"
             ],
             [
              0.3333333333333333,
              "#9c179e"
             ],
             [
              0.4444444444444444,
              "#bd3786"
             ],
             [
              0.5555555555555556,
              "#d8576b"
             ],
             [
              0.6666666666666666,
              "#ed7953"
             ],
             [
              0.7777777777777778,
              "#fb9f3a"
             ],
             [
              0.8888888888888888,
              "#fdca26"
             ],
             [
              1,
              "#f0f921"
             ]
            ],
            "type": "surface"
           }
          ],
          "table": [
           {
            "cells": {
             "fill": {
              "color": "#EBF0F8"
             },
             "line": {
              "color": "white"
             }
            },
            "header": {
             "fill": {
              "color": "#C8D4E3"
             },
             "line": {
              "color": "white"
             }
            },
            "type": "table"
           }
          ]
         },
         "layout": {
          "annotationdefaults": {
           "arrowcolor": "#2a3f5f",
           "arrowhead": 0,
           "arrowwidth": 1
          },
          "autotypenumbers": "strict",
          "coloraxis": {
           "colorbar": {
            "outlinewidth": 0,
            "ticks": ""
           }
          },
          "colorscale": {
           "diverging": [
            [
             0,
             "#8e0152"
            ],
            [
             0.1,
             "#c51b7d"
            ],
            [
             0.2,
             "#de77ae"
            ],
            [
             0.3,
             "#f1b6da"
            ],
            [
             0.4,
             "#fde0ef"
            ],
            [
             0.5,
             "#f7f7f7"
            ],
            [
             0.6,
             "#e6f5d0"
            ],
            [
             0.7,
             "#b8e186"
            ],
            [
             0.8,
             "#7fbc41"
            ],
            [
             0.9,
             "#4d9221"
            ],
            [
             1,
             "#276419"
            ]
           ],
           "sequential": [
            [
             0,
             "#0d0887"
            ],
            [
             0.1111111111111111,
             "#46039f"
            ],
            [
             0.2222222222222222,
             "#7201a8"
            ],
            [
             0.3333333333333333,
             "#9c179e"
            ],
            [
             0.4444444444444444,
             "#bd3786"
            ],
            [
             0.5555555555555556,
             "#d8576b"
            ],
            [
             0.6666666666666666,
             "#ed7953"
            ],
            [
             0.7777777777777778,
             "#fb9f3a"
            ],
            [
             0.8888888888888888,
             "#fdca26"
            ],
            [
             1,
             "#f0f921"
            ]
           ],
           "sequentialminus": [
            [
             0,
             "#0d0887"
            ],
            [
             0.1111111111111111,
             "#46039f"
            ],
            [
             0.2222222222222222,
             "#7201a8"
            ],
            [
             0.3333333333333333,
             "#9c179e"
            ],
            [
             0.4444444444444444,
             "#bd3786"
            ],
            [
             0.5555555555555556,
             "#d8576b"
            ],
            [
             0.6666666666666666,
             "#ed7953"
            ],
            [
             0.7777777777777778,
             "#fb9f3a"
            ],
            [
             0.8888888888888888,
             "#fdca26"
            ],
            [
             1,
             "#f0f921"
            ]
           ]
          },
          "colorway": [
           "#636efa",
           "#EF553B",
           "#00cc96",
           "#ab63fa",
           "#FFA15A",
           "#19d3f3",
           "#FF6692",
           "#B6E880",
           "#FF97FF",
           "#FECB52"
          ],
          "font": {
           "color": "#2a3f5f"
          },
          "geo": {
           "bgcolor": "white",
           "lakecolor": "white",
           "landcolor": "white",
           "showlakes": true,
           "showland": true,
           "subunitcolor": "#C8D4E3"
          },
          "hoverlabel": {
           "align": "left"
          },
          "hovermode": "closest",
          "mapbox": {
           "style": "light"
          },
          "paper_bgcolor": "white",
          "plot_bgcolor": "white",
          "polar": {
           "angularaxis": {
            "gridcolor": "#EBF0F8",
            "linecolor": "#EBF0F8",
            "ticks": ""
           },
           "bgcolor": "white",
           "radialaxis": {
            "gridcolor": "#EBF0F8",
            "linecolor": "#EBF0F8",
            "ticks": ""
           }
          },
          "scene": {
           "xaxis": {
            "backgroundcolor": "white",
            "gridcolor": "#DFE8F3",
            "gridwidth": 2,
            "linecolor": "#EBF0F8",
            "showbackground": true,
            "ticks": "",
            "zerolinecolor": "#EBF0F8"
           },
           "yaxis": {
            "backgroundcolor": "white",
            "gridcolor": "#DFE8F3",
            "gridwidth": 2,
            "linecolor": "#EBF0F8",
            "showbackground": true,
            "ticks": "",
            "zerolinecolor": "#EBF0F8"
           },
           "zaxis": {
            "backgroundcolor": "white",
            "gridcolor": "#DFE8F3",
            "gridwidth": 2,
            "linecolor": "#EBF0F8",
            "showbackground": true,
            "ticks": "",
            "zerolinecolor": "#EBF0F8"
           }
          },
          "shapedefaults": {
           "line": {
            "color": "#2a3f5f"
           }
          },
          "ternary": {
           "aaxis": {
            "gridcolor": "#DFE8F3",
            "linecolor": "#A2B1C6",
            "ticks": ""
           },
           "baxis": {
            "gridcolor": "#DFE8F3",
            "linecolor": "#A2B1C6",
            "ticks": ""
           },
           "bgcolor": "white",
           "caxis": {
            "gridcolor": "#DFE8F3",
            "linecolor": "#A2B1C6",
            "ticks": ""
           }
          },
          "title": {
           "x": 0.05
          },
          "xaxis": {
           "automargin": true,
           "gridcolor": "#EBF0F8",
           "linecolor": "#EBF0F8",
           "ticks": "",
           "title": {
            "standoff": 15
           },
           "zerolinecolor": "#EBF0F8",
           "zerolinewidth": 2
          },
          "yaxis": {
           "automargin": true,
           "gridcolor": "#EBF0F8",
           "linecolor": "#EBF0F8",
           "ticks": "",
           "title": {
            "standoff": 15
           },
           "zerolinecolor": "#EBF0F8",
           "zerolinewidth": 2
          }
         }
        },
        "title": {
         "text": "Evolved Parameters of Top 5% of Population"
        },
        "xaxis": {
         "anchor": "y",
         "domain": [
          0,
          1
         ],
         "title": {
          "text": ""
         }
        },
        "yaxis": {
         "anchor": "x",
         "domain": [
          0,
          1
         ],
         "showticklabels": false,
         "title": {
          "text": ""
         }
        }
       }
      }
     },
     "metadata": {},
     "output_type": "display_data"
    }
   ],
   "source": [
    "columns = [f\"{name} Genome\" for name in limits.keys()]\n",
    "labels = [\"<br>\".join(name.split(\" \")[:2]) for name in columns]\n",
    "\n",
    "df_temp = df[columns]\n",
    "df_temp.columns = labels\n",
    "\n",
    "fig = px.strip(df_temp)\n",
    "\n",
    "# # fig.add_trace(px.parallel_coordinates(df_temp).data[0])\n",
    "# fig.add_parcoords(\n",
    "#     line_color=\"blue\",\n",
    "#     dimensions=list(\n",
    "#         [\n",
    "#             dict(range=[0, 1], values=df_temp[labels[0]], tickvals=[]),\n",
    "#             dict(range=[0, 1], values=df_temp[labels[1]], tickvals=[]),\n",
    "#             dict(range=[0, 1], values=df_temp[labels[2]], tickvals=[]),\n",
    "#             dict(range=[0, 1], values=df_temp[labels[3]], tickvals=[]),\n",
    "#             dict(range=[0, 1], values=df_temp[labels[4]], tickvals=[]),\n",
    "#             dict(range=[0, 1], values=df_temp[labels[5]], tickvals=[]),\n",
    "#             dict(range=[0, 1], values=df_temp[labels[6]], tickvals=[]),\n",
    "#             dict(range=[0, 1], values=df_temp[labels[7]], tickvals=[]),\n",
    "#         ]\n",
    "#     ),\n",
    "#     domain=dict(x=[0.06, 0.94]),\n",
    "# )\n",
    "\n",
    "fig.update_layout(\n",
    "    title=\"Evolved Parameters of Top 5% of Population\",\n",
    "    yaxis_showticklabels=False,\n",
    "    yaxis_title=\"\",\n",
    "    xaxis_title=\"\",\n",
    ")\n",
    "\n",
    "fig.show()\n",
    "\n",
    "# # fig = px.parallel_coordinates(df, labels=names, template=\"plotly_white\")\n",
    "# fig = px.parallel_coordinates(df_temp, template=\"plotly_white\")\n",
    "# fig.update_yaxes(range=[0, 1])\n",
    "# fig.show()"
   ]
  },
  {
   "cell_type": "code",
   "execution_count": 107,
   "metadata": {},
   "outputs": [
    {
     "name": "stderr",
     "output_type": "stream",
     "text": [
      "/var/folders/rb/yxfb87ys3w7934_vzlq4tfgc0000gp/T/ipykernel_54397/3361696343.py:4: FutureWarning:\n",
      "\n",
      "In a future version of pandas all arguments of DataFrame.dropna will be keyword-only.\n",
      "\n"
     ]
    },
    {
     "data": {
      "application/vnd.plotly.v1+json": {
       "config": {
        "plotlyServerURL": "https://plot.ly"
       },
       "data": [
        {
         "coloraxis": "coloraxis",
         "hovertemplate": "x: %{x}<br>y: %{y}<br>color: %{z}<extra></extra>",
         "name": "0",
         "texttemplate": "%{z}",
         "type": "heatmap",
         "x": [
          "Wheel<br>Radius",
          "Chassis<br>Length",
          "Suspension<br>Frequency",
          "Suspension<br>Damping",
          "Sensor<br>Limit",
          "Speed<br>Max",
          "Speed<br>Slope",
          "Speed<br>Intercept"
         ],
         "xaxis": "x",
         "y": [
          "Wheel<br>Radius",
          "Chassis<br>Length",
          "Suspension<br>Frequency",
          "Suspension<br>Damping",
          "Sensor<br>Limit",
          "Speed<br>Max",
          "Speed<br>Slope",
          "Speed<br>Intercept"
         ],
         "yaxis": "y",
         "z": [
          [
           1,
           null,
           null,
           null,
           null,
           null,
           null,
           null
          ],
          [
           0.4,
           1,
           null,
           null,
           null,
           null,
           null,
           null
          ],
          [
           -0.3,
           -0.6,
           1,
           null,
           null,
           null,
           null,
           null
          ],
          [
           -0.3,
           -0.3,
           0.1,
           1,
           null,
           null,
           null,
           null
          ],
          [
           0.4,
           0.1,
           0.2,
           -0.6,
           1,
           null,
           null,
           null
          ],
          [
           0.4,
           0.2,
           -0.1,
           -0.1,
           0.4,
           1,
           null,
           null
          ],
          [
           -0.6,
           -0.3,
           0.2,
           0.2,
           -0.4,
           -0.9,
           1,
           null
          ],
          [
           0.6,
           0.3,
           -0.2,
           -0.2,
           0.4,
           0.9,
           -1,
           1
          ]
         ]
        }
       ],
       "layout": {
        "coloraxis": {
         "colorscale": [
          [
           0,
           "#0d0887"
          ],
          [
           0.1111111111111111,
           "#46039f"
          ],
          [
           0.2222222222222222,
           "#7201a8"
          ],
          [
           0.3333333333333333,
           "#9c179e"
          ],
          [
           0.4444444444444444,
           "#bd3786"
          ],
          [
           0.5555555555555556,
           "#d8576b"
          ],
          [
           0.6666666666666666,
           "#ed7953"
          ],
          [
           0.7777777777777778,
           "#fb9f3a"
          ],
          [
           0.8888888888888888,
           "#fdca26"
          ],
          [
           1,
           "#f0f921"
          ]
         ]
        },
        "margin": {
         "t": 60
        },
        "template": {
         "data": {
          "bar": [
           {
            "error_x": {
             "color": "#2a3f5f"
            },
            "error_y": {
             "color": "#2a3f5f"
            },
            "marker": {
             "line": {
              "color": "white",
              "width": 0.5
             },
             "pattern": {
              "fillmode": "overlay",
              "size": 10,
              "solidity": 0.2
             }
            },
            "type": "bar"
           }
          ],
          "barpolar": [
           {
            "marker": {
             "line": {
              "color": "white",
              "width": 0.5
             },
             "pattern": {
              "fillmode": "overlay",
              "size": 10,
              "solidity": 0.2
             }
            },
            "type": "barpolar"
           }
          ],
          "carpet": [
           {
            "aaxis": {
             "endlinecolor": "#2a3f5f",
             "gridcolor": "#C8D4E3",
             "linecolor": "#C8D4E3",
             "minorgridcolor": "#C8D4E3",
             "startlinecolor": "#2a3f5f"
            },
            "baxis": {
             "endlinecolor": "#2a3f5f",
             "gridcolor": "#C8D4E3",
             "linecolor": "#C8D4E3",
             "minorgridcolor": "#C8D4E3",
             "startlinecolor": "#2a3f5f"
            },
            "type": "carpet"
           }
          ],
          "choropleth": [
           {
            "colorbar": {
             "outlinewidth": 0,
             "ticks": ""
            },
            "type": "choropleth"
           }
          ],
          "contour": [
           {
            "colorbar": {
             "outlinewidth": 0,
             "ticks": ""
            },
            "colorscale": [
             [
              0,
              "#0d0887"
             ],
             [
              0.1111111111111111,
              "#46039f"
             ],
             [
              0.2222222222222222,
              "#7201a8"
             ],
             [
              0.3333333333333333,
              "#9c179e"
             ],
             [
              0.4444444444444444,
              "#bd3786"
             ],
             [
              0.5555555555555556,
              "#d8576b"
             ],
             [
              0.6666666666666666,
              "#ed7953"
             ],
             [
              0.7777777777777778,
              "#fb9f3a"
             ],
             [
              0.8888888888888888,
              "#fdca26"
             ],
             [
              1,
              "#f0f921"
             ]
            ],
            "type": "contour"
           }
          ],
          "contourcarpet": [
           {
            "colorbar": {
             "outlinewidth": 0,
             "ticks": ""
            },
            "type": "contourcarpet"
           }
          ],
          "heatmap": [
           {
            "colorbar": {
             "outlinewidth": 0,
             "ticks": ""
            },
            "colorscale": [
             [
              0,
              "#0d0887"
             ],
             [
              0.1111111111111111,
              "#46039f"
             ],
             [
              0.2222222222222222,
              "#7201a8"
             ],
             [
              0.3333333333333333,
              "#9c179e"
             ],
             [
              0.4444444444444444,
              "#bd3786"
             ],
             [
              0.5555555555555556,
              "#d8576b"
             ],
             [
              0.6666666666666666,
              "#ed7953"
             ],
             [
              0.7777777777777778,
              "#fb9f3a"
             ],
             [
              0.8888888888888888,
              "#fdca26"
             ],
             [
              1,
              "#f0f921"
             ]
            ],
            "type": "heatmap"
           }
          ],
          "heatmapgl": [
           {
            "colorbar": {
             "outlinewidth": 0,
             "ticks": ""
            },
            "colorscale": [
             [
              0,
              "#0d0887"
             ],
             [
              0.1111111111111111,
              "#46039f"
             ],
             [
              0.2222222222222222,
              "#7201a8"
             ],
             [
              0.3333333333333333,
              "#9c179e"
             ],
             [
              0.4444444444444444,
              "#bd3786"
             ],
             [
              0.5555555555555556,
              "#d8576b"
             ],
             [
              0.6666666666666666,
              "#ed7953"
             ],
             [
              0.7777777777777778,
              "#fb9f3a"
             ],
             [
              0.8888888888888888,
              "#fdca26"
             ],
             [
              1,
              "#f0f921"
             ]
            ],
            "type": "heatmapgl"
           }
          ],
          "histogram": [
           {
            "marker": {
             "pattern": {
              "fillmode": "overlay",
              "size": 10,
              "solidity": 0.2
             }
            },
            "type": "histogram"
           }
          ],
          "histogram2d": [
           {
            "colorbar": {
             "outlinewidth": 0,
             "ticks": ""
            },
            "colorscale": [
             [
              0,
              "#0d0887"
             ],
             [
              0.1111111111111111,
              "#46039f"
             ],
             [
              0.2222222222222222,
              "#7201a8"
             ],
             [
              0.3333333333333333,
              "#9c179e"
             ],
             [
              0.4444444444444444,
              "#bd3786"
             ],
             [
              0.5555555555555556,
              "#d8576b"
             ],
             [
              0.6666666666666666,
              "#ed7953"
             ],
             [
              0.7777777777777778,
              "#fb9f3a"
             ],
             [
              0.8888888888888888,
              "#fdca26"
             ],
             [
              1,
              "#f0f921"
             ]
            ],
            "type": "histogram2d"
           }
          ],
          "histogram2dcontour": [
           {
            "colorbar": {
             "outlinewidth": 0,
             "ticks": ""
            },
            "colorscale": [
             [
              0,
              "#0d0887"
             ],
             [
              0.1111111111111111,
              "#46039f"
             ],
             [
              0.2222222222222222,
              "#7201a8"
             ],
             [
              0.3333333333333333,
              "#9c179e"
             ],
             [
              0.4444444444444444,
              "#bd3786"
             ],
             [
              0.5555555555555556,
              "#d8576b"
             ],
             [
              0.6666666666666666,
              "#ed7953"
             ],
             [
              0.7777777777777778,
              "#fb9f3a"
             ],
             [
              0.8888888888888888,
              "#fdca26"
             ],
             [
              1,
              "#f0f921"
             ]
            ],
            "type": "histogram2dcontour"
           }
          ],
          "mesh3d": [
           {
            "colorbar": {
             "outlinewidth": 0,
             "ticks": ""
            },
            "type": "mesh3d"
           }
          ],
          "parcoords": [
           {
            "line": {
             "colorbar": {
              "outlinewidth": 0,
              "ticks": ""
             }
            },
            "type": "parcoords"
           }
          ],
          "pie": [
           {
            "automargin": true,
            "type": "pie"
           }
          ],
          "scatter": [
           {
            "fillpattern": {
             "fillmode": "overlay",
             "size": 10,
             "solidity": 0.2
            },
            "type": "scatter"
           }
          ],
          "scatter3d": [
           {
            "line": {
             "colorbar": {
              "outlinewidth": 0,
              "ticks": ""
             }
            },
            "marker": {
             "colorbar": {
              "outlinewidth": 0,
              "ticks": ""
             }
            },
            "type": "scatter3d"
           }
          ],
          "scattercarpet": [
           {
            "marker": {
             "colorbar": {
              "outlinewidth": 0,
              "ticks": ""
             }
            },
            "type": "scattercarpet"
           }
          ],
          "scattergeo": [
           {
            "marker": {
             "colorbar": {
              "outlinewidth": 0,
              "ticks": ""
             }
            },
            "type": "scattergeo"
           }
          ],
          "scattergl": [
           {
            "marker": {
             "colorbar": {
              "outlinewidth": 0,
              "ticks": ""
             }
            },
            "type": "scattergl"
           }
          ],
          "scattermapbox": [
           {
            "marker": {
             "colorbar": {
              "outlinewidth": 0,
              "ticks": ""
             }
            },
            "type": "scattermapbox"
           }
          ],
          "scatterpolar": [
           {
            "marker": {
             "colorbar": {
              "outlinewidth": 0,
              "ticks": ""
             }
            },
            "type": "scatterpolar"
           }
          ],
          "scatterpolargl": [
           {
            "marker": {
             "colorbar": {
              "outlinewidth": 0,
              "ticks": ""
             }
            },
            "type": "scatterpolargl"
           }
          ],
          "scatterternary": [
           {
            "marker": {
             "colorbar": {
              "outlinewidth": 0,
              "ticks": ""
             }
            },
            "type": "scatterternary"
           }
          ],
          "surface": [
           {
            "colorbar": {
             "outlinewidth": 0,
             "ticks": ""
            },
            "colorscale": [
             [
              0,
              "#0d0887"
             ],
             [
              0.1111111111111111,
              "#46039f"
             ],
             [
              0.2222222222222222,
              "#7201a8"
             ],
             [
              0.3333333333333333,
              "#9c179e"
             ],
             [
              0.4444444444444444,
              "#bd3786"
             ],
             [
              0.5555555555555556,
              "#d8576b"
             ],
             [
              0.6666666666666666,
              "#ed7953"
             ],
             [
              0.7777777777777778,
              "#fb9f3a"
             ],
             [
              0.8888888888888888,
              "#fdca26"
             ],
             [
              1,
              "#f0f921"
             ]
            ],
            "type": "surface"
           }
          ],
          "table": [
           {
            "cells": {
             "fill": {
              "color": "#EBF0F8"
             },
             "line": {
              "color": "white"
             }
            },
            "header": {
             "fill": {
              "color": "#C8D4E3"
             },
             "line": {
              "color": "white"
             }
            },
            "type": "table"
           }
          ]
         },
         "layout": {
          "annotationdefaults": {
           "arrowcolor": "#2a3f5f",
           "arrowhead": 0,
           "arrowwidth": 1
          },
          "autotypenumbers": "strict",
          "coloraxis": {
           "colorbar": {
            "outlinewidth": 0,
            "ticks": ""
           }
          },
          "colorscale": {
           "diverging": [
            [
             0,
             "#8e0152"
            ],
            [
             0.1,
             "#c51b7d"
            ],
            [
             0.2,
             "#de77ae"
            ],
            [
             0.3,
             "#f1b6da"
            ],
            [
             0.4,
             "#fde0ef"
            ],
            [
             0.5,
             "#f7f7f7"
            ],
            [
             0.6,
             "#e6f5d0"
            ],
            [
             0.7,
             "#b8e186"
            ],
            [
             0.8,
             "#7fbc41"
            ],
            [
             0.9,
             "#4d9221"
            ],
            [
             1,
             "#276419"
            ]
           ],
           "sequential": [
            [
             0,
             "#0d0887"
            ],
            [
             0.1111111111111111,
             "#46039f"
            ],
            [
             0.2222222222222222,
             "#7201a8"
            ],
            [
             0.3333333333333333,
             "#9c179e"
            ],
            [
             0.4444444444444444,
             "#bd3786"
            ],
            [
             0.5555555555555556,
             "#d8576b"
            ],
            [
             0.6666666666666666,
             "#ed7953"
            ],
            [
             0.7777777777777778,
             "#fb9f3a"
            ],
            [
             0.8888888888888888,
             "#fdca26"
            ],
            [
             1,
             "#f0f921"
            ]
           ],
           "sequentialminus": [
            [
             0,
             "#0d0887"
            ],
            [
             0.1111111111111111,
             "#46039f"
            ],
            [
             0.2222222222222222,
             "#7201a8"
            ],
            [
             0.3333333333333333,
             "#9c179e"
            ],
            [
             0.4444444444444444,
             "#bd3786"
            ],
            [
             0.5555555555555556,
             "#d8576b"
            ],
            [
             0.6666666666666666,
             "#ed7953"
            ],
            [
             0.7777777777777778,
             "#fb9f3a"
            ],
            [
             0.8888888888888888,
             "#fdca26"
            ],
            [
             1,
             "#f0f921"
            ]
           ]
          },
          "colorway": [
           "#636efa",
           "#EF553B",
           "#00cc96",
           "#ab63fa",
           "#FFA15A",
           "#19d3f3",
           "#FF6692",
           "#B6E880",
           "#FF97FF",
           "#FECB52"
          ],
          "font": {
           "color": "#2a3f5f"
          },
          "geo": {
           "bgcolor": "white",
           "lakecolor": "white",
           "landcolor": "white",
           "showlakes": true,
           "showland": true,
           "subunitcolor": "#C8D4E3"
          },
          "hoverlabel": {
           "align": "left"
          },
          "hovermode": "closest",
          "mapbox": {
           "style": "light"
          },
          "paper_bgcolor": "white",
          "plot_bgcolor": "white",
          "polar": {
           "angularaxis": {
            "gridcolor": "#EBF0F8",
            "linecolor": "#EBF0F8",
            "ticks": ""
           },
           "bgcolor": "white",
           "radialaxis": {
            "gridcolor": "#EBF0F8",
            "linecolor": "#EBF0F8",
            "ticks": ""
           }
          },
          "scene": {
           "xaxis": {
            "backgroundcolor": "white",
            "gridcolor": "#DFE8F3",
            "gridwidth": 2,
            "linecolor": "#EBF0F8",
            "showbackground": true,
            "ticks": "",
            "zerolinecolor": "#EBF0F8"
           },
           "yaxis": {
            "backgroundcolor": "white",
            "gridcolor": "#DFE8F3",
            "gridwidth": 2,
            "linecolor": "#EBF0F8",
            "showbackground": true,
            "ticks": "",
            "zerolinecolor": "#EBF0F8"
           },
           "zaxis": {
            "backgroundcolor": "white",
            "gridcolor": "#DFE8F3",
            "gridwidth": 2,
            "linecolor": "#EBF0F8",
            "showbackground": true,
            "ticks": "",
            "zerolinecolor": "#EBF0F8"
           }
          },
          "shapedefaults": {
           "line": {
            "color": "#2a3f5f"
           }
          },
          "ternary": {
           "aaxis": {
            "gridcolor": "#DFE8F3",
            "linecolor": "#A2B1C6",
            "ticks": ""
           },
           "baxis": {
            "gridcolor": "#DFE8F3",
            "linecolor": "#A2B1C6",
            "ticks": ""
           },
           "bgcolor": "white",
           "caxis": {
            "gridcolor": "#DFE8F3",
            "linecolor": "#A2B1C6",
            "ticks": ""
           }
          },
          "title": {
           "x": 0.05
          },
          "xaxis": {
           "automargin": true,
           "gridcolor": "#EBF0F8",
           "linecolor": "#EBF0F8",
           "ticks": "",
           "title": {
            "standoff": 15
           },
           "zerolinecolor": "#EBF0F8",
           "zerolinewidth": 2
          },
          "yaxis": {
           "automargin": true,
           "gridcolor": "#EBF0F8",
           "linecolor": "#EBF0F8",
           "ticks": "",
           "title": {
            "standoff": 15
           },
           "zerolinecolor": "#EBF0F8",
           "zerolinewidth": 2
          }
         }
        },
        "xaxis": {
         "anchor": "y",
         "constrain": "domain",
         "domain": [
          0,
          1
         ],
         "scaleanchor": "y"
        },
        "yaxis": {
         "anchor": "x",
         "autorange": "reversed",
         "constrain": "domain",
         "domain": [
          0,
          1
         ]
        }
       }
      }
     },
     "metadata": {},
     "output_type": "display_data"
    }
   ],
   "source": [
    "df_corr = df_temp.corr().round(1)\n",
    "mask = np.zeros_like(df_corr, dtype=bool)\n",
    "mask[np.tril_indices_from(mask)] = True\n",
    "df_corr_viz = df_corr.mask(~mask).dropna(how=\"all\").dropna(\"columns\", how=\"all\")\n",
    "fig = px.imshow(df_corr_viz, text_auto=True)\n",
    "fig.show()"
   ]
  },
  {
   "cell_type": "code",
   "execution_count": 104,
   "metadata": {},
   "outputs": [
    {
     "data": {
      "text/plain": [
       "array([[ True,  True,  True,  True,  True,  True,  True,  True],\n",
       "       [False,  True,  True,  True,  True,  True,  True,  True],\n",
       "       [False, False,  True,  True,  True,  True,  True,  True],\n",
       "       [False, False, False,  True,  True,  True,  True,  True],\n",
       "       [False, False, False, False,  True,  True,  True,  True],\n",
       "       [False, False, False, False, False,  True,  True,  True],\n",
       "       [False, False, False, False, False, False,  True,  True],\n",
       "       [False, False, False, False, False, False, False,  True]])"
      ]
     },
     "execution_count": 104,
     "metadata": {},
     "output_type": "execute_result"
    }
   ],
   "source": [
    "mask"
   ]
  },
  {
   "cell_type": "code",
   "execution_count": 121,
   "metadata": {},
   "outputs": [
    {
     "data": {
      "text/plain": [
       "<Axes: >"
      ]
     },
     "execution_count": 121,
     "metadata": {},
     "output_type": "execute_result"
    },
    {
     "data": {
      "image/png": "[encoded data removed]",
      "text/plain": [
       "<Figure size 640x480 with 1 Axes>"
      ]
     },
     "metadata": {},
     "output_type": "display_data"
    }
   ],
   "source": [
    "from pandas.plotting import parallel_coordinates\n",
    "\n",
    "genome_names = [n + \" Genome\" for n in limits.keys()]\n",
    "data = [list(df[n].values) for n in genome_names]\n",
    "data = np.array(data)\n",
    "\n",
    "df_genomes = df[genome_names + [\"Trial\"]]\n",
    "parallel_coordinates(df_genomes, \"Trial\")"
   ]
  },
  {
   "cell_type": "code",
   "execution_count": 122,
   "metadata": {},
   "outputs": [
    {
     "data": {
      "image/png": "[encoded data removed]",
      "text/plain": [
       "<Figure size 2000x500 with 5 Axes>"
      ]
     },
     "metadata": {},
     "output_type": "display_data"
    }
   ],
   "source": [
    "n = len(objectives)\n",
    "\n",
    "fig, axes = plt.subplots(1, n, figsize=(20, 5))\n",
    "\n",
    "# df[\"Index At Rest\"] = df[\"Index At Rest\"].astype(int)\n",
    "\n",
    "for ax, name in zip(axes, objectives.keys()):\n",
    "    lo, hi = objectives[name]\n",
    "    sns.stripplot(y=name, data=df, ax=ax)\n",
    "    ax.set_ylabel(\"\")\n",
    "    ax.set_xlabel(\"\".join(word[:2] for word in name.split(\" \")))\n",
    "    ax.set_ylim(lo, hi)\n",
    "    ax.set_yticks([lo, (lo + hi) / 2, hi])\n",
    "\n",
    "sns.despine()"
   ]
  },
  {
   "cell_type": "code",
   "execution_count": 123,
   "metadata": {},
   "outputs": [],
   "source": [
    "# parallelCoordinatesPlot(\n",
    "#     title=\"title\",\n",
    "#     N=len(df_genomes),\n",
    "#     data=data,\n",
    "#     category=df_genomes[\"cat\"].astype(\"int\"),\n",
    "#     ynames=[\"\".join(w[:2] for w in n.split(\" \")[:2]) for n in genome_names],\n",
    "# )"
   ]
  },
  {
   "cell_type": "code",
   "execution_count": 124,
   "metadata": {},
   "outputs": [],
   "source": [
    "# def parallelCoordinatesPlot(\n",
    "#     title, N, data, category, ynames, colors=None, category_names=None\n",
    "# ):\n",
    "#     \"\"\"\n",
    "#     A legend is added, if category_names is not None.\n",
    "\n",
    "#     :param title: The title of the plot.\n",
    "#     :param N: Number of data sets (i.e., lines).\n",
    "#     :param data: A list containing one array per parallel axis, each containing N data points.\n",
    "#     :param category: An array containing the category of each data set.\n",
    "#     :param category_names: Labels of the categories. Must have the same length as set(category).\n",
    "#     :param ynames: The labels of the parallel axes.\n",
    "#     :param colors: A colormap to use.\n",
    "#     :return:\n",
    "#     \"\"\"\n",
    "\n",
    "#     fig, host = plt.subplots()\n",
    "\n",
    "#     # organize the data\n",
    "#     ys = np.dstack(data)[0]\n",
    "#     ymins = ys.min(axis=0)\n",
    "#     ymaxs = ys.max(axis=0)\n",
    "#     dys = ymaxs - ymins\n",
    "#     ymins -= dys * 0.05  # add 5% padding below and above\n",
    "#     ymaxs += dys * 0.05\n",
    "#     dys = ymaxs - ymins\n",
    "\n",
    "#     # transform all data to be compatible with the main axis\n",
    "#     zs = np.zeros_like(ys)\n",
    "#     zs[:, 0] = ys[:, 0]\n",
    "#     zs[:, 1:] = (ys[:, 1:] - ymins[1:]) / dys[1:] * dys[0] + ymins[0]\n",
    "\n",
    "#     axes = [host] + [host.twinx() for i in range(ys.shape[1] - 1)]\n",
    "#     for i, ax in enumerate(axes):\n",
    "#         # ax.set_ylim(ymins[i], ymaxs[i])\n",
    "#         ax.set_ylim(0, 1)\n",
    "#         ax.spines[\"top\"].set_visible(False)\n",
    "#         ax.spines[\"bottom\"].set_visible(False)\n",
    "#         if ax != host:\n",
    "#             ax.spines[\"left\"].set_visible(False)\n",
    "#             ax.yaxis.set_ticks_position(\"right\")\n",
    "#             ax.spines[\"right\"].set_position((\"axes\", i / (ys.shape[1] - 1)))\n",
    "\n",
    "#     host.set_xlim(0, ys.shape[1] - 1)\n",
    "#     host.set_xticks(range(ys.shape[1]))\n",
    "#     host.set_xticklabels(ynames, fontsize=14)\n",
    "#     host.tick_params(axis=\"x\", which=\"major\", pad=7)\n",
    "#     host.spines[\"right\"].set_visible(False)\n",
    "#     host.xaxis.tick_top()\n",
    "#     host.set_title(title, fontsize=18)\n",
    "\n",
    "#     if colors is None:\n",
    "#         colors = plt.cm.tab10.colors\n",
    "#     if category_names is not None:\n",
    "#         legend_handles = [None for _ in category_names]\n",
    "#     else:\n",
    "#         legend_handles = [None for _ in set(category)]\n",
    "#     for j in range(N):\n",
    "#         # to just draw straight lines between the axes:\n",
    "#         # host.plot(range(ys.shape[1]), zs[j,:], c=colors[(category[j] - 1) % len(colors) ])\n",
    "\n",
    "#         # create bezier curves\n",
    "#         # for each axis, there will a control vertex at the point itself, one at 1/3rd towards the previous and one\n",
    "#         #   at one third towards the next axis; the first and last axis have one less control vertex\n",
    "#         # x-coordinate of the control vertices: at each integer (for the axes) and two inbetween\n",
    "#         # y-coordinate: repeat every point three times, except the first and last only twice\n",
    "#         verts = list(\n",
    "#             zip(\n",
    "#                 [\n",
    "#                     x\n",
    "#                     for x in np.linspace(0, len(ys) - 1, len(ys) * 3 - 2, endpoint=True)\n",
    "#                 ],\n",
    "#                 np.repeat(zs[j, :], 3)[1:-1],\n",
    "#             )\n",
    "#         )\n",
    "#         # for x,y in verts: host.plot(x, y, 'go') # to show the control points of the beziers\n",
    "#         codes = [mplPath.MOVETO] + [mplPath.CURVE4 for _ in range(len(verts) - 1)]\n",
    "#         path = mplPath(verts, codes)\n",
    "#         patch = patches.PathPatch(\n",
    "#             path, facecolor=\"none\", lw=1, edgecolor=colors[category[j] - 1]\n",
    "#         )\n",
    "#         legend_handles[category[j] - 1] = patch\n",
    "#         host.add_patch(patch)\n",
    "\n",
    "#         if category_names is not None:\n",
    "#             host.legend(\n",
    "#                 legend_handles,\n",
    "#                 category_names,\n",
    "#                 loc=\"lower center\",\n",
    "#                 bbox_to_anchor=(0.5, -0.18),\n",
    "#                 ncol=len(category_names),\n",
    "#                 fancybox=True,\n",
    "#                 shadow=True,\n",
    "#             )\n",
    "\n",
    "#     plt.tight_layout()\n",
    "#     plt.show()"
   ]
  }
 ],
 "metadata": {
  "kernelspec": {
   "display_name": "Python 3",
   "language": "python",
   "name": "python3"
  },
  "language_info": {
   "codemirror_mode": {
    "name": "ipython",
    "version": 3
   },
   "file_extension": ".py",
   "mimetype": "text/x-python",
   "name": "python",
   "nbconvert_exporter": "python",
   "pygments_lexer": "ipython3",
   "version": "3.10.9"
  }
 },
 "nbformat": 4,
 "nbformat_minor": 2
}
